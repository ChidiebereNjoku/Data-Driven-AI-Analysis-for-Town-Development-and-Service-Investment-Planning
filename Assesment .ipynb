{
 "cells": [
  {
   "cell_type": "markdown",
   "id": "c42ed6d9",
   "metadata": {},
   "source": [
    "## Importing the needed libaries"
   ]
  },
  {
   "cell_type": "code",
   "execution_count": 1,
   "id": "20e61050",
   "metadata": {},
   "outputs": [],
   "source": [
    "import csv\n",
    "import json\n",
    "import pandas\n",
    "import numpy as np\n",
    "import pandas as pd\n",
    "import matplotlib.pyplot as plt\n",
    "%matplotlib inline\n",
    "import seaborn as sns\n",
    "sns.set()"
   ]
  },
  {
   "cell_type": "markdown",
   "id": "7b503254",
   "metadata": {},
   "source": [
    "## Loading of the data"
   ]
  },
  {
   "cell_type": "code",
   "execution_count": 2,
   "id": "fb9fcde0",
   "metadata": {},
   "outputs": [
    {
     "data": {
      "text/html": [
       "<div>\n",
       "<style scoped>\n",
       "    .dataframe tbody tr th:only-of-type {\n",
       "        vertical-align: middle;\n",
       "    }\n",
       "\n",
       "    .dataframe tbody tr th {\n",
       "        vertical-align: top;\n",
       "    }\n",
       "\n",
       "    .dataframe thead th {\n",
       "        text-align: right;\n",
       "    }\n",
       "</style>\n",
       "<table border=\"1\" class=\"dataframe\">\n",
       "  <thead>\n",
       "    <tr style=\"text-align: right;\">\n",
       "      <th></th>\n",
       "      <th>House Number</th>\n",
       "      <th>Street</th>\n",
       "      <th>First Name</th>\n",
       "      <th>Surname</th>\n",
       "      <th>Age</th>\n",
       "      <th>Relationship to Head of House</th>\n",
       "      <th>Marital Status</th>\n",
       "      <th>Gender</th>\n",
       "      <th>Occupation</th>\n",
       "      <th>Infirmity</th>\n",
       "      <th>Religion</th>\n",
       "    </tr>\n",
       "  </thead>\n",
       "  <tbody>\n",
       "    <tr>\n",
       "      <th>0</th>\n",
       "      <td>1</td>\n",
       "      <td>Scott Dale</td>\n",
       "      <td>Maureen</td>\n",
       "      <td>Cox</td>\n",
       "      <td>50</td>\n",
       "      <td>Head</td>\n",
       "      <td>Single</td>\n",
       "      <td>Female</td>\n",
       "      <td>Engineer, building services</td>\n",
       "      <td>None</td>\n",
       "      <td>Catholic</td>\n",
       "    </tr>\n",
       "    <tr>\n",
       "      <th>1</th>\n",
       "      <td>1</td>\n",
       "      <td>Scott Dale</td>\n",
       "      <td>Rhys</td>\n",
       "      <td>Brown</td>\n",
       "      <td>52</td>\n",
       "      <td>Partner</td>\n",
       "      <td>Single</td>\n",
       "      <td>Male</td>\n",
       "      <td>Engineer, mining</td>\n",
       "      <td>None</td>\n",
       "      <td>Catholic</td>\n",
       "    </tr>\n",
       "    <tr>\n",
       "      <th>2</th>\n",
       "      <td>2</td>\n",
       "      <td>Scott Dale</td>\n",
       "      <td>Lorraine</td>\n",
       "      <td>Allen</td>\n",
       "      <td>69</td>\n",
       "      <td>Head</td>\n",
       "      <td>Married</td>\n",
       "      <td>Female</td>\n",
       "      <td>Unemployed</td>\n",
       "      <td>None</td>\n",
       "      <td>Methodist</td>\n",
       "    </tr>\n",
       "    <tr>\n",
       "      <th>3</th>\n",
       "      <td>2</td>\n",
       "      <td>Scott Dale</td>\n",
       "      <td>Lewis</td>\n",
       "      <td>Allen</td>\n",
       "      <td>72</td>\n",
       "      <td>Husband</td>\n",
       "      <td>Married</td>\n",
       "      <td>Male</td>\n",
       "      <td>Retired Associate Professor</td>\n",
       "      <td>None</td>\n",
       "      <td>Methodist</td>\n",
       "    </tr>\n",
       "    <tr>\n",
       "      <th>4</th>\n",
       "      <td>3</td>\n",
       "      <td>Scott Dale</td>\n",
       "      <td>Molly</td>\n",
       "      <td>Patel</td>\n",
       "      <td>36</td>\n",
       "      <td>Head</td>\n",
       "      <td>Married</td>\n",
       "      <td>Female</td>\n",
       "      <td>Engineer, land</td>\n",
       "      <td>None</td>\n",
       "      <td>None</td>\n",
       "    </tr>\n",
       "    <tr>\n",
       "      <th>...</th>\n",
       "      <td>...</td>\n",
       "      <td>...</td>\n",
       "      <td>...</td>\n",
       "      <td>...</td>\n",
       "      <td>...</td>\n",
       "      <td>...</td>\n",
       "      <td>...</td>\n",
       "      <td>...</td>\n",
       "      <td>...</td>\n",
       "      <td>...</td>\n",
       "      <td>...</td>\n",
       "    </tr>\n",
       "    <tr>\n",
       "      <th>8324</th>\n",
       "      <td>1</td>\n",
       "      <td>Walker Palace</td>\n",
       "      <td>Adrian</td>\n",
       "      <td>Mason</td>\n",
       "      <td>56</td>\n",
       "      <td>Lodger</td>\n",
       "      <td>Single</td>\n",
       "      <td>Male</td>\n",
       "      <td>Unemployed</td>\n",
       "      <td>None</td>\n",
       "      <td>Muslim</td>\n",
       "    </tr>\n",
       "    <tr>\n",
       "      <th>8325</th>\n",
       "      <td>1</td>\n",
       "      <td>Poole Stronghold</td>\n",
       "      <td>Beth</td>\n",
       "      <td>Evans</td>\n",
       "      <td>43</td>\n",
       "      <td>Head</td>\n",
       "      <td>Married</td>\n",
       "      <td>Female</td>\n",
       "      <td>Buyer, retail</td>\n",
       "      <td>None</td>\n",
       "      <td>Christian</td>\n",
       "    </tr>\n",
       "    <tr>\n",
       "      <th>8326</th>\n",
       "      <td>1</td>\n",
       "      <td>Poole Stronghold</td>\n",
       "      <td>Trevor</td>\n",
       "      <td>Evans</td>\n",
       "      <td>43</td>\n",
       "      <td>Husband</td>\n",
       "      <td>Married</td>\n",
       "      <td>Male</td>\n",
       "      <td>Patent examiner</td>\n",
       "      <td>None</td>\n",
       "      <td>Christian</td>\n",
       "    </tr>\n",
       "    <tr>\n",
       "      <th>8327</th>\n",
       "      <td>1</td>\n",
       "      <td>Poole Stronghold</td>\n",
       "      <td>Pamela</td>\n",
       "      <td>Evans</td>\n",
       "      <td>0</td>\n",
       "      <td>Daughter</td>\n",
       "      <td>NaN</td>\n",
       "      <td>Female</td>\n",
       "      <td>Child</td>\n",
       "      <td>None</td>\n",
       "      <td>NaN</td>\n",
       "    </tr>\n",
       "    <tr>\n",
       "      <th>8328</th>\n",
       "      <td>1</td>\n",
       "      <td>Poole Stronghold</td>\n",
       "      <td>Carol</td>\n",
       "      <td>Thomas</td>\n",
       "      <td>24</td>\n",
       "      <td>Sibling</td>\n",
       "      <td>Single</td>\n",
       "      <td>Female</td>\n",
       "      <td>Administrator, charities/voluntary organisations</td>\n",
       "      <td>None</td>\n",
       "      <td>Christian</td>\n",
       "    </tr>\n",
       "  </tbody>\n",
       "</table>\n",
       "<p>8329 rows × 11 columns</p>\n",
       "</div>"
      ],
      "text/plain": [
       "      House Number            Street First Name Surname Age  \\\n",
       "0                1        Scott Dale    Maureen     Cox  50   \n",
       "1                1        Scott Dale       Rhys   Brown  52   \n",
       "2                2        Scott Dale   Lorraine   Allen  69   \n",
       "3                2        Scott Dale      Lewis   Allen  72   \n",
       "4                3        Scott Dale      Molly   Patel  36   \n",
       "...            ...               ...        ...     ...  ..   \n",
       "8324             1     Walker Palace     Adrian   Mason  56   \n",
       "8325             1  Poole Stronghold       Beth   Evans  43   \n",
       "8326             1  Poole Stronghold     Trevor   Evans  43   \n",
       "8327             1  Poole Stronghold     Pamela   Evans   0   \n",
       "8328             1  Poole Stronghold      Carol  Thomas  24   \n",
       "\n",
       "     Relationship to Head of House Marital Status  Gender  \\\n",
       "0                             Head         Single  Female   \n",
       "1                          Partner         Single    Male   \n",
       "2                             Head        Married  Female   \n",
       "3                          Husband        Married    Male   \n",
       "4                             Head        Married  Female   \n",
       "...                            ...            ...     ...   \n",
       "8324                        Lodger         Single    Male   \n",
       "8325                          Head        Married  Female   \n",
       "8326                       Husband        Married    Male   \n",
       "8327                      Daughter            NaN  Female   \n",
       "8328                       Sibling         Single  Female   \n",
       "\n",
       "                                            Occupation Infirmity   Religion  \n",
       "0                          Engineer, building services      None   Catholic  \n",
       "1                                     Engineer, mining      None   Catholic  \n",
       "2                                           Unemployed      None  Methodist  \n",
       "3                          Retired Associate Professor      None  Methodist  \n",
       "4                                       Engineer, land      None       None  \n",
       "...                                                ...       ...        ...  \n",
       "8324                                        Unemployed      None     Muslim  \n",
       "8325                                     Buyer, retail      None  Christian  \n",
       "8326                                   Patent examiner      None  Christian  \n",
       "8327                                             Child      None        NaN  \n",
       "8328  Administrator, charities/voluntary organisations      None  Christian  \n",
       "\n",
       "[8329 rows x 11 columns]"
      ]
     },
     "execution_count": 2,
     "metadata": {},
     "output_type": "execute_result"
    }
   ],
   "source": [
    "census_data=pd.read_csv('census06.csv') #CSV file called 'census06.csv' using the pandas library in Python and assigning it\n",
    "                                        # to a variable called 'census_data'.\n",
    "census_data"
   ]
  },
  {
   "cell_type": "markdown",
   "id": "d07a1a78",
   "metadata": {},
   "source": [
    "## Data Exploration Analysis"
   ]
  },
  {
   "cell_type": "code",
   "execution_count": 3,
   "id": "29864810",
   "metadata": {},
   "outputs": [
    {
     "data": {
      "text/html": [
       "<div>\n",
       "<style scoped>\n",
       "    .dataframe tbody tr th:only-of-type {\n",
       "        vertical-align: middle;\n",
       "    }\n",
       "\n",
       "    .dataframe tbody tr th {\n",
       "        vertical-align: top;\n",
       "    }\n",
       "\n",
       "    .dataframe thead th {\n",
       "        text-align: right;\n",
       "    }\n",
       "</style>\n",
       "<table border=\"1\" class=\"dataframe\">\n",
       "  <thead>\n",
       "    <tr style=\"text-align: right;\">\n",
       "      <th></th>\n",
       "      <th>House Number</th>\n",
       "      <th>Street</th>\n",
       "      <th>First Name</th>\n",
       "      <th>Surname</th>\n",
       "      <th>Age</th>\n",
       "      <th>Relationship to Head of House</th>\n",
       "      <th>Marital Status</th>\n",
       "      <th>Gender</th>\n",
       "      <th>Occupation</th>\n",
       "      <th>Infirmity</th>\n",
       "      <th>Religion</th>\n",
       "    </tr>\n",
       "  </thead>\n",
       "  <tbody>\n",
       "    <tr>\n",
       "      <th>0</th>\n",
       "      <td>1</td>\n",
       "      <td>Scott Dale</td>\n",
       "      <td>Maureen</td>\n",
       "      <td>Cox</td>\n",
       "      <td>50</td>\n",
       "      <td>Head</td>\n",
       "      <td>Single</td>\n",
       "      <td>Female</td>\n",
       "      <td>Engineer, building services</td>\n",
       "      <td>None</td>\n",
       "      <td>Catholic</td>\n",
       "    </tr>\n",
       "    <tr>\n",
       "      <th>1</th>\n",
       "      <td>1</td>\n",
       "      <td>Scott Dale</td>\n",
       "      <td>Rhys</td>\n",
       "      <td>Brown</td>\n",
       "      <td>52</td>\n",
       "      <td>Partner</td>\n",
       "      <td>Single</td>\n",
       "      <td>Male</td>\n",
       "      <td>Engineer, mining</td>\n",
       "      <td>None</td>\n",
       "      <td>Catholic</td>\n",
       "    </tr>\n",
       "    <tr>\n",
       "      <th>2</th>\n",
       "      <td>2</td>\n",
       "      <td>Scott Dale</td>\n",
       "      <td>Lorraine</td>\n",
       "      <td>Allen</td>\n",
       "      <td>69</td>\n",
       "      <td>Head</td>\n",
       "      <td>Married</td>\n",
       "      <td>Female</td>\n",
       "      <td>Unemployed</td>\n",
       "      <td>None</td>\n",
       "      <td>Methodist</td>\n",
       "    </tr>\n",
       "    <tr>\n",
       "      <th>3</th>\n",
       "      <td>2</td>\n",
       "      <td>Scott Dale</td>\n",
       "      <td>Lewis</td>\n",
       "      <td>Allen</td>\n",
       "      <td>72</td>\n",
       "      <td>Husband</td>\n",
       "      <td>Married</td>\n",
       "      <td>Male</td>\n",
       "      <td>Retired Associate Professor</td>\n",
       "      <td>None</td>\n",
       "      <td>Methodist</td>\n",
       "    </tr>\n",
       "    <tr>\n",
       "      <th>4</th>\n",
       "      <td>3</td>\n",
       "      <td>Scott Dale</td>\n",
       "      <td>Molly</td>\n",
       "      <td>Patel</td>\n",
       "      <td>36</td>\n",
       "      <td>Head</td>\n",
       "      <td>Married</td>\n",
       "      <td>Female</td>\n",
       "      <td>Engineer, land</td>\n",
       "      <td>None</td>\n",
       "      <td>None</td>\n",
       "    </tr>\n",
       "  </tbody>\n",
       "</table>\n",
       "</div>"
      ],
      "text/plain": [
       "   House Number      Street First Name Surname Age  \\\n",
       "0             1  Scott Dale    Maureen     Cox  50   \n",
       "1             1  Scott Dale       Rhys   Brown  52   \n",
       "2             2  Scott Dale   Lorraine   Allen  69   \n",
       "3             2  Scott Dale      Lewis   Allen  72   \n",
       "4             3  Scott Dale      Molly   Patel  36   \n",
       "\n",
       "  Relationship to Head of House Marital Status  Gender  \\\n",
       "0                          Head         Single  Female   \n",
       "1                       Partner         Single    Male   \n",
       "2                          Head        Married  Female   \n",
       "3                       Husband        Married    Male   \n",
       "4                          Head        Married  Female   \n",
       "\n",
       "                    Occupation Infirmity   Religion  \n",
       "0  Engineer, building services      None   Catholic  \n",
       "1             Engineer, mining      None   Catholic  \n",
       "2                   Unemployed      None  Methodist  \n",
       "3  Retired Associate Professor      None  Methodist  \n",
       "4               Engineer, land      None       None  "
      ]
     },
     "execution_count": 3,
     "metadata": {},
     "output_type": "execute_result"
    }
   ],
   "source": [
    "census_data.head()#  method is used to display the first 5 rows of the DataFrame stored in the census_data variable. \n",
    "                   #This can give you a quick look at the structure of the data and the column names."
   ]
  },
  {
   "cell_type": "code",
   "execution_count": 4,
   "id": "c25aea75",
   "metadata": {},
   "outputs": [
    {
     "name": "stdout",
     "output_type": "stream",
     "text": [
      "<class 'pandas.core.frame.DataFrame'>\n",
      "RangeIndex: 8329 entries, 0 to 8328\n",
      "Data columns (total 11 columns):\n",
      " #   Column                         Non-Null Count  Dtype \n",
      "---  ------                         --------------  ----- \n",
      " 0   House Number                   8329 non-null   int64 \n",
      " 1   Street                         8329 non-null   object\n",
      " 2   First Name                     8329 non-null   object\n",
      " 3   Surname                        8329 non-null   object\n",
      " 4   Age                            8329 non-null   object\n",
      " 5   Relationship to Head of House  8329 non-null   object\n",
      " 6   Marital Status                 6273 non-null   object\n",
      " 7   Gender                         8329 non-null   object\n",
      " 8   Occupation                     8329 non-null   object\n",
      " 9   Infirmity                      8329 non-null   object\n",
      " 10  Religion                       6224 non-null   object\n",
      "dtypes: int64(1), object(10)\n",
      "memory usage: 715.9+ KB\n"
     ]
    }
   ],
   "source": [
    "census_data.info() #This method tells us alot of information about our data frame like the shape (rows, columns),\n",
    "                   #the data type of our features, and the memory usage."
   ]
  },
  {
   "cell_type": "code",
   "execution_count": 5,
   "id": "0e81dc21",
   "metadata": {},
   "outputs": [
    {
     "data": {
      "text/plain": [
       "Index(['House Number', 'Street', 'First Name', 'Surname', 'Age',\n",
       "       'Relationship to Head of House', 'Marital Status', 'Gender',\n",
       "       'Occupation', 'Infirmity', 'Religion'],\n",
       "      dtype='object')"
      ]
     },
     "execution_count": 5,
     "metadata": {},
     "output_type": "execute_result"
    }
   ],
   "source": [
    "census_data.columns #checking out the available columns i"
   ]
  },
  {
   "cell_type": "code",
   "execution_count": 6,
   "id": "01cf5c8d",
   "metadata": {},
   "outputs": [
    {
     "data": {
      "text/plain": [
       "(8329, 11)"
      ]
     },
     "execution_count": 6,
     "metadata": {},
     "output_type": "execute_result"
    }
   ],
   "source": [
    "census_data.shape #showing the number of rows and columns in the data-set"
   ]
  },
  {
   "cell_type": "code",
   "execution_count": 7,
   "id": "99eab89e",
   "metadata": {},
   "outputs": [
    {
     "data": {
      "text/html": [
       "<div>\n",
       "<style scoped>\n",
       "    .dataframe tbody tr th:only-of-type {\n",
       "        vertical-align: middle;\n",
       "    }\n",
       "\n",
       "    .dataframe tbody tr th {\n",
       "        vertical-align: top;\n",
       "    }\n",
       "\n",
       "    .dataframe thead th {\n",
       "        text-align: right;\n",
       "    }\n",
       "</style>\n",
       "<table border=\"1\" class=\"dataframe\">\n",
       "  <thead>\n",
       "    <tr style=\"text-align: right;\">\n",
       "      <th></th>\n",
       "      <th>House Number</th>\n",
       "    </tr>\n",
       "  </thead>\n",
       "  <tbody>\n",
       "    <tr>\n",
       "      <th>count</th>\n",
       "      <td>8329.000000</td>\n",
       "    </tr>\n",
       "    <tr>\n",
       "      <th>mean</th>\n",
       "      <td>29.340737</td>\n",
       "    </tr>\n",
       "    <tr>\n",
       "      <th>std</th>\n",
       "      <td>35.744848</td>\n",
       "    </tr>\n",
       "    <tr>\n",
       "      <th>min</th>\n",
       "      <td>1.000000</td>\n",
       "    </tr>\n",
       "    <tr>\n",
       "      <th>25%</th>\n",
       "      <td>8.000000</td>\n",
       "    </tr>\n",
       "    <tr>\n",
       "      <th>50%</th>\n",
       "      <td>19.000000</td>\n",
       "    </tr>\n",
       "    <tr>\n",
       "      <th>75%</th>\n",
       "      <td>35.000000</td>\n",
       "    </tr>\n",
       "    <tr>\n",
       "      <th>max</th>\n",
       "      <td>207.000000</td>\n",
       "    </tr>\n",
       "  </tbody>\n",
       "</table>\n",
       "</div>"
      ],
      "text/plain": [
       "       House Number\n",
       "count   8329.000000\n",
       "mean      29.340737\n",
       "std       35.744848\n",
       "min        1.000000\n",
       "25%        8.000000\n",
       "50%       19.000000\n",
       "75%       35.000000\n",
       "max      207.000000"
      ]
     },
     "execution_count": 7,
     "metadata": {},
     "output_type": "execute_result"
    }
   ],
   "source": [
    "census_data.describe() #This method is used to generate descriptive statistics of the DataFrame stored in the census_data variable"
   ]
  },
  {
   "cell_type": "code",
   "execution_count": 8,
   "id": "67ceeaba",
   "metadata": {},
   "outputs": [
    {
     "data": {
      "text/plain": [
       "House Number                      int64\n",
       "Street                           object\n",
       "First Name                       object\n",
       "Surname                          object\n",
       "Age                              object\n",
       "Relationship to Head of House    object\n",
       "Marital Status                   object\n",
       "Gender                           object\n",
       "Occupation                       object\n",
       "Infirmity                        object\n",
       "Religion                         object\n",
       "dtype: object"
      ]
     },
     "execution_count": 8,
     "metadata": {},
     "output_type": "execute_result"
    }
   ],
   "source": [
    "census_data.dtypes #separating our features into numerical and categorical "
   ]
  },
  {
   "cell_type": "markdown",
   "id": "98cd4f33",
   "metadata": {},
   "source": [
    "## checking for missing values in the data"
   ]
  },
  {
   "cell_type": "code",
   "execution_count": 9,
   "id": "ef8c2f4b",
   "metadata": {},
   "outputs": [
    {
     "data": {
      "text/plain": [
       "House Number                        0\n",
       "Street                              0\n",
       "First Name                          0\n",
       "Surname                             0\n",
       "Age                                 0\n",
       "Relationship to Head of House       0\n",
       "Marital Status                   2056\n",
       "Gender                              0\n",
       "Occupation                          0\n",
       "Infirmity                           0\n",
       "Religion                         2105\n",
       "dtype: int64"
      ]
     },
     "execution_count": 9,
     "metadata": {},
     "output_type": "execute_result"
    }
   ],
   "source": [
    "census_data.isnull().sum() #checking for missing value"
   ]
  },
  {
   "cell_type": "markdown",
   "id": "8f5720ca",
   "metadata": {},
   "source": [
    "From the displayed values above , we can see that marital status has 2056 null values ,religion has 2105 null values ,\n",
    "it is noticed that age, gender and some other columns have empty strings. we will check and clean each columns subsequently."
   ]
  },
  {
   "cell_type": "markdown",
   "id": "9d9c0957",
   "metadata": {},
   "source": [
    "### Checking and possible cleaning house number column"
   ]
  },
  {
   "cell_type": "code",
   "execution_count": 10,
   "id": "8ca0fd7d",
   "metadata": {},
   "outputs": [
    {
     "data": {
      "text/plain": [
       "array([  1,   2,   3,   4,   5,   6,   7,   8,   9,  10,  11,  12,  13,\n",
       "        14,  15,  16,  17,  18,  19,  20,  21,  22,  23,  24,  25,  26,\n",
       "        27,  28,  29,  30,  31,  32,  33,  34,  35,  36,  37,  38,  39,\n",
       "        40,  41,  42,  43,  44,  45,  46,  47,  48,  49,  50,  51,  52,\n",
       "        53,  54,  55,  56,  57,  58,  59,  60,  61,  62,  63,  64,  65,\n",
       "        66,  67,  68,  69,  70,  71,  72,  73,  74,  75,  76,  77,  78,\n",
       "        79,  80,  81,  82,  83,  84,  85,  86,  87,  88,  89,  90,  91,\n",
       "        92,  93,  94,  95,  96,  97,  98,  99, 100, 101, 102, 103, 104,\n",
       "       105, 106, 107, 108, 109, 110, 111, 112, 113, 114, 115, 116, 117,\n",
       "       118, 119, 120, 121, 122, 123, 124, 125, 126, 127, 128, 129, 130,\n",
       "       131, 132, 133, 134, 135, 136, 137, 138, 139, 140, 141, 142, 143,\n",
       "       144, 145, 146, 147, 148, 149, 150, 151, 152, 153, 154, 155, 156,\n",
       "       157, 158, 159, 160, 161, 162, 163, 164, 165, 166, 167, 168, 169,\n",
       "       170, 171, 172, 173, 174, 175, 176, 177, 178, 179, 180, 181, 182,\n",
       "       183, 184, 185, 186, 187, 188, 189, 190, 191, 192, 193, 194, 195,\n",
       "       196, 197, 198, 199, 200, 201, 202, 203, 204, 205, 206, 207],\n",
       "      dtype=int64)"
      ]
     },
     "execution_count": 10,
     "metadata": {},
     "output_type": "execute_result"
    }
   ],
   "source": [
    "#using unique function to get clearer view of the 'house number'column\n",
    "census_data['House Number'].unique()"
   ]
  },
  {
   "cell_type": "markdown",
   "id": "160b2669",
   "metadata": {},
   "source": [
    "From the above data, we can see that the data series have the same and right dtype, hence is a clean column."
   ]
  },
  {
   "cell_type": "markdown",
   "id": "e614b08a",
   "metadata": {},
   "source": [
    "### Checking and possible cleaning of street column"
   ]
  },
  {
   "cell_type": "code",
   "execution_count": 11,
   "id": "8de2142d",
   "metadata": {},
   "outputs": [
    {
     "data": {
      "text/plain": [
       "array(['Scott Dale', 'Lee Shoal', 'Zebra Lodge', 'Holyrood Trace',\n",
       "       'Edwards Mountain', 'Gold Road', 'Mason Roads', 'Peninsula Drive',\n",
       "       'Leicesterbail Road', 'Hill Heights', 'Wessex Drive',\n",
       "       'Pinewood Hills', 'Sheppard Way', 'Cumberlandbin Crescent',\n",
       "       'Charity Road', 'Allen Mission', 'Wessex Crescent',\n",
       "       'Bathhouse Fords', 'Spencer Keys', 'Armaghspan Avenue',\n",
       "       'Landings Camp', 'Clearwater Street', 'Andrews Mill',\n",
       "       'Hall Island', 'Davies Plains', 'Elvis Extensions',\n",
       "       'Goldfinch Avenue', 'Edwards Drive', 'Castor Groves',\n",
       "       'Solstice Lane', 'Dale Road', 'Riley Avenue', 'Bronze Crescent',\n",
       "       'Elvis Via', 'Bishop Avenue', 'Portsmouth Street', 'Weston Inlet',\n",
       "       'Guardian Crescent', 'Bathhouse Street', 'Parrot Summit',\n",
       "       'Elizabeth Springs', 'Johnson Fort', 'Smith Plains', 'Rice Street',\n",
       "       'Smith Shoal', 'Toucan Divide', 'Taylor Avenue', 'Williams Road',\n",
       "       'Bronze Greens', 'Column Valley', 'Harrison Street', 'Khan Creek',\n",
       "       'Threpenny Crescent', 'Calendar Mountains', 'Scorpio Road',\n",
       "       'Gill Mews', 'Goldfinch Springs', 'Craig Lane',\n",
       "       'Eastsack Crescent', 'Smith Lane', 'Elliott Crescent',\n",
       "       'Kraken Avenue', 'Nottingham Roads', 'Railway Stream',\n",
       "       'Gibbs Lane', 'Solstice Crescent', 'St.Matthew Crescent',\n",
       "       'Marsden Union', 'Coin Skyway', 'Graham Avenue', 'July Isle',\n",
       "       'Bangorthorpe Avenue', 'Hayes Estate', 'Brightwater Highway',\n",
       "       'Taurus Plains', 'Naylor Crescent', 'Ellis Mountain',\n",
       "       'Doyle Drive', 'Thomas Drive', 'Freeman Trail', 'Blackhook Lane',\n",
       "       'Alba Crescent', 'Wallis Forest', 'Strathclyde Avenue',\n",
       "       'Telegraphrow Crescent', 'Bletchley Street', 'Minster Ridge',\n",
       "       'Horton Ville', 'Kestrel Flat', 'Lloyd Drive', 'Narwhal Rocks',\n",
       "       'Crawford Palace', 'Wood Keep', 'Griffin Obervatory',\n",
       "       'Wilson Stronghold', 'Wilson Castle', 'Sagittarius Cabin',\n",
       "       'Stephens Factory', 'White Granary', 'Dublin House',\n",
       "       'Ranger Obervatory', 'Faith Bastion', 'Jones Barracks',\n",
       "       'Walker Palace', 'Poole Stronghold'], dtype=object)"
      ]
     },
     "execution_count": 11,
     "metadata": {},
     "output_type": "execute_result"
    }
   ],
   "source": [
    "#using unique function to get clearer view of the 'street'column\n",
    "census_data['Street'].unique()"
   ]
  },
  {
   "cell_type": "markdown",
   "id": "0209eaa5",
   "metadata": {},
   "source": [
    "From the above data, we can see that the data series have the same and right dtype, hence is a clean column."
   ]
  },
  {
   "cell_type": "markdown",
   "id": "979e3dac",
   "metadata": {},
   "source": [
    "### Checking and possible cleaning of 'First name' column"
   ]
  },
  {
   "cell_type": "code",
   "execution_count": 12,
   "id": "e05959d0",
   "metadata": {},
   "outputs": [
    {
     "data": {
      "text/plain": [
       "array(['Maureen', 'Rhys', 'Lorraine', 'Lewis', 'Molly', 'Norman',\n",
       "       'Sophie', 'Jamie', 'Duncan', 'Natasha', 'Mohamed', 'Debra',\n",
       "       'Annette', 'Gareth', 'Kyle', 'Alex', 'Denise', 'Brian', 'Tony',\n",
       "       'Teresa', 'Pauline', 'Elliott', 'Max', 'Stacey', 'Gordon',\n",
       "       'Kirsty', 'Adrian', 'Josh', 'Helen', 'Joe', 'John', 'Amy',\n",
       "       'Eleanor', 'Joseph', 'Samuel', 'Stephanie', 'Carl', 'Paige',\n",
       "       'Owen', 'Elizabeth', 'Robert', 'Alice', 'Derek', 'Frances',\n",
       "       'Terence', 'Laura', 'Ashley', 'Abigail', 'Ronald', 'Diana', 'Sean',\n",
       "       'Josephine', 'Diane', 'Philip', 'Caroline', 'Sharon', 'Leon',\n",
       "       'Kayleigh', 'Francis', 'Janice', 'Jill', 'Adam', 'Jake', 'Liam',\n",
       "       'Michelle', 'Melissa', 'Clifford', 'Bryan', 'Benjamin', 'Mitchell',\n",
       "       'Cheryl', 'Bernard', 'Katy', 'Christine', 'Julian', 'Leonard',\n",
       "       'Malcolm', 'Jacqueline', 'Carol', 'Stuart', 'Jemma', 'Ann',\n",
       "       'Howard', 'Aimee', 'Sian', 'Clive', 'Jonathan', 'Albert', 'Sylvia',\n",
       "       'Toby', 'Barry', 'Alison', 'Maurice', 'Craig', 'Nicholas', 'Aaron',\n",
       "       'Lauren', 'Roger', 'Kathleen', 'William', 'Roy', 'Sam', 'Jade',\n",
       "       'Hannah', 'Victor', 'Timothy', 'Jennifer', 'Cameron', 'Rita',\n",
       "       'Samantha', 'Emma', 'Maria', 'Charles', 'Callum', 'Rachael',\n",
       "       'Harriet', 'Amanda', 'Charlotte', 'Suzanne', 'Jayne', 'Henry',\n",
       "       'Katherine', 'Paula', 'Declan', 'Leslie', 'Stephen', 'Ruth',\n",
       "       'Mandy', 'Victoria', 'Sarah', 'Joanna', 'Brett', 'Margaret',\n",
       "       'Gregory', 'Lawrence', 'Wendy', 'Hazel', 'Chelsea', 'Colin',\n",
       "       'Dawn', 'Conor', 'Nicola', 'Kim', 'Nigel', 'Gavin', 'Natalie',\n",
       "       'Louise', 'Chloe', 'Claire', 'Jordan', 'Mathew', 'Marian', 'Marc',\n",
       "       'Vincent', 'Ashleigh', 'Martin', 'Heather', 'Angela', 'Kenneth',\n",
       "       'Jessica', 'Gerard', 'Mark', 'Francesca', 'George', 'Lynn', 'Dale',\n",
       "       'Danielle', 'Luke', 'Leigh', 'Paul', 'Georgia', 'Dylan', 'Keith',\n",
       "       'Pamela', 'Janet', 'Ryan', 'Susan', 'Sandra', 'Hilary', 'Kathryn',\n",
       "       'Anthony', 'Rosemary', 'Justin', 'Barbara', 'Ben', 'Andrea',\n",
       "       'Gillian', 'Abbie', 'Donald', 'Jodie', 'Jacob', 'Anne', 'Jane',\n",
       "       'Jenna', 'Gerald', 'David', 'Judith', 'Reece', 'Neil', 'Bradley',\n",
       "       'Bethan', 'Hayley', 'Carole', 'Bruce', 'Raymond', 'Jack', 'Naomi',\n",
       "       'Joan', 'Melanie', 'Damien', 'Kerry', 'Tina', 'Amelia', 'Lucy',\n",
       "       'Deborah', 'Sara', 'Graeme', 'Connor', 'Danny', 'Denis', 'Marcus',\n",
       "       'Alexander', 'Brandon', 'Geraldine', 'Joanne', 'Marion', 'Sally',\n",
       "       'Lydia', 'Daniel', 'Karen', 'Jean', 'Iain', 'Geoffrey', 'Harry',\n",
       "       'June', 'Charlene', 'Dominic', 'Linda', 'Peter', 'Patricia',\n",
       "       'Kevin', 'Robin', 'Graham', 'Karl', 'Richard', 'Gary', 'Rosie',\n",
       "       'Patrick', 'Fiona', 'Lee', 'Darren', 'Marilyn', 'Ellie', 'Elliot',\n",
       "       'Anna', 'Tracy', 'Russell', 'Brenda', 'Lindsey', 'Terry',\n",
       "       'Catherine', 'Bethany', 'Shane', 'Shirley', 'Nathan', 'Holly',\n",
       "       'Beverley', 'Megan', 'Allan', 'Leah', 'Christopher', 'Jason',\n",
       "       'Andrew', 'Emily', 'Joel', 'Kelly', 'Glen', 'Irene', 'Damian',\n",
       "       'Alan', 'Shannon', 'Abdul', 'Julie', 'Jeremy', 'Kimberley',\n",
       "       'Thomas', 'Amber', 'Julia', 'Stanley', 'Vanessa', 'Trevor',\n",
       "       'Jasmine', 'Ian', 'Georgina', 'Mary', 'Hugh', 'Sheila', 'Carly',\n",
       "       'Lesley', 'Lisa', 'Gemma', 'Eric', 'Mohammed', 'Joyce', 'Donna',\n",
       "       'Hollie', 'Michael', 'Glenn', 'Tom', 'Douglas', 'Christian',\n",
       "       'Billy', 'Matthew', 'Clare', 'Simon', 'Tracey', 'Oliver',\n",
       "       'Dorothy', 'Steven', 'Louis', 'Zoe', 'Shaun', 'Marie', 'Valerie',\n",
       "       'Rebecca', 'Rachel', 'Olivia', 'Kate', 'Elaine', 'Wayne', 'Ross',\n",
       "       'Eileen', 'Nicole', 'Frederick', 'Gail', 'Stewart', 'Beth',\n",
       "       'Charlie', 'Mohammad', 'Carolyn', 'Antony', 'Yvonne', 'James',\n",
       "       'Jeffrey', 'Garry', 'Joshua', 'Phillip', 'Katie', 'Dean', 'Arthur',\n",
       "       'Alexandra', 'Edward', 'Lynda', 'Lynne', 'Kieran', 'Leanne',\n",
       "       'Scott', 'Martyn', 'Dennis', 'Grace', 'Jay', 'Ricky', 'Guy',\n",
       "       'Frank', ' '], dtype=object)"
      ]
     },
     "execution_count": 12,
     "metadata": {},
     "output_type": "execute_result"
    }
   ],
   "source": [
    "census_data['First Name'].unique()  #implemeenting unique function to get clearer view of the 'First Name'column"
   ]
  },
  {
   "cell_type": "markdown",
   "id": "cb1f01df",
   "metadata": {},
   "source": [
    "From the above data, we can see that the data series have an empty string , so we will clean it up"
   ]
  },
  {
   "cell_type": "code",
   "execution_count": 13,
   "id": "b8f17595",
   "metadata": {},
   "outputs": [
    {
     "data": {
      "text/html": [
       "<div>\n",
       "<style scoped>\n",
       "    .dataframe tbody tr th:only-of-type {\n",
       "        vertical-align: middle;\n",
       "    }\n",
       "\n",
       "    .dataframe tbody tr th {\n",
       "        vertical-align: top;\n",
       "    }\n",
       "\n",
       "    .dataframe thead th {\n",
       "        text-align: right;\n",
       "    }\n",
       "</style>\n",
       "<table border=\"1\" class=\"dataframe\">\n",
       "  <thead>\n",
       "    <tr style=\"text-align: right;\">\n",
       "      <th></th>\n",
       "      <th>House Number</th>\n",
       "      <th>Street</th>\n",
       "      <th>First Name</th>\n",
       "      <th>Surname</th>\n",
       "      <th>Age</th>\n",
       "      <th>Relationship to Head of House</th>\n",
       "      <th>Marital Status</th>\n",
       "      <th>Gender</th>\n",
       "      <th>Occupation</th>\n",
       "      <th>Infirmity</th>\n",
       "      <th>Religion</th>\n",
       "    </tr>\n",
       "  </thead>\n",
       "  <tbody>\n",
       "    <tr>\n",
       "      <th>7258</th>\n",
       "      <td>10</td>\n",
       "      <td>Thomas Drive</td>\n",
       "      <td></td>\n",
       "      <td>Taylor</td>\n",
       "      <td>59</td>\n",
       "      <td>Head</td>\n",
       "      <td>Married</td>\n",
       "      <td>Male</td>\n",
       "      <td>Health and safety adviser</td>\n",
       "      <td>None</td>\n",
       "      <td>None</td>\n",
       "    </tr>\n",
       "  </tbody>\n",
       "</table>\n",
       "</div>"
      ],
      "text/plain": [
       "      House Number        Street First Name Surname Age  \\\n",
       "7258            10  Thomas Drive             Taylor  59   \n",
       "\n",
       "     Relationship to Head of House Marital Status Gender  \\\n",
       "7258                          Head        Married   Male   \n",
       "\n",
       "                     Occupation Infirmity Religion  \n",
       "7258  Health and safety adviser      None     None  "
      ]
     },
     "execution_count": 13,
     "metadata": {},
     "output_type": "execute_result"
    }
   ],
   "source": [
    "census_data[census_data['First Name'] == ' '] #checking of Firstname"
   ]
  },
  {
   "cell_type": "code",
   "execution_count": 14,
   "id": "9c96a7ba",
   "metadata": {},
   "outputs": [],
   "source": [
    "census_data.drop([7258],axis=0,inplace=True)#we dropped the row with no first name, as we can not logically place a first name to the rw"
   ]
  },
  {
   "cell_type": "code",
   "execution_count": 15,
   "id": "7e426b62",
   "metadata": {},
   "outputs": [
    {
     "data": {
      "text/html": [
       "<div>\n",
       "<style scoped>\n",
       "    .dataframe tbody tr th:only-of-type {\n",
       "        vertical-align: middle;\n",
       "    }\n",
       "\n",
       "    .dataframe tbody tr th {\n",
       "        vertical-align: top;\n",
       "    }\n",
       "\n",
       "    .dataframe thead th {\n",
       "        text-align: right;\n",
       "    }\n",
       "</style>\n",
       "<table border=\"1\" class=\"dataframe\">\n",
       "  <thead>\n",
       "    <tr style=\"text-align: right;\">\n",
       "      <th></th>\n",
       "      <th>House Number</th>\n",
       "      <th>Street</th>\n",
       "      <th>First Name</th>\n",
       "      <th>Surname</th>\n",
       "      <th>Age</th>\n",
       "      <th>Relationship to Head of House</th>\n",
       "      <th>Marital Status</th>\n",
       "      <th>Gender</th>\n",
       "      <th>Occupation</th>\n",
       "      <th>Infirmity</th>\n",
       "      <th>Religion</th>\n",
       "    </tr>\n",
       "  </thead>\n",
       "  <tbody>\n",
       "  </tbody>\n",
       "</table>\n",
       "</div>"
      ],
      "text/plain": [
       "Empty DataFrame\n",
       "Columns: [House Number, Street, First Name, Surname, Age, Relationship to Head of House, Marital Status, Gender, Occupation, Infirmity, Religion]\n",
       "Index: []"
      ]
     },
     "execution_count": 15,
     "metadata": {},
     "output_type": "execute_result"
    }
   ],
   "source": [
    "census_data[census_data['First Name'] == ' ']#confirmation that the blank first name has been dropped"
   ]
  },
  {
   "cell_type": "markdown",
   "id": "a0aa5c57",
   "metadata": {},
   "source": [
    "### Checking and possible cleaning of 'Surname' column"
   ]
  },
  {
   "cell_type": "code",
   "execution_count": 16,
   "id": "1b18a114",
   "metadata": {},
   "outputs": [
    {
     "data": {
      "text/plain": [
       "array(['Cox', 'Brown', 'Allen', 'Patel', 'Akhtar', 'Law', 'Walker',\n",
       "       'Slater', 'Iqbal', 'Hodgson', 'Walker-Iqbal',\n",
       "       \"O'Neill-Walker-Iqbal\", 'Ball', 'Smith', 'Hammond', 'Ingram',\n",
       "       'Taylor', 'Sharp', 'Dennis', 'Robinson', 'Moore', 'Bell',\n",
       "       'Stevens', 'Hall', 'Todd', 'Webb', 'Bradley', 'Nicholls', 'Gill',\n",
       "       'Johnson', 'Wilkinson', 'Parkin', 'Barker', 'Murphy', 'Howells',\n",
       "       'Payne', 'Porter', 'Jackson-Porter', 'Weston', 'West', 'Burrows',\n",
       "       'Byrne', 'Davies', 'Clarke', 'Young', 'Lewis', 'Jordan', 'Jackson',\n",
       "       'Whitehouse', 'Norris', 'Wallace', 'Robertson', 'Curtis', 'Miles',\n",
       "       'Reynolds', 'Ellis', 'Morton', 'Parkes', 'Evans-Morton', 'Lees',\n",
       "       'Kelly', 'White', 'Kirk', 'Khan', 'Hill', 'Ahmed', 'Wallis',\n",
       "       'Franklin', 'Fisher', 'Shah', 'Chandler', 'Reeves', 'Day',\n",
       "       'Arnold', 'Sims', 'Mason', 'Baker', 'Goddard', 'Roberts', 'Barber',\n",
       "       'Black', 'Sanderson', 'Benson', 'Graham', 'Wong', 'Jenkins',\n",
       "       'Hayward', 'Phillips', 'Holmes', 'Powell', 'Morris', 'Lynch',\n",
       "       'Whitehead', 'Evans', 'Scott', 'Fox', 'Miah', 'Williams', 'Davis',\n",
       "       'North', 'Foster', 'Pickering', 'Bird', 'Marsh', 'Parry',\n",
       "       'Carpenter', 'Murray', 'Quinn', 'Jones', 'Richards', 'Thompson',\n",
       "       'Green', 'Cameron', 'Lowe', 'Doherty', 'Mills', 'Finch',\n",
       "       'Smith-Black', 'Dixon', 'Baxter', 'Brady', 'Watkins', 'Lee',\n",
       "       'Dobson', 'Bowen', 'Yates-Brown', 'Edwards', 'Adams', 'Wilson',\n",
       "       'Schofield', 'Miller', 'Thomas', 'Noble', 'Price', 'Fletcher',\n",
       "       'Reid', 'Giles', 'Patel-Giles', 'Howard', 'George', 'James',\n",
       "       'James-Baldwin', 'Gilbert', 'Parker', 'Brennan', 'Williamson',\n",
       "       'Francis', 'Wells', 'Atkinson', 'Simpson', 'Harrison', 'Pearce',\n",
       "       'Osborne', 'Ford', 'Barrett', 'Jennings', 'Gardner', 'Campbell',\n",
       "       'Thompson-Day', 'Hunt', 'King', 'Harris', 'Webster', 'Turner',\n",
       "       'Ashton', 'Lawrence', 'Butler', 'Cook', 'Lloyd', 'Martin',\n",
       "       'Richardson', 'McKenzie', 'Russell', 'Gray', 'Thornton', 'Duncan',\n",
       "       'Marshall', 'Woodward', 'Humphreys', 'French', 'Watson',\n",
       "       'Holloway', 'Knight', 'Rogers', 'Graham-Rogers', 'Leach',\n",
       "       'Stewart', 'Anderson', 'McCarthy', 'Goddard-Baker', 'Dean',\n",
       "       'Harding-Kelly', 'Stanley', 'Cole', 'Thorpe', 'Turnbull',\n",
       "       'Greenwood', 'Tomlinson', 'Page', 'Davies-Matthews', 'Pritchard',\n",
       "       'Ward', 'Walsh', 'Hyde', 'Carroll', 'Glover', 'Jordan-Glover',\n",
       "       'Shepherd', 'Spencer', 'Andrews', 'Collier-Andrews', 'Blackburn',\n",
       "       'Mann', 'Whittaker', 'Burke', 'Hughes', 'Power', 'Nolan', 'Rose',\n",
       "       'Hale', 'Faulkner', 'Rhodes', \"O'Neill\", 'Kennedy', 'Parsons',\n",
       "       'Moss', 'Stevens-Higgins', 'Poole', 'Browne', 'Brown-Fox',\n",
       "       'Newton', 'Willis', 'Morgan', 'Wall', 'Singh', 'Buckley', 'Wyatt',\n",
       "       'Davidson', 'Lane', 'Davey', 'Riley', 'Armstrong', 'Kent', 'Smart',\n",
       "       'Perkins', 'Horton', 'Stokes', 'Parkinson', 'Shaw', 'Humphries',\n",
       "       'Duffy', 'Kerr', 'Nixon', 'Wood', 'Harrison-Hunt', 'Booth-White',\n",
       "       'Harper', 'Lambert', 'Rees', 'Elliott', 'Mahmood', 'Godfrey',\n",
       "       'Holden', 'Pearson', 'Cross', 'Ali', 'Clements', 'Harvey', 'Cooke',\n",
       "       'Barnes', 'Begum', 'Bond', 'Clark', 'Clements-Clark', 'Hudson',\n",
       "       'Donnelly', 'Archer', 'Carter', 'Fleming', 'Walton', 'Pugh',\n",
       "       'Hayes', 'Harding', 'Barry', 'Chapman-Brown', 'Metcalfe', 'Brooks',\n",
       "       'Wheeler', 'Hussain', 'Morrison', 'Matthews', 'Kay', 'Savage',\n",
       "       'Gibbs', 'Oliver', 'Burton', 'Bruce', 'Booth', 'Goodwin',\n",
       "       'Myers-Wood', 'Newman', 'Chapman', 'Coleman', 'Wright', 'Barnett',\n",
       "       'Fry', 'Saunders', \"O'Connor\", 'Hewitt', 'Bryant-Jones',\n",
       "       'Jones-Bryant-Jones', \"O'Brien\", \"Lee-O'Brien\", 'Perry', 'Howe',\n",
       "       'Dale', 'Peters', 'Townsend', 'Cooper', 'Lord', 'Chadwick',\n",
       "       'Lawson', 'Mitchell', 'Watts', 'Long', 'Reed', 'Naylor', 'Thomson',\n",
       "       'Price-James', 'Ferguson', 'Peacock', 'Gregory', 'Alexander',\n",
       "       'Austin', 'Stevenson', 'Mellor', 'Berry', 'Nelson', 'Bennett',\n",
       "       'Herbert', 'Dickinson', 'Haynes', 'Collins', 'Grant', 'Nash',\n",
       "       'Sykes', 'Potter', 'Vincent', 'Murray-Campbell', 'Sinclair',\n",
       "       'Gibson', 'Gray-Hunt', 'Chambers', 'Fuller', 'Bell-Browne',\n",
       "       'Skinner', 'Field', 'Wade', 'Jarvis', 'Potter-Jarvis', 'Craig',\n",
       "       'Dawson', 'Tucker', 'Lewis-Barker', 'Conway', 'Shepherd-Turner',\n",
       "       'Chan', 'Stephenson', 'Palmer', 'Flynn', 'Owen', 'Welch',\n",
       "       'Griffin', 'Hunter', 'Thomson-Watson', 'Ford-Barker',\n",
       "       'Barber-Armstrong', 'Hobbs', 'Grant-Robertson', 'Dodd', 'Rowe',\n",
       "       'Rowley', 'Freeman', 'Coles', 'Robson', 'Doyle', 'Pratt', 'Burns',\n",
       "       'Davies-Williams', 'Hartley', 'Dawson-Hooper', 'Bishop', 'Collier',\n",
       "       'Gallagher', 'Brookes', 'Leonard', 'Bradshaw-Day', 'Nicholson',\n",
       "       'Bailey', 'Brennan-Doherty', 'Daniels', 'Garner', 'John-Pearce',\n",
       "       'Higgins', 'Henderson', 'Woods', 'Little', 'Holt', 'Briggs',\n",
       "       'Duffy-Jones', 'Waters', 'Griffiths', 'Rice', 'Rice-Sykes',\n",
       "       'Bryant', 'Birch', 'Norton', 'Wilkins', 'Vaughan', 'Lucas',\n",
       "       'Pollard', 'Kemp', 'Gough', \"O'Donnell\", 'Hardy', 'Bailey-Hardy',\n",
       "       'Howarth', 'Blake', 'Hooper', 'Stone', 'Sharpe', 'Hamilton',\n",
       "       'Ryan', 'Nash-Richards', 'Bevan', 'Gordon', 'Sullivan', 'Lamb',\n",
       "       'Middleton', 'Abbott', 'Cunningham', 'Young-Wright', 'Ross',\n",
       "       'Sanders', 'Bryan', 'Hawkins', 'Allan', 'Randall-Harris',\n",
       "       'Brookes-Walsh', 'Johnston', 'Hope', 'Norman', 'Brown-Fraser',\n",
       "       'Chamberlain', 'Manning', 'McLean', 'Barlow', 'Carey',\n",
       "       'Hutchinson', 'Morley', 'Farmer', 'Barton', 'Read', 'Hicks',\n",
       "       'Kaur', 'Yates', 'Talbot', 'Shah-Stanley', 'Patterson-Butler',\n",
       "       'Hart', 'Taylor-Jones', 'Steele', 'Barton-Steele',\n",
       "       'Oliver-Richardson', 'Wilkinson-Jackson', 'Gibbons', 'McDonald',\n",
       "       'Henry', 'Dunn-Scott', 'Dyer', 'Gould', 'Dunn', 'Macdonald',\n",
       "       'Walters', 'Bentley', 'Bentley-Hayward', 'Bray', 'Cartwright',\n",
       "       'Burgess', 'Fitzgerald', 'Fowler', 'Bibi', 'Winter', 'Douglas',\n",
       "       'Potter-Wilson', 'Connolly', 'Summers', 'Howell', 'Hilton',\n",
       "       'Joyce', 'Preston', 'Hanson', 'Bartlett', 'Gardiner', 'Simmons',\n",
       "       'Rogers-Ellis', 'Watts-Farrell', 'Carroll-Cooke', 'Frost',\n",
       "       'Cross-Watkins', 'Jones-Ellis', 'Cooper-Roberts', 'Hancock',\n",
       "       'Gordon-Wright', 'Adams-Sullivan', 'Chamberlain-Morris',\n",
       "       'Atkinson-Woodward', 'Gould-Burke', 'Wilkinson-Franklin', 'Owens',\n",
       "       'Connor', 'Hyde-Ellis', 'Farrell', 'Butcher', 'Hopkins',\n",
       "       'Ferguson-Matthews', 'Vaughan-Carr', 'Taylor-Hall', 'Hartley-Rees',\n",
       "       'Short', 'Swift', 'Crawford', 'Payne-Page', 'Holland',\n",
       "       'Whitehead-Atkinson', 'John', 'Reed-Webster', 'Collins-Bentley',\n",
       "       'Lyons', 'Bolton', 'May', 'Hurst', 'Brown-Smith', 'Heath-Roberts',\n",
       "       'Dean-White', 'Patterson-Dean-White', 'Carr', 'Hunt-Patel',\n",
       "       'Shepherd-Lloyd', 'Fraser', 'Wood-Wright', 'Hope-Wood-Wright',\n",
       "       'Lane-Mills', \"Knowles-O'Donnell\", \"Knowles-O'Donnell-Dale\",\n",
       "       'Mistry', 'Baldwin', \"O'Sullivan\", 'Gray-Wilson', 'Richards-Field',\n",
       "       'Jordan-Mann', 'Smith-Jordan-Mann', 'Bradshaw', 'Clayton',\n",
       "       'Scott-Clayton', 'Potts', 'Stephens', 'Newton-Hunter', 'Banks',\n",
       "       'Patterson', 'Donnelly-Archer', \"O'Connor-Martin\", 'Reed-Marshall',\n",
       "       'Finch-Jackson', 'Warner', 'Jones-Bennett', 'Warren', 'Charlton',\n",
       "       'Gregory-Hanson', 'Bates', 'Glover-Patel', 'Houghton', 'Heath',\n",
       "       'Hill-Bradley', ' ', 'Brown-Hall', 'Roberts-Mellor', 'Tyler',\n",
       "       'Scott-Ford', 'White-Scott-Ford', 'Brown-Barlow', 'Knowles',\n",
       "       \"O'Donnell-Jones\", 'Hudson-Jones', 'Moran', 'Stephenson-Nicholls',\n",
       "       'Davison', 'Johnson-Cooper', 'Sullivan-Harvey', 'Wilkinson-Price',\n",
       "       'Blake-Bell', 'Brookes-Patterson', 'Stokes-Begum', 'Wallace-Walsh',\n",
       "       'Stanley-Roberts', 'White-Patterson', 'Forster',\n",
       "       'Williams-Sanderson', 'Ross-Bolton', 'Atkinson-Baxter',\n",
       "       'Giles-Davis', 'Willis-Morris', 'Harvey-Hunter',\n",
       "       'Thomas-Whittaker', 'White-Price', 'Gardner-White-Price', 'Atkins',\n",
       "       'Boyle', 'Jones-Browne', 'Nicholls-Reid', 'Wood-Murphy', 'Pope',\n",
       "       'Clayton-Rose', 'Patel-King', 'Shaw-Harris', 'Kirby',\n",
       "       'Todd-Davies', 'Hughes-Wood', 'Rahman', 'Myers', 'White-Smith',\n",
       "       'Fitzgerald-Gregory', 'Sutton', 'Hargreaves', 'Randall',\n",
       "       \"O'Donnell-Owens\", \"Saunders-O'Donnell-Owens\", 'Nicholson-Booth',\n",
       "       'Davies-Walsh', 'Harrison-Vincent', 'Barton-Patel',\n",
       "       'Walker-Whitehouse', 'Newton-Metcalfe', 'Smith-Morrison',\n",
       "       'Pearson-Hill', 'Matthews-Adams', 'Thompson-Smart',\n",
       "       'Jenkins-Hardy', 'Thorpe-Kent', 'Matthews-Fraser', 'Ball-Patel',\n",
       "       'Whitehead-Manning', 'James-Jones', 'Richardson-Johnston'],\n",
       "      dtype=object)"
      ]
     },
     "execution_count": 16,
     "metadata": {},
     "output_type": "execute_result"
    }
   ],
   "source": [
    "census_data['Surname'].unique() #using unique function to get clearer view of the 'Surname'column"
   ]
  },
  {
   "cell_type": "markdown",
   "id": "f55b7d7a",
   "metadata": {},
   "source": [
    "From the above data, we can see that the data series have the same and right dtype, hence is a clean column."
   ]
  },
  {
   "cell_type": "markdown",
   "id": "2154dd36",
   "metadata": {},
   "source": [
    "### Checking and possible cleaning of 'Age' column"
   ]
  },
  {
   "cell_type": "code",
   "execution_count": 17,
   "id": "21fe9e71",
   "metadata": {},
   "outputs": [
    {
     "data": {
      "text/plain": [
       "array(['50', '52', '69', '72', '36', '42', '38', '7', '29', '32', '62',\n",
       "       '80', '56', '55', '25', '17', '63', '23', '22', '39', '41', '2',\n",
       "       '1', '67', '65', '28', '27', '5', '4', '3', '20', '19', '49',\n",
       "       '83.71794888354226', '14.0', '66', '82', '83', '44', '15', '21',\n",
       "       '46', '45', '43', '64', '59', '34', '10', '9', '35', '0', '68',\n",
       "       '48', '16', '81', '53', '8', '40', '51', '54', '58', '13', '61',\n",
       "       '26', '47', '74', '79', '75', '70', '71', '102', '73', '24', '60',\n",
       "       '30', '33', '11', '31', '61.61015620160364', '62.61015620160364',\n",
       "       '15.0', '10.0', '18', '37', '12', '14', '6', '57', '89', '85',\n",
       "       '78', '88', '91', '93', '97', '86', '77', '50.03241969022402',\n",
       "       '51.03241969022402', '1.0', '90', '76', '104', '84', ' ', '92',\n",
       "       '87', '95', '98', '105', '48.65904417229777', '50.65904417229777',\n",
       "       '12.0', '54.55812337483672', '57.55812337483672', '3.0', '0.0',\n",
       "       '106', '65.90982310589523', '68.90982310589523', '16.0', '94',\n",
       "       '101', '99', '49.62636495189123', '53.62636495189123', '5.0'],\n",
       "      dtype=object)"
      ]
     },
     "execution_count": 17,
     "metadata": {},
     "output_type": "execute_result"
    }
   ],
   "source": [
    "census_data['Age'].unique()#implementing unique function to get clearer view of the 'Age'column"
   ]
  },
  {
   "cell_type": "markdown",
   "id": "df847a88",
   "metadata": {},
   "source": [
    "From the data above , we can see that we have an empty strings and floats in our data. so we will clean the column by first filling up the empty string , then we convert our data to integer"
   ]
  },
  {
   "cell_type": "code",
   "execution_count": 18,
   "id": "61bba286",
   "metadata": {},
   "outputs": [
    {
     "data": {
      "text/html": [
       "<div>\n",
       "<style scoped>\n",
       "    .dataframe tbody tr th:only-of-type {\n",
       "        vertical-align: middle;\n",
       "    }\n",
       "\n",
       "    .dataframe tbody tr th {\n",
       "        vertical-align: top;\n",
       "    }\n",
       "\n",
       "    .dataframe thead th {\n",
       "        text-align: right;\n",
       "    }\n",
       "</style>\n",
       "<table border=\"1\" class=\"dataframe\">\n",
       "  <thead>\n",
       "    <tr style=\"text-align: right;\">\n",
       "      <th></th>\n",
       "      <th>House Number</th>\n",
       "      <th>Street</th>\n",
       "      <th>First Name</th>\n",
       "      <th>Surname</th>\n",
       "      <th>Age</th>\n",
       "      <th>Relationship to Head of House</th>\n",
       "      <th>Marital Status</th>\n",
       "      <th>Gender</th>\n",
       "      <th>Occupation</th>\n",
       "      <th>Infirmity</th>\n",
       "      <th>Religion</th>\n",
       "    </tr>\n",
       "  </thead>\n",
       "  <tbody>\n",
       "    <tr>\n",
       "      <th>2206</th>\n",
       "      <td>17</td>\n",
       "      <td>Andrews Mill</td>\n",
       "      <td>Christopher</td>\n",
       "      <td>Johnson</td>\n",
       "      <td></td>\n",
       "      <td>Husband</td>\n",
       "      <td>Married</td>\n",
       "      <td>Male</td>\n",
       "      <td>Wellsite geologist</td>\n",
       "      <td>None</td>\n",
       "      <td>None</td>\n",
       "    </tr>\n",
       "    <tr>\n",
       "      <th>4317</th>\n",
       "      <td>47</td>\n",
       "      <td>Smith Plains</td>\n",
       "      <td>Hugh</td>\n",
       "      <td>Richards</td>\n",
       "      <td></td>\n",
       "      <td>Son</td>\n",
       "      <td>Single</td>\n",
       "      <td>Male</td>\n",
       "      <td>University Student</td>\n",
       "      <td>None</td>\n",
       "      <td>Christian</td>\n",
       "    </tr>\n",
       "  </tbody>\n",
       "</table>\n",
       "</div>"
      ],
      "text/plain": [
       "      House Number        Street   First Name   Surname Age  \\\n",
       "2206            17  Andrews Mill  Christopher   Johnson       \n",
       "4317            47  Smith Plains         Hugh  Richards       \n",
       "\n",
       "     Relationship to Head of House Marital Status Gender          Occupation  \\\n",
       "2206                       Husband        Married   Male  Wellsite geologist   \n",
       "4317                           Son         Single   Male  University Student   \n",
       "\n",
       "     Infirmity   Religion  \n",
       "2206      None       None  \n",
       "4317      None  Christian  "
      ]
     },
     "execution_count": 18,
     "metadata": {},
     "output_type": "execute_result"
    }
   ],
   "source": [
    "census_data[census_data['Age'] == ' ']# checking of age"
   ]
  },
  {
   "cell_type": "code",
   "execution_count": 19,
   "id": "f6300b5f",
   "metadata": {},
   "outputs": [],
   "source": [
    "census_data.at[2206, 'Age']= 35  #using the mean of the age column which is 35 to replace the empty string \n",
    "census_data.at[4317, 'Age']= 35 "
   ]
  },
  {
   "cell_type": "code",
   "execution_count": 20,
   "id": "9437616d",
   "metadata": {},
   "outputs": [
    {
     "data": {
      "text/html": [
       "<div>\n",
       "<style scoped>\n",
       "    .dataframe tbody tr th:only-of-type {\n",
       "        vertical-align: middle;\n",
       "    }\n",
       "\n",
       "    .dataframe tbody tr th {\n",
       "        vertical-align: top;\n",
       "    }\n",
       "\n",
       "    .dataframe thead th {\n",
       "        text-align: right;\n",
       "    }\n",
       "</style>\n",
       "<table border=\"1\" class=\"dataframe\">\n",
       "  <thead>\n",
       "    <tr style=\"text-align: right;\">\n",
       "      <th></th>\n",
       "      <th>House Number</th>\n",
       "      <th>Street</th>\n",
       "      <th>First Name</th>\n",
       "      <th>Surname</th>\n",
       "      <th>Age</th>\n",
       "      <th>Relationship to Head of House</th>\n",
       "      <th>Marital Status</th>\n",
       "      <th>Gender</th>\n",
       "      <th>Occupation</th>\n",
       "      <th>Infirmity</th>\n",
       "      <th>Religion</th>\n",
       "    </tr>\n",
       "  </thead>\n",
       "  <tbody>\n",
       "  </tbody>\n",
       "</table>\n",
       "</div>"
      ],
      "text/plain": [
       "Empty DataFrame\n",
       "Columns: [House Number, Street, First Name, Surname, Age, Relationship to Head of House, Marital Status, Gender, Occupation, Infirmity, Religion]\n",
       "Index: []"
      ]
     },
     "execution_count": 20,
     "metadata": {},
     "output_type": "execute_result"
    }
   ],
   "source": [
    "census_data[census_data['Age'] == ' '] #checking for any empty string in the age column"
   ]
  },
  {
   "cell_type": "markdown",
   "id": "ff5a02b5",
   "metadata": {},
   "source": [
    "From the above , we can see that empty string has been replaced by the mean , we will now convert any age in float to integer"
   ]
  },
  {
   "cell_type": "code",
   "execution_count": 21,
   "id": "1b8df2c1",
   "metadata": {},
   "outputs": [],
   "source": [
    "census_data['Age'] = census_data.Age.astype('float')# Converting any strings under the age column to integer\n",
    "census_data['Age'] = census_data.Age.astype('int') "
   ]
  },
  {
   "cell_type": "code",
   "execution_count": 22,
   "id": "ccd08c11",
   "metadata": {},
   "outputs": [
    {
     "data": {
      "text/plain": [
       "array([ 50,  52,  69,  72,  36,  42,  38,   7,  29,  32,  62,  80,  56,\n",
       "        55,  25,  17,  63,  23,  22,  39,  41,   2,   1,  67,  65,  28,\n",
       "        27,   5,   4,   3,  20,  19,  49,  83,  14,  66,  82,  44,  15,\n",
       "        21,  46,  45,  43,  64,  59,  34,  10,   9,  35,   0,  68,  48,\n",
       "        16,  81,  53,   8,  40,  51,  54,  58,  13,  61,  26,  47,  74,\n",
       "        79,  75,  70,  71, 102,  73,  24,  60,  30,  33,  11,  31,  18,\n",
       "        37,  12,   6,  57,  89,  85,  78,  88,  91,  93,  97,  86,  77,\n",
       "        90,  76, 104,  84,  92,  87,  95,  98, 105, 106,  94, 101,  99])"
      ]
     },
     "execution_count": 22,
     "metadata": {},
     "output_type": "execute_result"
    }
   ],
   "source": [
    "census_data.Age.unique() #checking for any possible float or empty string"
   ]
  },
  {
   "cell_type": "code",
   "execution_count": 23,
   "id": "77b42c14",
   "metadata": {},
   "outputs": [
    {
     "data": {
      "text/plain": [
       "dtype('int32')"
      ]
     },
     "execution_count": 23,
     "metadata": {},
     "output_type": "execute_result"
    }
   ],
   "source": [
    "census_data[\"Age\"].dtypes#age now in integer"
   ]
  },
  {
   "cell_type": "markdown",
   "id": "33dbbd87",
   "metadata": {},
   "source": [
    "From the above Age column, our data series under the Age column has been cleaned "
   ]
  },
  {
   "cell_type": "markdown",
   "id": "57ddc088",
   "metadata": {},
   "source": [
    "### Checking and possible cleaning of 'Relationship to Head of House' column"
   ]
  },
  {
   "cell_type": "code",
   "execution_count": 24,
   "id": "01e9cae0",
   "metadata": {},
   "outputs": [
    {
     "data": {
      "text/plain": [
       "array(['Head', 'Partner', 'Husband', 'Son', 'None', 'Daughter', 'Wife',\n",
       "       'Grandson', 'Lodger', 'Visitor', 'Cousin', 'Step-Son', 'Sibling',\n",
       "       'Granddaughter', 'Step-Daughter', 'Adopted Son', 'Nephew',\n",
       "       'Adopted Daughter', 'Son-in-law', 'Neice', 'Daughter-in-law',\n",
       "       'Adopted Grandson', 'Adopted Granddaughter'], dtype=object)"
      ]
     },
     "execution_count": 24,
     "metadata": {},
     "output_type": "execute_result"
    }
   ],
   "source": [
    "census_data['Relationship to Head of House'].unique()"
   ]
  },
  {
   "cell_type": "markdown",
   "id": "30ba0b83",
   "metadata": {},
   "source": [
    "From the above we can see that the data series is clean and of the same dtype"
   ]
  },
  {
   "cell_type": "markdown",
   "id": "a3bf397a",
   "metadata": {},
   "source": [
    "### Checking and possible cleaning of 'Marital Status' column"
   ]
  },
  {
   "cell_type": "code",
   "execution_count": 25,
   "id": "51728ccf",
   "metadata": {},
   "outputs": [
    {
     "data": {
      "text/plain": [
       "array(['Single', 'Married', 'Divorced', nan, 'Widowed', ' '], dtype=object)"
      ]
     },
     "execution_count": 25,
     "metadata": {},
     "output_type": "execute_result"
    }
   ],
   "source": [
    "census_data['Marital Status'].unique()"
   ]
  },
  {
   "cell_type": "markdown",
   "id": "95ed67c2",
   "metadata": {},
   "source": [
    "From the data above , we can see that we have an empty strings\n",
    "so we will clean the column by first filling up the empty string."
   ]
  },
  {
   "cell_type": "code",
   "execution_count": 26,
   "id": "25fe36e5",
   "metadata": {},
   "outputs": [
    {
     "data": {
      "text/plain": [
       "Single      2941\n",
       "Married     2224\n",
       "Divorced     744\n",
       "Widowed      360\n",
       "               3\n",
       "Name: Marital Status, dtype: int64"
      ]
     },
     "execution_count": 26,
     "metadata": {},
     "output_type": "execute_result"
    }
   ],
   "source": [
    "# count check on Gender\n",
    "census_data[\"Marital Status\"].value_counts()"
   ]
  },
  {
   "cell_type": "code",
   "execution_count": 27,
   "id": "9a78ff89",
   "metadata": {},
   "outputs": [
    {
     "data": {
      "text/html": [
       "<div>\n",
       "<style scoped>\n",
       "    .dataframe tbody tr th:only-of-type {\n",
       "        vertical-align: middle;\n",
       "    }\n",
       "\n",
       "    .dataframe tbody tr th {\n",
       "        vertical-align: top;\n",
       "    }\n",
       "\n",
       "    .dataframe thead th {\n",
       "        text-align: right;\n",
       "    }\n",
       "</style>\n",
       "<table border=\"1\" class=\"dataframe\">\n",
       "  <thead>\n",
       "    <tr style=\"text-align: right;\">\n",
       "      <th></th>\n",
       "      <th>House Number</th>\n",
       "      <th>Street</th>\n",
       "      <th>First Name</th>\n",
       "      <th>Surname</th>\n",
       "      <th>Age</th>\n",
       "      <th>Relationship to Head of House</th>\n",
       "      <th>Marital Status</th>\n",
       "      <th>Gender</th>\n",
       "      <th>Occupation</th>\n",
       "      <th>Infirmity</th>\n",
       "      <th>Religion</th>\n",
       "    </tr>\n",
       "  </thead>\n",
       "  <tbody>\n",
       "    <tr>\n",
       "      <th>4328</th>\n",
       "      <td>53</td>\n",
       "      <td>Smith Plains</td>\n",
       "      <td>Lynn</td>\n",
       "      <td>Hilton</td>\n",
       "      <td>52</td>\n",
       "      <td>Head</td>\n",
       "      <td></td>\n",
       "      <td>Female</td>\n",
       "      <td>Hospital doctor</td>\n",
       "      <td>None</td>\n",
       "      <td>Christian</td>\n",
       "    </tr>\n",
       "    <tr>\n",
       "      <th>7103</th>\n",
       "      <td>24</td>\n",
       "      <td>Ellis Mountain</td>\n",
       "      <td>Susan</td>\n",
       "      <td>Taylor</td>\n",
       "      <td>19</td>\n",
       "      <td>None</td>\n",
       "      <td></td>\n",
       "      <td>Female</td>\n",
       "      <td>University Student</td>\n",
       "      <td>None</td>\n",
       "      <td>Christian</td>\n",
       "    </tr>\n",
       "    <tr>\n",
       "      <th>7460</th>\n",
       "      <td>30</td>\n",
       "      <td>Freeman Trail</td>\n",
       "      <td>Adrian</td>\n",
       "      <td>King</td>\n",
       "      <td>20</td>\n",
       "      <td>None</td>\n",
       "      <td></td>\n",
       "      <td>Male</td>\n",
       "      <td>University Student</td>\n",
       "      <td>None</td>\n",
       "      <td>Christian</td>\n",
       "    </tr>\n",
       "  </tbody>\n",
       "</table>\n",
       "</div>"
      ],
      "text/plain": [
       "      House Number          Street First Name Surname  Age  \\\n",
       "4328            53    Smith Plains       Lynn  Hilton   52   \n",
       "7103            24  Ellis Mountain      Susan  Taylor   19   \n",
       "7460            30   Freeman Trail     Adrian    King   20   \n",
       "\n",
       "     Relationship to Head of House Marital Status  Gender          Occupation  \\\n",
       "4328                          Head                 Female     Hospital doctor   \n",
       "7103                          None                 Female  University Student   \n",
       "7460                          None                   Male  University Student   \n",
       "\n",
       "     Infirmity   Religion  \n",
       "4328      None  Christian  \n",
       "7103      None  Christian  \n",
       "7460      None  Christian  "
      ]
     },
     "execution_count": 27,
     "metadata": {},
     "output_type": "execute_result"
    }
   ],
   "source": [
    "#checking of marital status\n",
    "census_data[census_data['Marital Status'] == ' ']"
   ]
  },
  {
   "cell_type": "code",
   "execution_count": 28,
   "id": "d9363377",
   "metadata": {},
   "outputs": [],
   "source": [
    "census_data.at[4328, 'Marital Status']= 'Married' #A doctor , head of the relationship with family members and hopsital doctor,hence we replaced it with married\n",
    "census_data.at[7103, 'Marital Status']= 'Single'  # Still a student with a young age of 19 with no house relationship, hence we replaced with single\n",
    "census_data.at[7460, 'Marital Status']= 'Single'  #Still a student with a young age of 19 with no house relationship, hence we replaced with single"
   ]
  },
  {
   "cell_type": "code",
   "execution_count": 29,
   "id": "ec3f1de3",
   "metadata": {},
   "outputs": [
    {
     "data": {
      "text/html": [
       "<div>\n",
       "<style scoped>\n",
       "    .dataframe tbody tr th:only-of-type {\n",
       "        vertical-align: middle;\n",
       "    }\n",
       "\n",
       "    .dataframe tbody tr th {\n",
       "        vertical-align: top;\n",
       "    }\n",
       "\n",
       "    .dataframe thead th {\n",
       "        text-align: right;\n",
       "    }\n",
       "</style>\n",
       "<table border=\"1\" class=\"dataframe\">\n",
       "  <thead>\n",
       "    <tr style=\"text-align: right;\">\n",
       "      <th></th>\n",
       "      <th>House Number</th>\n",
       "      <th>Street</th>\n",
       "      <th>First Name</th>\n",
       "      <th>Surname</th>\n",
       "      <th>Age</th>\n",
       "      <th>Relationship to Head of House</th>\n",
       "      <th>Marital Status</th>\n",
       "      <th>Gender</th>\n",
       "      <th>Occupation</th>\n",
       "      <th>Infirmity</th>\n",
       "      <th>Religion</th>\n",
       "    </tr>\n",
       "  </thead>\n",
       "  <tbody>\n",
       "  </tbody>\n",
       "</table>\n",
       "</div>"
      ],
      "text/plain": [
       "Empty DataFrame\n",
       "Columns: [House Number, Street, First Name, Surname, Age, Relationship to Head of House, Marital Status, Gender, Occupation, Infirmity, Religion]\n",
       "Index: []"
      ]
     },
     "execution_count": 29,
     "metadata": {},
     "output_type": "execute_result"
    }
   ],
   "source": [
    "census_data[census_data['Marital Status'] == ' '] #checking for any empty string in the marital column"
   ]
  },
  {
   "cell_type": "markdown",
   "id": "0c1a2ea9",
   "metadata": {},
   "source": [
    "From the above , we can see that the empty marital status has been assigned values, hence no more empty strings"
   ]
  },
  {
   "cell_type": "code",
   "execution_count": 30,
   "id": "276e0835",
   "metadata": {},
   "outputs": [
    {
     "data": {
      "text/plain": [
       "Single      2943\n",
       "Married     2225\n",
       "Divorced     744\n",
       "Widowed      360\n",
       "Name: Marital Status, dtype: int64"
      ]
     },
     "execution_count": 30,
     "metadata": {},
     "output_type": "execute_result"
    }
   ],
   "source": [
    "census_data[\"Marital Status\"].value_counts()# counts check on marital status"
   ]
  },
  {
   "cell_type": "code",
   "execution_count": 31,
   "id": "423c45df",
   "metadata": {},
   "outputs": [],
   "source": [
    "census_data.loc[census_data['Age']<18,'Marital Status']='Below Age'#Changing the Marital status of kids in the data set to 'Below age'"
   ]
  },
  {
   "cell_type": "code",
   "execution_count": 32,
   "id": "e03f10b0",
   "metadata": {},
   "outputs": [
    {
     "data": {
      "text/plain": [
       "House Number                        0\n",
       "Street                              0\n",
       "First Name                          0\n",
       "Surname                             0\n",
       "Age                                 0\n",
       "Relationship to Head of House       0\n",
       "Marital Status                      0\n",
       "Gender                              0\n",
       "Occupation                          0\n",
       "Infirmity                           0\n",
       "Religion                         2105\n",
       "dtype: int64"
      ]
     },
     "execution_count": 32,
     "metadata": {},
     "output_type": "execute_result"
    }
   ],
   "source": [
    "census_data.isnull().sum() #checking for missing value"
   ]
  },
  {
   "cell_type": "code",
   "execution_count": 33,
   "id": "de0079e8",
   "metadata": {},
   "outputs": [
    {
     "data": {
      "text/plain": [
       "Single       2943\n",
       "Married      2223\n",
       "Below Age    2058\n",
       "Divorced      744\n",
       "Widowed       360\n",
       "Name: Marital Status, dtype: int64"
      ]
     },
     "execution_count": 33,
     "metadata": {},
     "output_type": "execute_result"
    }
   ],
   "source": [
    "# counts check on marital status\n",
    "census_data[\"Marital Status\"].value_counts()"
   ]
  },
  {
   "cell_type": "code",
   "execution_count": 34,
   "id": "cefab56e",
   "metadata": {},
   "outputs": [
    {
     "data": {
      "text/plain": [
       "array(['Single', 'Married', 'Divorced', 'Below Age', 'Widowed'],\n",
       "      dtype=object)"
      ]
     },
     "execution_count": 34,
     "metadata": {},
     "output_type": "execute_result"
    }
   ],
   "source": [
    "census_data['Marital Status'].unique() #Reconfirming for any missing value in the marital status"
   ]
  },
  {
   "cell_type": "markdown",
   "id": "e3dc4882",
   "metadata": {},
   "source": [
    "From the Marital status data above ,the data has been cleaned now and the empty strings have been replaced , while the nan with age values less than 18years have been replaced with 'underage'."
   ]
  },
  {
   "cell_type": "markdown",
   "id": "78d23149",
   "metadata": {},
   "source": [
    "### Checking and possible cleaning of 'Gender' column"
   ]
  },
  {
   "cell_type": "code",
   "execution_count": 35,
   "id": "f3d740ff",
   "metadata": {},
   "outputs": [
    {
     "data": {
      "text/plain": [
       "array(['Female', 'Male'], dtype=object)"
      ]
     },
     "execution_count": 35,
     "metadata": {},
     "output_type": "execute_result"
    }
   ],
   "source": [
    "census_data['Gender'].unique()#checking the unique values of the gender column"
   ]
  },
  {
   "cell_type": "code",
   "execution_count": 36,
   "id": "db96b8c7",
   "metadata": {},
   "outputs": [
    {
     "data": {
      "text/plain": [
       "Female    4302\n",
       "Male      4026\n",
       "Name: Gender, dtype: int64"
      ]
     },
     "execution_count": 36,
     "metadata": {},
     "output_type": "execute_result"
    }
   ],
   "source": [
    "census_data[\"Gender\"].value_counts() # count check on Gender"
   ]
  },
  {
   "cell_type": "markdown",
   "id": "9e373623",
   "metadata": {},
   "source": [
    "From the above data , we can see that the gender column is okay"
   ]
  },
  {
   "cell_type": "markdown",
   "id": "97f5645c",
   "metadata": {},
   "source": [
    "### Checking and possible cleaning of 'Occupation' column"
   ]
  },
  {
   "cell_type": "code",
   "execution_count": 37,
   "id": "f9e807e8",
   "metadata": {},
   "outputs": [
    {
     "data": {
      "text/plain": [
       "array(['Engineer, building services', 'Engineer, mining', 'Unemployed',\n",
       "       ..., 'Retired Multimedia programmer',\n",
       "       'Retired Commercial/residential surveyor',\n",
       "       'Retired Control and instrumentation engineer'], dtype=object)"
      ]
     },
     "execution_count": 37,
     "metadata": {},
     "output_type": "execute_result"
    }
   ],
   "source": [
    "census_data['Occupation'].unique()"
   ]
  },
  {
   "cell_type": "code",
   "execution_count": 38,
   "id": "c1071f30",
   "metadata": {},
   "outputs": [
    {
     "data": {
      "text/plain": [
       "Student                                         1669\n",
       "University Student                               559\n",
       "Unemployed                                       513\n",
       "Child                                            500\n",
       "Secretary, company                                16\n",
       "                                                ... \n",
       "Retired Immunologist                               1\n",
       "Retired Furniture designer                         1\n",
       "Hydrogeologist                                     1\n",
       "Retired Engineering geologist                      1\n",
       "Retired Control and instrumentation engineer       1\n",
       "Name: Occupation, Length: 1058, dtype: int64"
      ]
     },
     "execution_count": 38,
     "metadata": {},
     "output_type": "execute_result"
    }
   ],
   "source": [
    "census_data[\"Occupation\"].value_counts()# count check on Gender"
   ]
  },
  {
   "cell_type": "markdown",
   "id": "9e11233b",
   "metadata": {},
   "source": [
    "From the above data , we can see that the 'Occupation' column is okay"
   ]
  },
  {
   "cell_type": "markdown",
   "id": "7830d127",
   "metadata": {},
   "source": [
    "### Checking and possible cleaning of 'Infirmity' column"
   ]
  },
  {
   "cell_type": "code",
   "execution_count": 39,
   "id": "ddc70c9a",
   "metadata": {},
   "outputs": [
    {
     "data": {
      "text/plain": [
       "array(['None', 'Physical Disability', 'Mental Disability',\n",
       "       'Unknown Infection', ' ', 'Disabled', 'Blind', 'Deaf'],\n",
       "      dtype=object)"
      ]
     },
     "execution_count": 39,
     "metadata": {},
     "output_type": "execute_result"
    }
   ],
   "source": [
    "census_data['Infirmity'].unique()"
   ]
  },
  {
   "cell_type": "code",
   "execution_count": 40,
   "id": "27e0a589",
   "metadata": {},
   "outputs": [
    {
     "data": {
      "text/plain": [
       "None                   8260\n",
       "Physical Disability      17\n",
       "Mental Disability        13\n",
       "Blind                    10\n",
       "Unknown Infection         8\n",
       "                          8\n",
       "Deaf                      8\n",
       "Disabled                  4\n",
       "Name: Infirmity, dtype: int64"
      ]
     },
     "execution_count": 40,
     "metadata": {},
     "output_type": "execute_result"
    }
   ],
   "source": [
    "census_data[\"Infirmity\"].value_counts()# counts check on Infirmity"
   ]
  },
  {
   "cell_type": "code",
   "execution_count": 41,
   "id": "e6b172b8",
   "metadata": {},
   "outputs": [
    {
     "data": {
      "text/html": [
       "<div>\n",
       "<style scoped>\n",
       "    .dataframe tbody tr th:only-of-type {\n",
       "        vertical-align: middle;\n",
       "    }\n",
       "\n",
       "    .dataframe tbody tr th {\n",
       "        vertical-align: top;\n",
       "    }\n",
       "\n",
       "    .dataframe thead th {\n",
       "        text-align: right;\n",
       "    }\n",
       "</style>\n",
       "<table border=\"1\" class=\"dataframe\">\n",
       "  <thead>\n",
       "    <tr style=\"text-align: right;\">\n",
       "      <th></th>\n",
       "      <th>House Number</th>\n",
       "      <th>Street</th>\n",
       "      <th>First Name</th>\n",
       "      <th>Surname</th>\n",
       "      <th>Age</th>\n",
       "      <th>Relationship to Head of House</th>\n",
       "      <th>Marital Status</th>\n",
       "      <th>Gender</th>\n",
       "      <th>Occupation</th>\n",
       "      <th>Infirmity</th>\n",
       "      <th>Religion</th>\n",
       "    </tr>\n",
       "  </thead>\n",
       "  <tbody>\n",
       "    <tr>\n",
       "      <th>344</th>\n",
       "      <td>29</td>\n",
       "      <td>Gold Road</td>\n",
       "      <td>Joanna</td>\n",
       "      <td>Francis</td>\n",
       "      <td>65</td>\n",
       "      <td>Head</td>\n",
       "      <td>Single</td>\n",
       "      <td>Female</td>\n",
       "      <td>Clothing/textile technologist</td>\n",
       "      <td></td>\n",
       "      <td>Christian</td>\n",
       "    </tr>\n",
       "    <tr>\n",
       "      <th>462</th>\n",
       "      <td>13</td>\n",
       "      <td>Peninsula Drive</td>\n",
       "      <td>Lucy</td>\n",
       "      <td>Graham-Rogers</td>\n",
       "      <td>0</td>\n",
       "      <td>Daughter</td>\n",
       "      <td>Below Age</td>\n",
       "      <td>Female</td>\n",
       "      <td>Child</td>\n",
       "      <td></td>\n",
       "      <td>NaN</td>\n",
       "    </tr>\n",
       "    <tr>\n",
       "      <th>1284</th>\n",
       "      <td>182</td>\n",
       "      <td>Wessex Drive</td>\n",
       "      <td>Susan</td>\n",
       "      <td>Mills</td>\n",
       "      <td>50</td>\n",
       "      <td>Head</td>\n",
       "      <td>Single</td>\n",
       "      <td>Female</td>\n",
       "      <td>International aid/development worker</td>\n",
       "      <td></td>\n",
       "      <td>Christian</td>\n",
       "    </tr>\n",
       "    <tr>\n",
       "      <th>1587</th>\n",
       "      <td>9</td>\n",
       "      <td>Charity Road</td>\n",
       "      <td>Stewart</td>\n",
       "      <td>Brown</td>\n",
       "      <td>3</td>\n",
       "      <td>Son</td>\n",
       "      <td>Below Age</td>\n",
       "      <td>Male</td>\n",
       "      <td>Child</td>\n",
       "      <td></td>\n",
       "      <td>NaN</td>\n",
       "    </tr>\n",
       "    <tr>\n",
       "      <th>1630</th>\n",
       "      <td>18</td>\n",
       "      <td>Charity Road</td>\n",
       "      <td>Jade</td>\n",
       "      <td>Holmes</td>\n",
       "      <td>50</td>\n",
       "      <td>Head</td>\n",
       "      <td>Married</td>\n",
       "      <td>Female</td>\n",
       "      <td>Amenity horticulturist</td>\n",
       "      <td></td>\n",
       "      <td>None</td>\n",
       "    </tr>\n",
       "    <tr>\n",
       "      <th>1665</th>\n",
       "      <td>22</td>\n",
       "      <td>Charity Road</td>\n",
       "      <td>Adrian</td>\n",
       "      <td>Turner</td>\n",
       "      <td>6</td>\n",
       "      <td>Son</td>\n",
       "      <td>Below Age</td>\n",
       "      <td>Male</td>\n",
       "      <td>Student</td>\n",
       "      <td></td>\n",
       "      <td>NaN</td>\n",
       "    </tr>\n",
       "    <tr>\n",
       "      <th>7030</th>\n",
       "      <td>8</td>\n",
       "      <td>Naylor Crescent</td>\n",
       "      <td>Olivia</td>\n",
       "      <td>Porter</td>\n",
       "      <td>22</td>\n",
       "      <td>Head</td>\n",
       "      <td>Single</td>\n",
       "      <td>Female</td>\n",
       "      <td>University Student</td>\n",
       "      <td></td>\n",
       "      <td>None</td>\n",
       "    </tr>\n",
       "    <tr>\n",
       "      <th>8101</th>\n",
       "      <td>54</td>\n",
       "      <td>Kestrel Flat</td>\n",
       "      <td>Elizabeth</td>\n",
       "      <td>Singh</td>\n",
       "      <td>43</td>\n",
       "      <td>Head</td>\n",
       "      <td>Married</td>\n",
       "      <td>Female</td>\n",
       "      <td>Trading standards officer</td>\n",
       "      <td></td>\n",
       "      <td>Christian</td>\n",
       "    </tr>\n",
       "  </tbody>\n",
       "</table>\n",
       "</div>"
      ],
      "text/plain": [
       "      House Number           Street First Name        Surname  Age  \\\n",
       "344             29        Gold Road     Joanna        Francis   65   \n",
       "462             13  Peninsula Drive       Lucy  Graham-Rogers    0   \n",
       "1284           182     Wessex Drive      Susan          Mills   50   \n",
       "1587             9     Charity Road    Stewart          Brown    3   \n",
       "1630            18     Charity Road       Jade         Holmes   50   \n",
       "1665            22     Charity Road     Adrian         Turner    6   \n",
       "7030             8  Naylor Crescent     Olivia         Porter   22   \n",
       "8101            54     Kestrel Flat  Elizabeth          Singh   43   \n",
       "\n",
       "     Relationship to Head of House Marital Status  Gender  \\\n",
       "344                           Head         Single  Female   \n",
       "462                       Daughter      Below Age  Female   \n",
       "1284                          Head         Single  Female   \n",
       "1587                           Son      Below Age    Male   \n",
       "1630                          Head        Married  Female   \n",
       "1665                           Son      Below Age    Male   \n",
       "7030                          Head         Single  Female   \n",
       "8101                          Head        Married  Female   \n",
       "\n",
       "                                Occupation Infirmity   Religion  \n",
       "344          Clothing/textile technologist            Christian  \n",
       "462                                  Child                  NaN  \n",
       "1284  International aid/development worker            Christian  \n",
       "1587                                 Child                  NaN  \n",
       "1630                Amenity horticulturist                 None  \n",
       "1665                               Student                  NaN  \n",
       "7030                    University Student                 None  \n",
       "8101             Trading standards officer            Christian  "
      ]
     },
     "execution_count": 41,
     "metadata": {},
     "output_type": "execute_result"
    }
   ],
   "source": [
    "census_data[census_data['Infirmity'] == ' ']"
   ]
  },
  {
   "cell_type": "markdown",
   "id": "5b446198",
   "metadata": {},
   "source": [
    "From the data above ,we can see that we have an empty strings ,so we will clean the column by setting the empty strings to 'Unknown Infection' since they are unknown"
   ]
  },
  {
   "cell_type": "code",
   "execution_count": 42,
   "id": "0f6fcea5",
   "metadata": {},
   "outputs": [],
   "source": [
    "census_data['Infirmity'].replace(' ', value = 'Unknown Infection', inplace= True )#replacing empty string with unknown infection, as thats the best category to place it since it is unknown "
   ]
  },
  {
   "cell_type": "code",
   "execution_count": 43,
   "id": "5ea78f25",
   "metadata": {},
   "outputs": [
    {
     "data": {
      "text/html": [
       "<div>\n",
       "<style scoped>\n",
       "    .dataframe tbody tr th:only-of-type {\n",
       "        vertical-align: middle;\n",
       "    }\n",
       "\n",
       "    .dataframe tbody tr th {\n",
       "        vertical-align: top;\n",
       "    }\n",
       "\n",
       "    .dataframe thead th {\n",
       "        text-align: right;\n",
       "    }\n",
       "</style>\n",
       "<table border=\"1\" class=\"dataframe\">\n",
       "  <thead>\n",
       "    <tr style=\"text-align: right;\">\n",
       "      <th></th>\n",
       "      <th>House Number</th>\n",
       "      <th>Street</th>\n",
       "      <th>First Name</th>\n",
       "      <th>Surname</th>\n",
       "      <th>Age</th>\n",
       "      <th>Relationship to Head of House</th>\n",
       "      <th>Marital Status</th>\n",
       "      <th>Gender</th>\n",
       "      <th>Occupation</th>\n",
       "      <th>Infirmity</th>\n",
       "      <th>Religion</th>\n",
       "    </tr>\n",
       "  </thead>\n",
       "  <tbody>\n",
       "  </tbody>\n",
       "</table>\n",
       "</div>"
      ],
      "text/plain": [
       "Empty DataFrame\n",
       "Columns: [House Number, Street, First Name, Surname, Age, Relationship to Head of House, Marital Status, Gender, Occupation, Infirmity, Religion]\n",
       "Index: []"
      ]
     },
     "execution_count": 43,
     "metadata": {},
     "output_type": "execute_result"
    }
   ],
   "source": [
    "census_data[census_data['Infirmity'] == ' '] #checking for any empty string in the infirmity column"
   ]
  },
  {
   "cell_type": "code",
   "execution_count": 44,
   "id": "46938f21",
   "metadata": {},
   "outputs": [
    {
     "data": {
      "text/plain": [
       "None                   8260\n",
       "Physical Disability      17\n",
       "Unknown Infection        16\n",
       "Mental Disability        13\n",
       "Blind                    10\n",
       "Deaf                      8\n",
       "Disabled                  4\n",
       "Name: Infirmity, dtype: int64"
      ]
     },
     "execution_count": 44,
     "metadata": {},
     "output_type": "execute_result"
    }
   ],
   "source": [
    "census_data[\"Infirmity\"].value_counts()"
   ]
  },
  {
   "cell_type": "markdown",
   "id": "4a9b5ebc",
   "metadata": {},
   "source": [
    "### Checking and possible cleaning of 'Religion' column"
   ]
  },
  {
   "cell_type": "code",
   "execution_count": 45,
   "id": "5b35e328",
   "metadata": {},
   "outputs": [
    {
     "data": {
      "text/plain": [
       "array(['Catholic', 'Methodist', 'None', nan, 'Christian', 'Sikh',\n",
       "       'Muslim', 'Jewish', 'Buddist', ' ', 'Quaker'], dtype=object)"
      ]
     },
     "execution_count": 45,
     "metadata": {},
     "output_type": "execute_result"
    }
   ],
   "source": [
    "census_data['Religion'].unique()"
   ]
  },
  {
   "cell_type": "code",
   "execution_count": 46,
   "id": "88dea7d2",
   "metadata": {},
   "outputs": [
    {
     "data": {
      "text/plain": [
       "None         2799\n",
       "Christian    1781\n",
       "Catholic      881\n",
       "Methodist     547\n",
       "Muslim        115\n",
       "Sikh           55\n",
       "Jewish         38\n",
       "                4\n",
       "Quaker          2\n",
       "Buddist         1\n",
       "Name: Religion, dtype: int64"
      ]
     },
     "execution_count": 46,
     "metadata": {},
     "output_type": "execute_result"
    }
   ],
   "source": [
    "# counts check on Religion\n",
    "census_data[\"Religion\"].value_counts()"
   ]
  },
  {
   "cell_type": "code",
   "execution_count": 47,
   "id": "461cc1e4",
   "metadata": {},
   "outputs": [
    {
     "data": {
      "text/html": [
       "<div>\n",
       "<style scoped>\n",
       "    .dataframe tbody tr th:only-of-type {\n",
       "        vertical-align: middle;\n",
       "    }\n",
       "\n",
       "    .dataframe tbody tr th {\n",
       "        vertical-align: top;\n",
       "    }\n",
       "\n",
       "    .dataframe thead th {\n",
       "        text-align: right;\n",
       "    }\n",
       "</style>\n",
       "<table border=\"1\" class=\"dataframe\">\n",
       "  <thead>\n",
       "    <tr style=\"text-align: right;\">\n",
       "      <th></th>\n",
       "      <th>House Number</th>\n",
       "      <th>Street</th>\n",
       "      <th>First Name</th>\n",
       "      <th>Surname</th>\n",
       "      <th>Age</th>\n",
       "      <th>Relationship to Head of House</th>\n",
       "      <th>Marital Status</th>\n",
       "      <th>Gender</th>\n",
       "      <th>Occupation</th>\n",
       "      <th>Infirmity</th>\n",
       "      <th>Religion</th>\n",
       "    </tr>\n",
       "  </thead>\n",
       "  <tbody>\n",
       "    <tr>\n",
       "      <th>3054</th>\n",
       "      <td>23</td>\n",
       "      <td>Riley Avenue</td>\n",
       "      <td>Katherine</td>\n",
       "      <td>Scott</td>\n",
       "      <td>25</td>\n",
       "      <td>Head</td>\n",
       "      <td>Single</td>\n",
       "      <td>Female</td>\n",
       "      <td>Unemployed</td>\n",
       "      <td>None</td>\n",
       "      <td></td>\n",
       "    </tr>\n",
       "    <tr>\n",
       "      <th>6456</th>\n",
       "      <td>1</td>\n",
       "      <td>Gibbs Lane</td>\n",
       "      <td>Donna</td>\n",
       "      <td>Mitchell</td>\n",
       "      <td>85</td>\n",
       "      <td>Head</td>\n",
       "      <td>Divorced</td>\n",
       "      <td>Female</td>\n",
       "      <td>Retired Fast food restaurant manager</td>\n",
       "      <td>None</td>\n",
       "      <td></td>\n",
       "    </tr>\n",
       "    <tr>\n",
       "      <th>6824</th>\n",
       "      <td>53</td>\n",
       "      <td>July Isle</td>\n",
       "      <td>Leon</td>\n",
       "      <td>Marshall</td>\n",
       "      <td>23</td>\n",
       "      <td>None</td>\n",
       "      <td>Single</td>\n",
       "      <td>Male</td>\n",
       "      <td>Programmer, multimedia</td>\n",
       "      <td>None</td>\n",
       "      <td></td>\n",
       "    </tr>\n",
       "    <tr>\n",
       "      <th>7573</th>\n",
       "      <td>12</td>\n",
       "      <td>Blackhook Lane</td>\n",
       "      <td>Mohamed</td>\n",
       "      <td>Stephens</td>\n",
       "      <td>51</td>\n",
       "      <td>Husband</td>\n",
       "      <td>Married</td>\n",
       "      <td>Male</td>\n",
       "      <td>Programmer, multimedia</td>\n",
       "      <td>None</td>\n",
       "      <td></td>\n",
       "    </tr>\n",
       "  </tbody>\n",
       "</table>\n",
       "</div>"
      ],
      "text/plain": [
       "      House Number          Street First Name   Surname  Age  \\\n",
       "3054            23    Riley Avenue  Katherine     Scott   25   \n",
       "6456             1      Gibbs Lane      Donna  Mitchell   85   \n",
       "6824            53       July Isle       Leon  Marshall   23   \n",
       "7573            12  Blackhook Lane    Mohamed  Stephens   51   \n",
       "\n",
       "     Relationship to Head of House Marital Status  Gender  \\\n",
       "3054                          Head         Single  Female   \n",
       "6456                          Head       Divorced  Female   \n",
       "6824                          None         Single    Male   \n",
       "7573                       Husband        Married    Male   \n",
       "\n",
       "                                Occupation Infirmity Religion  \n",
       "3054                            Unemployed      None           \n",
       "6456  Retired Fast food restaurant manager      None           \n",
       "6824                Programmer, multimedia      None           \n",
       "7573                Programmer, multimedia      None           "
      ]
     },
     "execution_count": 47,
     "metadata": {},
     "output_type": "execute_result"
    }
   ],
   "source": [
    "census_data[census_data['Religion'] == ' ']"
   ]
  },
  {
   "cell_type": "markdown",
   "id": "8635442c",
   "metadata": {},
   "source": [
    "From the data above ,we can see that we have an empty strings ,so we will clean the column "
   ]
  },
  {
   "cell_type": "code",
   "execution_count": 48,
   "id": "5f692801",
   "metadata": {},
   "outputs": [],
   "source": [
    "census_data.at[7573, 'Religion']= 'Methodist'#Replaced one empty cell with methodist because the family head is a methodist"
   ]
  },
  {
   "cell_type": "code",
   "execution_count": 49,
   "id": "2f0037a1",
   "metadata": {},
   "outputs": [
    {
     "data": {
      "text/html": [
       "<div>\n",
       "<style scoped>\n",
       "    .dataframe tbody tr th:only-of-type {\n",
       "        vertical-align: middle;\n",
       "    }\n",
       "\n",
       "    .dataframe tbody tr th {\n",
       "        vertical-align: top;\n",
       "    }\n",
       "\n",
       "    .dataframe thead th {\n",
       "        text-align: right;\n",
       "    }\n",
       "</style>\n",
       "<table border=\"1\" class=\"dataframe\">\n",
       "  <thead>\n",
       "    <tr style=\"text-align: right;\">\n",
       "      <th></th>\n",
       "      <th>House Number</th>\n",
       "      <th>Street</th>\n",
       "      <th>First Name</th>\n",
       "      <th>Surname</th>\n",
       "      <th>Age</th>\n",
       "      <th>Relationship to Head of House</th>\n",
       "      <th>Marital Status</th>\n",
       "      <th>Gender</th>\n",
       "      <th>Occupation</th>\n",
       "      <th>Infirmity</th>\n",
       "      <th>Religion</th>\n",
       "    </tr>\n",
       "  </thead>\n",
       "  <tbody>\n",
       "    <tr>\n",
       "      <th>3054</th>\n",
       "      <td>23</td>\n",
       "      <td>Riley Avenue</td>\n",
       "      <td>Katherine</td>\n",
       "      <td>Scott</td>\n",
       "      <td>25</td>\n",
       "      <td>Head</td>\n",
       "      <td>Single</td>\n",
       "      <td>Female</td>\n",
       "      <td>Unemployed</td>\n",
       "      <td>None</td>\n",
       "      <td></td>\n",
       "    </tr>\n",
       "    <tr>\n",
       "      <th>6456</th>\n",
       "      <td>1</td>\n",
       "      <td>Gibbs Lane</td>\n",
       "      <td>Donna</td>\n",
       "      <td>Mitchell</td>\n",
       "      <td>85</td>\n",
       "      <td>Head</td>\n",
       "      <td>Divorced</td>\n",
       "      <td>Female</td>\n",
       "      <td>Retired Fast food restaurant manager</td>\n",
       "      <td>None</td>\n",
       "      <td></td>\n",
       "    </tr>\n",
       "    <tr>\n",
       "      <th>6824</th>\n",
       "      <td>53</td>\n",
       "      <td>July Isle</td>\n",
       "      <td>Leon</td>\n",
       "      <td>Marshall</td>\n",
       "      <td>23</td>\n",
       "      <td>None</td>\n",
       "      <td>Single</td>\n",
       "      <td>Male</td>\n",
       "      <td>Programmer, multimedia</td>\n",
       "      <td>None</td>\n",
       "      <td></td>\n",
       "    </tr>\n",
       "  </tbody>\n",
       "</table>\n",
       "</div>"
      ],
      "text/plain": [
       "      House Number        Street First Name   Surname  Age  \\\n",
       "3054            23  Riley Avenue  Katherine     Scott   25   \n",
       "6456             1    Gibbs Lane      Donna  Mitchell   85   \n",
       "6824            53     July Isle       Leon  Marshall   23   \n",
       "\n",
       "     Relationship to Head of House Marital Status  Gender  \\\n",
       "3054                          Head         Single  Female   \n",
       "6456                          Head       Divorced  Female   \n",
       "6824                          None         Single    Male   \n",
       "\n",
       "                                Occupation Infirmity Religion  \n",
       "3054                            Unemployed      None           \n",
       "6456  Retired Fast food restaurant manager      None           \n",
       "6824                Programmer, multimedia      None           "
      ]
     },
     "execution_count": 49,
     "metadata": {},
     "output_type": "execute_result"
    }
   ],
   "source": [
    "census_data[census_data['Religion'] == ' ']"
   ]
  },
  {
   "cell_type": "markdown",
   "id": "c225f2b8",
   "metadata": {},
   "source": [
    "Having replaced Mohammed Stephens missing religion wih Methodist because the family head is a methodist, we wil now replace the other remaining three empty strings with Unknown"
   ]
  },
  {
   "cell_type": "code",
   "execution_count": 50,
   "id": "9f6d4b3a",
   "metadata": {},
   "outputs": [],
   "source": [
    "census_data['Religion'].replace(' ', value = 'Unknown', inplace= True )#replacing the remaining empty string with unknown, since we can not establish the connection to fix the religion"
   ]
  },
  {
   "cell_type": "code",
   "execution_count": 51,
   "id": "b0ffdc5e",
   "metadata": {},
   "outputs": [
    {
     "data": {
      "text/html": [
       "<div>\n",
       "<style scoped>\n",
       "    .dataframe tbody tr th:only-of-type {\n",
       "        vertical-align: middle;\n",
       "    }\n",
       "\n",
       "    .dataframe tbody tr th {\n",
       "        vertical-align: top;\n",
       "    }\n",
       "\n",
       "    .dataframe thead th {\n",
       "        text-align: right;\n",
       "    }\n",
       "</style>\n",
       "<table border=\"1\" class=\"dataframe\">\n",
       "  <thead>\n",
       "    <tr style=\"text-align: right;\">\n",
       "      <th></th>\n",
       "      <th>House Number</th>\n",
       "      <th>Street</th>\n",
       "      <th>First Name</th>\n",
       "      <th>Surname</th>\n",
       "      <th>Age</th>\n",
       "      <th>Relationship to Head of House</th>\n",
       "      <th>Marital Status</th>\n",
       "      <th>Gender</th>\n",
       "      <th>Occupation</th>\n",
       "      <th>Infirmity</th>\n",
       "      <th>Religion</th>\n",
       "    </tr>\n",
       "  </thead>\n",
       "  <tbody>\n",
       "  </tbody>\n",
       "</table>\n",
       "</div>"
      ],
      "text/plain": [
       "Empty DataFrame\n",
       "Columns: [House Number, Street, First Name, Surname, Age, Relationship to Head of House, Marital Status, Gender, Occupation, Infirmity, Religion]\n",
       "Index: []"
      ]
     },
     "execution_count": 51,
     "metadata": {},
     "output_type": "execute_result"
    }
   ],
   "source": [
    "census_data[census_data['Religion'] == ' '] #checking for any empty string in the Religion column"
   ]
  },
  {
   "cell_type": "code",
   "execution_count": 52,
   "id": "d28a4224",
   "metadata": {},
   "outputs": [],
   "source": [
    "census_data[\"Religion\"].replace(np.nan, \"None\", inplace = True) #Changing the values that has NA in the Religion column to None , so set all NA to 'None'\n",
    "census_data[\"Religion\"].replace(np.nan, \"None\", inplace = True)"
   ]
  },
  {
   "cell_type": "code",
   "execution_count": 53,
   "id": "cbb37929",
   "metadata": {},
   "outputs": [
    {
     "data": {
      "text/plain": [
       "None         4904\n",
       "Christian    1781\n",
       "Catholic      881\n",
       "Methodist     548\n",
       "Muslim        115\n",
       "Sikh           55\n",
       "Jewish         38\n",
       "Unknown         3\n",
       "Quaker          2\n",
       "Buddist         1\n",
       "Name: Religion, dtype: int64"
      ]
     },
     "execution_count": 53,
     "metadata": {},
     "output_type": "execute_result"
    }
   ],
   "source": [
    "census_data[\"Religion\"].value_counts()# counts check on Religion"
   ]
  },
  {
   "cell_type": "code",
   "execution_count": 54,
   "id": "fc175faf",
   "metadata": {},
   "outputs": [
    {
     "data": {
      "text/plain": [
       "House Number                     0\n",
       "Street                           0\n",
       "First Name                       0\n",
       "Surname                          0\n",
       "Age                              0\n",
       "Relationship to Head of House    0\n",
       "Marital Status                   0\n",
       "Gender                           0\n",
       "Occupation                       0\n",
       "Infirmity                        0\n",
       "Religion                         0\n",
       "dtype: int64"
      ]
     },
     "execution_count": 54,
     "metadata": {},
     "output_type": "execute_result"
    }
   ],
   "source": [
    "census_data.isnull().sum() #checking for any missing value"
   ]
  },
  {
   "cell_type": "code",
   "execution_count": 55,
   "id": "6d64d678",
   "metadata": {},
   "outputs": [
    {
     "data": {
      "text/plain": [
       "array(['Catholic', 'Methodist', 'None', 'Christian', 'Sikh', 'Muslim',\n",
       "       'Jewish', 'Buddist', 'Unknown', 'Quaker'], dtype=object)"
      ]
     },
     "execution_count": 55,
     "metadata": {},
     "output_type": "execute_result"
    }
   ],
   "source": [
    "census_data['Religion'].unique()#checking the unique values of the religion column"
   ]
  },
  {
   "cell_type": "markdown",
   "id": "64644c60",
   "metadata": {},
   "source": [
    "### DATA VISUALIZATION AND ANALYSIS"
   ]
  },
  {
   "cell_type": "code",
   "execution_count": 56,
   "id": "2a1c2da5",
   "metadata": {
    "scrolled": false
   },
   "outputs": [
    {
     "data": {
      "text/plain": [
       "House Number                      int64\n",
       "Street                           object\n",
       "First Name                       object\n",
       "Surname                          object\n",
       "Age                               int32\n",
       "Relationship to Head of House    object\n",
       "Marital Status                   object\n",
       "Gender                           object\n",
       "Occupation                       object\n",
       "Infirmity                        object\n",
       "Religion                         object\n",
       "dtype: object"
      ]
     },
     "execution_count": 56,
     "metadata": {},
     "output_type": "execute_result"
    }
   ],
   "source": [
    "census_data.dtypes #displaying of the dataframe data types"
   ]
  },
  {
   "cell_type": "code",
   "execution_count": 57,
   "id": "b6c2c5e0",
   "metadata": {},
   "outputs": [
    {
     "name": "stdout",
     "output_type": "stream",
     "text": [
      "<class 'pandas.core.frame.DataFrame'>\n",
      "Int64Index: 8328 entries, 0 to 8328\n",
      "Data columns (total 11 columns):\n",
      " #   Column                         Non-Null Count  Dtype \n",
      "---  ------                         --------------  ----- \n",
      " 0   House Number                   8328 non-null   int64 \n",
      " 1   Street                         8328 non-null   object\n",
      " 2   First Name                     8328 non-null   object\n",
      " 3   Surname                        8328 non-null   object\n",
      " 4   Age                            8328 non-null   int32 \n",
      " 5   Relationship to Head of House  8328 non-null   object\n",
      " 6   Marital Status                 8328 non-null   object\n",
      " 7   Gender                         8328 non-null   object\n",
      " 8   Occupation                     8328 non-null   object\n",
      " 9   Infirmity                      8328 non-null   object\n",
      " 10  Religion                       8328 non-null   object\n",
      "dtypes: int32(1), int64(1), object(9)\n",
      "memory usage: 1006.3+ KB\n"
     ]
    }
   ],
   "source": [
    "census_data.info()#displaying of the dataframe info"
   ]
  },
  {
   "cell_type": "code",
   "execution_count": 58,
   "id": "c9db3065",
   "metadata": {},
   "outputs": [
    {
     "data": {
      "image/png": "[encoded data removed]",
      "text/plain": [
       "<Figure size 640x480 with 1 Axes>"
      ]
     },
     "metadata": {},
     "output_type": "display_data"
    }
   ],
   "source": [
    "#plotting the histogram\n",
    "#ax=sns.histplot(census_data, x = 'Age', binwidth = 3)\n",
    "sns.histplot(data = census_data, x = \"Age\")\n",
    "plt.ylabel(\"Frequency\")\n",
    "plt.title(\"Distribution of Age\")\n",
    "# plt.show()\n",
    "\n",
    "plt.savefig(\"age_histogram.png\")"
   ]
  },
  {
   "cell_type": "code",
   "execution_count": 59,
   "id": "9c066de3",
   "metadata": {},
   "outputs": [
    {
     "data": {
      "image/png": "[encoded data removed]",
      "text/plain": [
       "<Figure size 700x500 with 1 Axes>"
      ]
     },
     "metadata": {},
     "output_type": "display_data"
    }
   ],
   "source": [
    "\n",
    "# Now we have to Set the figure size at once\n",
    "fig, ax = plt.subplots(figsize=(7, 5))\n",
    "# Now, we Create a boxplot of the 'Age' column in the 'census' DataFrame using seaborn\n",
    "sns.boxplot(x=census_data['Age'], ax=ax)\n",
    "\n",
    "# Now ,we Set the axis labels and title at once\n",
    "ax.set_xlabel('Age')\n",
    "ax.set_title('Distribution of Age')\n",
    "\n",
    "# Save the plot as a PNG file with the filename \"age_box.png\"\n",
    "plt.savefig(\"age_box.png\", dpi=300, bbox_inches='tight')\n",
    "plt.show()"
   ]
  },
  {
   "cell_type": "code",
   "execution_count": 60,
   "id": "91e6832e",
   "metadata": {},
   "outputs": [],
   "source": [
    "bins = [0, 5, 10, 15, 20, 25, 30, 35, 40, 45, 50, 55, 60, 65, 70, 75, 80, 85, 90, 95, 100, np.inf]\n",
    "labels = ['0-4', '5-9', '10-14', '15-19', '20-24', '25-29', '30-34', '35-39', '40-44', '45-49', '50-54', '55-59', '60-64', '65-69', '70-74', '75-79', '80-84', '85-89', '90-94', '95-99', '100+']\n",
    "census_data['Age Range'] = pd.cut(census_data['Age'], bins=bins, labels=labels)\n",
    "#Here, we define the bin edges and the corresponding labels for each age group using bins and labels respectively. \n",
    "#Then, we apply the cut() function to the 'Age' column of census_data using these bins and labels to create the \n",
    "#'Age Range' column. The resulting DataFrame will have the same information as the original one."
   ]
  },
  {
   "cell_type": "code",
   "execution_count": 61,
   "id": "34408cdd",
   "metadata": {},
   "outputs": [
    {
     "data": {
      "text/html": [
       "<div>\n",
       "<style scoped>\n",
       "    .dataframe tbody tr th:only-of-type {\n",
       "        vertical-align: middle;\n",
       "    }\n",
       "\n",
       "    .dataframe tbody tr th {\n",
       "        vertical-align: top;\n",
       "    }\n",
       "\n",
       "    .dataframe thead th {\n",
       "        text-align: right;\n",
       "    }\n",
       "</style>\n",
       "<table border=\"1\" class=\"dataframe\">\n",
       "  <thead>\n",
       "    <tr style=\"text-align: right;\">\n",
       "      <th></th>\n",
       "      <th>House Number</th>\n",
       "      <th>Street</th>\n",
       "      <th>First Name</th>\n",
       "      <th>Surname</th>\n",
       "      <th>Age</th>\n",
       "      <th>Relationship to Head of House</th>\n",
       "      <th>Marital Status</th>\n",
       "      <th>Gender</th>\n",
       "      <th>Occupation</th>\n",
       "      <th>Infirmity</th>\n",
       "      <th>Religion</th>\n",
       "      <th>Age Range</th>\n",
       "    </tr>\n",
       "  </thead>\n",
       "  <tbody>\n",
       "    <tr>\n",
       "      <th>0</th>\n",
       "      <td>1</td>\n",
       "      <td>Scott Dale</td>\n",
       "      <td>Maureen</td>\n",
       "      <td>Cox</td>\n",
       "      <td>50</td>\n",
       "      <td>Head</td>\n",
       "      <td>Single</td>\n",
       "      <td>Female</td>\n",
       "      <td>Engineer, building services</td>\n",
       "      <td>None</td>\n",
       "      <td>Catholic</td>\n",
       "      <td>45-49</td>\n",
       "    </tr>\n",
       "    <tr>\n",
       "      <th>1</th>\n",
       "      <td>1</td>\n",
       "      <td>Scott Dale</td>\n",
       "      <td>Rhys</td>\n",
       "      <td>Brown</td>\n",
       "      <td>52</td>\n",
       "      <td>Partner</td>\n",
       "      <td>Single</td>\n",
       "      <td>Male</td>\n",
       "      <td>Engineer, mining</td>\n",
       "      <td>None</td>\n",
       "      <td>Catholic</td>\n",
       "      <td>50-54</td>\n",
       "    </tr>\n",
       "    <tr>\n",
       "      <th>2</th>\n",
       "      <td>2</td>\n",
       "      <td>Scott Dale</td>\n",
       "      <td>Lorraine</td>\n",
       "      <td>Allen</td>\n",
       "      <td>69</td>\n",
       "      <td>Head</td>\n",
       "      <td>Married</td>\n",
       "      <td>Female</td>\n",
       "      <td>Unemployed</td>\n",
       "      <td>None</td>\n",
       "      <td>Methodist</td>\n",
       "      <td>65-69</td>\n",
       "    </tr>\n",
       "    <tr>\n",
       "      <th>3</th>\n",
       "      <td>2</td>\n",
       "      <td>Scott Dale</td>\n",
       "      <td>Lewis</td>\n",
       "      <td>Allen</td>\n",
       "      <td>72</td>\n",
       "      <td>Husband</td>\n",
       "      <td>Married</td>\n",
       "      <td>Male</td>\n",
       "      <td>Retired Associate Professor</td>\n",
       "      <td>None</td>\n",
       "      <td>Methodist</td>\n",
       "      <td>70-74</td>\n",
       "    </tr>\n",
       "    <tr>\n",
       "      <th>4</th>\n",
       "      <td>3</td>\n",
       "      <td>Scott Dale</td>\n",
       "      <td>Molly</td>\n",
       "      <td>Patel</td>\n",
       "      <td>36</td>\n",
       "      <td>Head</td>\n",
       "      <td>Married</td>\n",
       "      <td>Female</td>\n",
       "      <td>Engineer, land</td>\n",
       "      <td>None</td>\n",
       "      <td>None</td>\n",
       "      <td>35-39</td>\n",
       "    </tr>\n",
       "    <tr>\n",
       "      <th>...</th>\n",
       "      <td>...</td>\n",
       "      <td>...</td>\n",
       "      <td>...</td>\n",
       "      <td>...</td>\n",
       "      <td>...</td>\n",
       "      <td>...</td>\n",
       "      <td>...</td>\n",
       "      <td>...</td>\n",
       "      <td>...</td>\n",
       "      <td>...</td>\n",
       "      <td>...</td>\n",
       "      <td>...</td>\n",
       "    </tr>\n",
       "    <tr>\n",
       "      <th>8324</th>\n",
       "      <td>1</td>\n",
       "      <td>Walker Palace</td>\n",
       "      <td>Adrian</td>\n",
       "      <td>Mason</td>\n",
       "      <td>56</td>\n",
       "      <td>Lodger</td>\n",
       "      <td>Single</td>\n",
       "      <td>Male</td>\n",
       "      <td>Unemployed</td>\n",
       "      <td>None</td>\n",
       "      <td>Muslim</td>\n",
       "      <td>55-59</td>\n",
       "    </tr>\n",
       "    <tr>\n",
       "      <th>8325</th>\n",
       "      <td>1</td>\n",
       "      <td>Poole Stronghold</td>\n",
       "      <td>Beth</td>\n",
       "      <td>Evans</td>\n",
       "      <td>43</td>\n",
       "      <td>Head</td>\n",
       "      <td>Married</td>\n",
       "      <td>Female</td>\n",
       "      <td>Buyer, retail</td>\n",
       "      <td>None</td>\n",
       "      <td>Christian</td>\n",
       "      <td>40-44</td>\n",
       "    </tr>\n",
       "    <tr>\n",
       "      <th>8326</th>\n",
       "      <td>1</td>\n",
       "      <td>Poole Stronghold</td>\n",
       "      <td>Trevor</td>\n",
       "      <td>Evans</td>\n",
       "      <td>43</td>\n",
       "      <td>Husband</td>\n",
       "      <td>Married</td>\n",
       "      <td>Male</td>\n",
       "      <td>Patent examiner</td>\n",
       "      <td>None</td>\n",
       "      <td>Christian</td>\n",
       "      <td>40-44</td>\n",
       "    </tr>\n",
       "    <tr>\n",
       "      <th>8327</th>\n",
       "      <td>1</td>\n",
       "      <td>Poole Stronghold</td>\n",
       "      <td>Pamela</td>\n",
       "      <td>Evans</td>\n",
       "      <td>0</td>\n",
       "      <td>Daughter</td>\n",
       "      <td>Below Age</td>\n",
       "      <td>Female</td>\n",
       "      <td>Child</td>\n",
       "      <td>None</td>\n",
       "      <td>None</td>\n",
       "      <td>NaN</td>\n",
       "    </tr>\n",
       "    <tr>\n",
       "      <th>8328</th>\n",
       "      <td>1</td>\n",
       "      <td>Poole Stronghold</td>\n",
       "      <td>Carol</td>\n",
       "      <td>Thomas</td>\n",
       "      <td>24</td>\n",
       "      <td>Sibling</td>\n",
       "      <td>Single</td>\n",
       "      <td>Female</td>\n",
       "      <td>Administrator, charities/voluntary organisations</td>\n",
       "      <td>None</td>\n",
       "      <td>Christian</td>\n",
       "      <td>20-24</td>\n",
       "    </tr>\n",
       "  </tbody>\n",
       "</table>\n",
       "<p>8328 rows × 12 columns</p>\n",
       "</div>"
      ],
      "text/plain": [
       "      House Number            Street First Name Surname  Age  \\\n",
       "0                1        Scott Dale    Maureen     Cox   50   \n",
       "1                1        Scott Dale       Rhys   Brown   52   \n",
       "2                2        Scott Dale   Lorraine   Allen   69   \n",
       "3                2        Scott Dale      Lewis   Allen   72   \n",
       "4                3        Scott Dale      Molly   Patel   36   \n",
       "...            ...               ...        ...     ...  ...   \n",
       "8324             1     Walker Palace     Adrian   Mason   56   \n",
       "8325             1  Poole Stronghold       Beth   Evans   43   \n",
       "8326             1  Poole Stronghold     Trevor   Evans   43   \n",
       "8327             1  Poole Stronghold     Pamela   Evans    0   \n",
       "8328             1  Poole Stronghold      Carol  Thomas   24   \n",
       "\n",
       "     Relationship to Head of House Marital Status  Gender  \\\n",
       "0                             Head         Single  Female   \n",
       "1                          Partner         Single    Male   \n",
       "2                             Head        Married  Female   \n",
       "3                          Husband        Married    Male   \n",
       "4                             Head        Married  Female   \n",
       "...                            ...            ...     ...   \n",
       "8324                        Lodger         Single    Male   \n",
       "8325                          Head        Married  Female   \n",
       "8326                       Husband        Married    Male   \n",
       "8327                      Daughter      Below Age  Female   \n",
       "8328                       Sibling         Single  Female   \n",
       "\n",
       "                                            Occupation Infirmity   Religion  \\\n",
       "0                          Engineer, building services      None   Catholic   \n",
       "1                                     Engineer, mining      None   Catholic   \n",
       "2                                           Unemployed      None  Methodist   \n",
       "3                          Retired Associate Professor      None  Methodist   \n",
       "4                                       Engineer, land      None       None   \n",
       "...                                                ...       ...        ...   \n",
       "8324                                        Unemployed      None     Muslim   \n",
       "8325                                     Buyer, retail      None  Christian   \n",
       "8326                                   Patent examiner      None  Christian   \n",
       "8327                                             Child      None       None   \n",
       "8328  Administrator, charities/voluntary organisations      None  Christian   \n",
       "\n",
       "     Age Range  \n",
       "0        45-49  \n",
       "1        50-54  \n",
       "2        65-69  \n",
       "3        70-74  \n",
       "4        35-39  \n",
       "...        ...  \n",
       "8324     55-59  \n",
       "8325     40-44  \n",
       "8326     40-44  \n",
       "8327       NaN  \n",
       "8328     20-24  \n",
       "\n",
       "[8328 rows x 12 columns]"
      ]
     },
     "execution_count": 61,
     "metadata": {},
     "output_type": "execute_result"
    }
   ],
   "source": [
    "census_data"
   ]
  },
  {
   "cell_type": "code",
   "execution_count": 62,
   "id": "79654320",
   "metadata": {},
   "outputs": [],
   "source": [
    "gender_age_counts = census_data.groupby(['Gender', 'Age Range']).size().unstack(level=-1, fill_value=0)\n",
    "range_of_male_age = gender_age_counts.loc['Male']  #we extract the 'Male' and 'Female' columns from this DataFrame using .loc[] and store them in range_of_male_age and\n",
    "#range_of_female_age, respectively.\n",
    "range_of_female_age = gender_age_counts.loc['Female']"
   ]
  },
  {
   "cell_type": "code",
   "execution_count": 63,
   "id": "41e72b5b",
   "metadata": {},
   "outputs": [
    {
     "data": {
      "text/plain": [
       "Age Range\n",
       "0-4      260\n",
       "5-9      314\n",
       "10-14    305\n",
       "15-19    348\n",
       "20-24    295\n",
       "25-29    249\n",
       "30-34    276\n",
       "35-39    316\n",
       "40-44    330\n",
       "45-49    285\n",
       "50-54    245\n",
       "55-59    208\n",
       "60-64    180\n",
       "65-69    121\n",
       "70-74    100\n",
       "75-79     59\n",
       "80-84     59\n",
       "85-89     20\n",
       "90-94      9\n",
       "95-99      1\n",
       "100+       3\n",
       "Name: Male, dtype: int64"
      ]
     },
     "execution_count": 63,
     "metadata": {},
     "output_type": "execute_result"
    }
   ],
   "source": [
    "range_of_male_age"
   ]
  },
  {
   "cell_type": "code",
   "execution_count": 64,
   "id": "bf69d028",
   "metadata": {},
   "outputs": [
    {
     "data": {
      "text/plain": [
       "Age Range\n",
       "0-4      261\n",
       "5-9      299\n",
       "10-14    293\n",
       "15-19    327\n",
       "20-24    329\n",
       "25-29    249\n",
       "30-34    349\n",
       "35-39    398\n",
       "40-44    384\n",
       "45-49    319\n",
       "50-54    246\n",
       "55-59    220\n",
       "60-64    172\n",
       "65-69    142\n",
       "70-74    109\n",
       "75-79     81\n",
       "80-84     49\n",
       "85-89     18\n",
       "90-94      3\n",
       "95-99      4\n",
       "100+       5\n",
       "Name: Female, dtype: int64"
      ]
     },
     "execution_count": 64,
     "metadata": {},
     "output_type": "execute_result"
    }
   ],
   "source": [
    "range_of_female_age"
   ]
  },
  {
   "cell_type": "code",
   "execution_count": 65,
   "id": "07e6a19c",
   "metadata": {},
   "outputs": [],
   "source": [
    "Age_range = pd.concat([range_of_male_age, range_of_female_age], axis=1).assign(Total=lambda x: x.sum(axis=1))\n",
    "Age_range['Female'] *= -1\n",
    "#first we use pd.concat() to concatenate the 'range_of_male_age' and 'range_of_female_age' Series along the columns axis.\n",
    "#We then use the .assign() method to add a new 'Total' column to the resulting DataFrame by calling the sum() method along the\n",
    "#columns axis.\n",
    "#we multiply the 'Female' column by -1 to flip the sign and make the bar plot look like a population pyramid."
   ]
  },
  {
   "cell_type": "code",
   "execution_count": 66,
   "id": "2edaa165",
   "metadata": {},
   "outputs": [
    {
     "data": {
      "text/html": [
       "<div>\n",
       "<style scoped>\n",
       "    .dataframe tbody tr th:only-of-type {\n",
       "        vertical-align: middle;\n",
       "    }\n",
       "\n",
       "    .dataframe tbody tr th {\n",
       "        vertical-align: top;\n",
       "    }\n",
       "\n",
       "    .dataframe thead th {\n",
       "        text-align: right;\n",
       "    }\n",
       "</style>\n",
       "<table border=\"1\" class=\"dataframe\">\n",
       "  <thead>\n",
       "    <tr style=\"text-align: right;\">\n",
       "      <th></th>\n",
       "      <th>Male</th>\n",
       "      <th>Female</th>\n",
       "      <th>Total</th>\n",
       "    </tr>\n",
       "    <tr>\n",
       "      <th>Age Range</th>\n",
       "      <th></th>\n",
       "      <th></th>\n",
       "      <th></th>\n",
       "    </tr>\n",
       "  </thead>\n",
       "  <tbody>\n",
       "    <tr>\n",
       "      <th>0-4</th>\n",
       "      <td>260</td>\n",
       "      <td>-261</td>\n",
       "      <td>521</td>\n",
       "    </tr>\n",
       "    <tr>\n",
       "      <th>5-9</th>\n",
       "      <td>314</td>\n",
       "      <td>-299</td>\n",
       "      <td>613</td>\n",
       "    </tr>\n",
       "    <tr>\n",
       "      <th>10-14</th>\n",
       "      <td>305</td>\n",
       "      <td>-293</td>\n",
       "      <td>598</td>\n",
       "    </tr>\n",
       "    <tr>\n",
       "      <th>15-19</th>\n",
       "      <td>348</td>\n",
       "      <td>-327</td>\n",
       "      <td>675</td>\n",
       "    </tr>\n",
       "    <tr>\n",
       "      <th>20-24</th>\n",
       "      <td>295</td>\n",
       "      <td>-329</td>\n",
       "      <td>624</td>\n",
       "    </tr>\n",
       "    <tr>\n",
       "      <th>25-29</th>\n",
       "      <td>249</td>\n",
       "      <td>-249</td>\n",
       "      <td>498</td>\n",
       "    </tr>\n",
       "    <tr>\n",
       "      <th>30-34</th>\n",
       "      <td>276</td>\n",
       "      <td>-349</td>\n",
       "      <td>625</td>\n",
       "    </tr>\n",
       "    <tr>\n",
       "      <th>35-39</th>\n",
       "      <td>316</td>\n",
       "      <td>-398</td>\n",
       "      <td>714</td>\n",
       "    </tr>\n",
       "    <tr>\n",
       "      <th>40-44</th>\n",
       "      <td>330</td>\n",
       "      <td>-384</td>\n",
       "      <td>714</td>\n",
       "    </tr>\n",
       "    <tr>\n",
       "      <th>45-49</th>\n",
       "      <td>285</td>\n",
       "      <td>-319</td>\n",
       "      <td>604</td>\n",
       "    </tr>\n",
       "    <tr>\n",
       "      <th>50-54</th>\n",
       "      <td>245</td>\n",
       "      <td>-246</td>\n",
       "      <td>491</td>\n",
       "    </tr>\n",
       "    <tr>\n",
       "      <th>55-59</th>\n",
       "      <td>208</td>\n",
       "      <td>-220</td>\n",
       "      <td>428</td>\n",
       "    </tr>\n",
       "    <tr>\n",
       "      <th>60-64</th>\n",
       "      <td>180</td>\n",
       "      <td>-172</td>\n",
       "      <td>352</td>\n",
       "    </tr>\n",
       "    <tr>\n",
       "      <th>65-69</th>\n",
       "      <td>121</td>\n",
       "      <td>-142</td>\n",
       "      <td>263</td>\n",
       "    </tr>\n",
       "    <tr>\n",
       "      <th>70-74</th>\n",
       "      <td>100</td>\n",
       "      <td>-109</td>\n",
       "      <td>209</td>\n",
       "    </tr>\n",
       "    <tr>\n",
       "      <th>75-79</th>\n",
       "      <td>59</td>\n",
       "      <td>-81</td>\n",
       "      <td>140</td>\n",
       "    </tr>\n",
       "    <tr>\n",
       "      <th>80-84</th>\n",
       "      <td>59</td>\n",
       "      <td>-49</td>\n",
       "      <td>108</td>\n",
       "    </tr>\n",
       "    <tr>\n",
       "      <th>85-89</th>\n",
       "      <td>20</td>\n",
       "      <td>-18</td>\n",
       "      <td>38</td>\n",
       "    </tr>\n",
       "    <tr>\n",
       "      <th>90-94</th>\n",
       "      <td>9</td>\n",
       "      <td>-3</td>\n",
       "      <td>12</td>\n",
       "    </tr>\n",
       "    <tr>\n",
       "      <th>95-99</th>\n",
       "      <td>1</td>\n",
       "      <td>-4</td>\n",
       "      <td>5</td>\n",
       "    </tr>\n",
       "    <tr>\n",
       "      <th>100+</th>\n",
       "      <td>3</td>\n",
       "      <td>-5</td>\n",
       "      <td>8</td>\n",
       "    </tr>\n",
       "  </tbody>\n",
       "</table>\n",
       "</div>"
      ],
      "text/plain": [
       "           Male  Female  Total\n",
       "Age Range                     \n",
       "0-4         260    -261    521\n",
       "5-9         314    -299    613\n",
       "10-14       305    -293    598\n",
       "15-19       348    -327    675\n",
       "20-24       295    -329    624\n",
       "25-29       249    -249    498\n",
       "30-34       276    -349    625\n",
       "35-39       316    -398    714\n",
       "40-44       330    -384    714\n",
       "45-49       285    -319    604\n",
       "50-54       245    -246    491\n",
       "55-59       208    -220    428\n",
       "60-64       180    -172    352\n",
       "65-69       121    -142    263\n",
       "70-74       100    -109    209\n",
       "75-79        59     -81    140\n",
       "80-84        59     -49    108\n",
       "85-89        20     -18     38\n",
       "90-94         9      -3     12\n",
       "95-99         1      -4      5\n",
       "100+          3      -5      8"
      ]
     },
     "execution_count": 66,
     "metadata": {},
     "output_type": "execute_result"
    }
   ],
   "source": [
    "Age_range"
   ]
  },
  {
   "cell_type": "code",
   "execution_count": 67,
   "id": "61c4d6cc",
   "metadata": {},
   "outputs": [
    {
     "data": {
      "text/plain": [
       "Age Range\n",
       "0-4        NaN\n",
       "5-9       92.0\n",
       "10-14    -15.0\n",
       "15-19     77.0\n",
       "20-24    -51.0\n",
       "25-29   -126.0\n",
       "30-34    127.0\n",
       "35-39     89.0\n",
       "40-44      0.0\n",
       "45-49   -110.0\n",
       "50-54   -113.0\n",
       "55-59    -63.0\n",
       "60-64    -76.0\n",
       "65-69    -89.0\n",
       "70-74    -54.0\n",
       "75-79    -69.0\n",
       "80-84    -32.0\n",
       "85-89    -70.0\n",
       "90-94    -26.0\n",
       "95-99     -7.0\n",
       "100+       3.0\n",
       "Name: Total, dtype: float64"
      ]
     },
     "execution_count": 67,
     "metadata": {},
     "output_type": "execute_result"
    }
   ],
   "source": [
    "Age_range['Total'].diff()"
   ]
  },
  {
   "cell_type": "code",
   "execution_count": 68,
   "id": "ca44bfa3",
   "metadata": {},
   "outputs": [],
   "source": [
    "collated_data = pd.DataFrame({\n",
    "    'Male': range_of_male_age,# male column created\n",
    "    'Female':-1 *  range_of_female_age #female column created by multiplying by -1, indicating the ages of the female are inverted\n",
    "})\n"
   ]
  },
  {
   "cell_type": "code",
   "execution_count": 69,
   "id": "3b69f6d9",
   "metadata": {},
   "outputs": [],
   "source": [
    "collated_data.index.names = ['Age_distribution']\n",
    "collated_data.reset_index(inplace=True)"
   ]
  },
  {
   "cell_type": "code",
   "execution_count": 70,
   "id": "eeeecfca",
   "metadata": {},
   "outputs": [
    {
     "data": {
      "text/html": [
       "<div>\n",
       "<style scoped>\n",
       "    .dataframe tbody tr th:only-of-type {\n",
       "        vertical-align: middle;\n",
       "    }\n",
       "\n",
       "    .dataframe tbody tr th {\n",
       "        vertical-align: top;\n",
       "    }\n",
       "\n",
       "    .dataframe thead th {\n",
       "        text-align: right;\n",
       "    }\n",
       "</style>\n",
       "<table border=\"1\" class=\"dataframe\">\n",
       "  <thead>\n",
       "    <tr style=\"text-align: right;\">\n",
       "      <th></th>\n",
       "      <th>Age_distribution</th>\n",
       "      <th>Male</th>\n",
       "      <th>Female</th>\n",
       "    </tr>\n",
       "  </thead>\n",
       "  <tbody>\n",
       "    <tr>\n",
       "      <th>0</th>\n",
       "      <td>0-4</td>\n",
       "      <td>260</td>\n",
       "      <td>-261</td>\n",
       "    </tr>\n",
       "    <tr>\n",
       "      <th>1</th>\n",
       "      <td>5-9</td>\n",
       "      <td>314</td>\n",
       "      <td>-299</td>\n",
       "    </tr>\n",
       "    <tr>\n",
       "      <th>2</th>\n",
       "      <td>10-14</td>\n",
       "      <td>305</td>\n",
       "      <td>-293</td>\n",
       "    </tr>\n",
       "    <tr>\n",
       "      <th>3</th>\n",
       "      <td>15-19</td>\n",
       "      <td>348</td>\n",
       "      <td>-327</td>\n",
       "    </tr>\n",
       "    <tr>\n",
       "      <th>4</th>\n",
       "      <td>20-24</td>\n",
       "      <td>295</td>\n",
       "      <td>-329</td>\n",
       "    </tr>\n",
       "    <tr>\n",
       "      <th>5</th>\n",
       "      <td>25-29</td>\n",
       "      <td>249</td>\n",
       "      <td>-249</td>\n",
       "    </tr>\n",
       "    <tr>\n",
       "      <th>6</th>\n",
       "      <td>30-34</td>\n",
       "      <td>276</td>\n",
       "      <td>-349</td>\n",
       "    </tr>\n",
       "    <tr>\n",
       "      <th>7</th>\n",
       "      <td>35-39</td>\n",
       "      <td>316</td>\n",
       "      <td>-398</td>\n",
       "    </tr>\n",
       "    <tr>\n",
       "      <th>8</th>\n",
       "      <td>40-44</td>\n",
       "      <td>330</td>\n",
       "      <td>-384</td>\n",
       "    </tr>\n",
       "    <tr>\n",
       "      <th>9</th>\n",
       "      <td>45-49</td>\n",
       "      <td>285</td>\n",
       "      <td>-319</td>\n",
       "    </tr>\n",
       "    <tr>\n",
       "      <th>10</th>\n",
       "      <td>50-54</td>\n",
       "      <td>245</td>\n",
       "      <td>-246</td>\n",
       "    </tr>\n",
       "    <tr>\n",
       "      <th>11</th>\n",
       "      <td>55-59</td>\n",
       "      <td>208</td>\n",
       "      <td>-220</td>\n",
       "    </tr>\n",
       "    <tr>\n",
       "      <th>12</th>\n",
       "      <td>60-64</td>\n",
       "      <td>180</td>\n",
       "      <td>-172</td>\n",
       "    </tr>\n",
       "    <tr>\n",
       "      <th>13</th>\n",
       "      <td>65-69</td>\n",
       "      <td>121</td>\n",
       "      <td>-142</td>\n",
       "    </tr>\n",
       "    <tr>\n",
       "      <th>14</th>\n",
       "      <td>70-74</td>\n",
       "      <td>100</td>\n",
       "      <td>-109</td>\n",
       "    </tr>\n",
       "    <tr>\n",
       "      <th>15</th>\n",
       "      <td>75-79</td>\n",
       "      <td>59</td>\n",
       "      <td>-81</td>\n",
       "    </tr>\n",
       "    <tr>\n",
       "      <th>16</th>\n",
       "      <td>80-84</td>\n",
       "      <td>59</td>\n",
       "      <td>-49</td>\n",
       "    </tr>\n",
       "    <tr>\n",
       "      <th>17</th>\n",
       "      <td>85-89</td>\n",
       "      <td>20</td>\n",
       "      <td>-18</td>\n",
       "    </tr>\n",
       "    <tr>\n",
       "      <th>18</th>\n",
       "      <td>90-94</td>\n",
       "      <td>9</td>\n",
       "      <td>-3</td>\n",
       "    </tr>\n",
       "    <tr>\n",
       "      <th>19</th>\n",
       "      <td>95-99</td>\n",
       "      <td>1</td>\n",
       "      <td>-4</td>\n",
       "    </tr>\n",
       "    <tr>\n",
       "      <th>20</th>\n",
       "      <td>100+</td>\n",
       "      <td>3</td>\n",
       "      <td>-5</td>\n",
       "    </tr>\n",
       "  </tbody>\n",
       "</table>\n",
       "</div>"
      ],
      "text/plain": [
       "   Age_distribution  Male  Female\n",
       "0               0-4   260    -261\n",
       "1               5-9   314    -299\n",
       "2             10-14   305    -293\n",
       "3             15-19   348    -327\n",
       "4             20-24   295    -329\n",
       "5             25-29   249    -249\n",
       "6             30-34   276    -349\n",
       "7             35-39   316    -398\n",
       "8             40-44   330    -384\n",
       "9             45-49   285    -319\n",
       "10            50-54   245    -246\n",
       "11            55-59   208    -220\n",
       "12            60-64   180    -172\n",
       "13            65-69   121    -142\n",
       "14            70-74   100    -109\n",
       "15            75-79    59     -81\n",
       "16            80-84    59     -49\n",
       "17            85-89    20     -18\n",
       "18            90-94     9      -3\n",
       "19            95-99     1      -4\n",
       "20             100+     3      -5"
      ]
     },
     "execution_count": 70,
     "metadata": {},
     "output_type": "execute_result"
    }
   ],
   "source": [
    "collated_data"
   ]
  },
  {
   "cell_type": "code",
   "execution_count": 71,
   "id": "cdc50004",
   "metadata": {},
   "outputs": [],
   "source": [
    "distribution_list=['100+','95-99', '90-94', '85-89','80-84','75-79','70-74','65-69','60-64','55-59','50-54','45-49','40-44','35-39','30-34','25-29','20-24','15-19','10-14','5-9','0-4']"
   ]
  },
  {
   "cell_type": "code",
   "execution_count": 72,
   "id": "1675e3c2",
   "metadata": {},
   "outputs": [
    {
     "data": {
      "text/plain": [
       "Text(0.5, 0, 'population count')"
      ]
     },
     "execution_count": 72,
     "metadata": {},
     "output_type": "execute_result"
    },
    {
     "data": {
      "image/png": "[encoded data removed]",
      "text/plain": [
       "<Figure size 1400x1000 with 1 Axes>"
      ]
     },
     "metadata": {},
     "output_type": "display_data"
    }
   ],
   "source": [
    "plt.figure(figsize=(14,10))\n",
    "age_pyramid = sns.barplot(x='Male', y='Age_distribution', data=collated_data, color=('green'), order=distribution_list, label='Male') \n",
    " \n",
    "age_pyramid = sns.barplot(x='Female', y='Age_distribution', data=collated_data, color=('darkorange'), order=distribution_list, label='Female') \n",
    "age_pyramid.set(xlabel=\"(Population (Count)\", ylabel=\"Age_distribution\", title = \"Population Pyramid\")\n",
    "age_pyramid.legend() \n",
    "plt.title('Population Pyramid')\n",
    "xticks= [-400,-300,-200,-100, 0,100,200,300, 400,]\n",
    "plt.xticks(xticks, labels=np.abs(xticks))\n",
    "plt.xlabel('population count', fontsize=16)"
   ]
  },
  {
   "cell_type": "markdown",
   "id": "ed193435",
   "metadata": {},
   "source": [
    "### Birth rate calculation per 1000 per year:"
   ]
  },
  {
   "cell_type": "code",
   "execution_count": 73,
   "id": "8af76943",
   "metadata": {},
   "outputs": [],
   "source": [
    "Number_of_births = census_data[census_data['Age'] == 0]['Age'].count()\n"
   ]
  },
  {
   "cell_type": "code",
   "execution_count": 74,
   "id": "71d571ef",
   "metadata": {},
   "outputs": [],
   "source": [
    "# #we will calculate the number of births with the first two age ranges\n",
    "# #Age range   count\n",
    "# #(0-5)       =521 \n",
    "# #(6-11)      =613.\n",
    "# Number_of_births = 613-521"
   ]
  },
  {
   "cell_type": "code",
   "execution_count": 75,
   "id": "cac5b30a",
   "metadata": {},
   "outputs": [
    {
     "data": {
      "text/plain": [
       "88"
      ]
     },
     "execution_count": 75,
     "metadata": {},
     "output_type": "execute_result"
    }
   ],
   "source": [
    "Number_of_births\n"
   ]
  },
  {
   "cell_type": "code",
   "execution_count": 76,
   "id": "8721537b",
   "metadata": {},
   "outputs": [],
   "source": [
    "Birth_rate = Number_of_births /len(census_data)*1000\n"
   ]
  },
  {
   "cell_type": "code",
   "execution_count": 77,
   "id": "e4e3aa2c",
   "metadata": {},
   "outputs": [
    {
     "data": {
      "text/plain": [
       "10.566762728146013"
      ]
     },
     "execution_count": 77,
     "metadata": {},
     "output_type": "execute_result"
    }
   ],
   "source": [
    "Birth_rate"
   ]
  },
  {
   "cell_type": "code",
   "execution_count": 78,
   "id": "719d8d9a",
   "metadata": {},
   "outputs": [],
   "source": [
    "# Using 82years as the life expectancy of the people in UK , we will now calculate the death rate with two ranges \n",
    "\n",
    "#Age range    count\n",
    "#(78-83)     =263 \n",
    "#(84-89)     =209.\n",
    "Number_of_deaths =263-209"
   ]
  },
  {
   "cell_type": "code",
   "execution_count": 79,
   "id": "c2454bda",
   "metadata": {},
   "outputs": [
    {
     "data": {
      "text/plain": [
       "54"
      ]
     },
     "execution_count": 79,
     "metadata": {},
     "output_type": "execute_result"
    }
   ],
   "source": [
    "Number_of_deaths"
   ]
  },
  {
   "cell_type": "code",
   "execution_count": 80,
   "id": "26e5d6b8",
   "metadata": {},
   "outputs": [],
   "source": [
    "Death_rate=Number_of_deaths*1000/len(census_data)/5# calculating death rate per 1000"
   ]
  },
  {
   "cell_type": "code",
   "execution_count": 81,
   "id": "33d4a594",
   "metadata": {},
   "outputs": [
    {
     "data": {
      "text/plain": [
       "1.296829971181556"
      ]
     },
     "execution_count": 81,
     "metadata": {},
     "output_type": "execute_result"
    }
   ],
   "source": [
    "Death_rate"
   ]
  },
  {
   "cell_type": "code",
   "execution_count": 82,
   "id": "149253f7",
   "metadata": {},
   "outputs": [],
   "source": [
    "Growth_rate= Birth_rate-Death_rate"
   ]
  },
  {
   "cell_type": "code",
   "execution_count": 83,
   "id": "66147f73",
   "metadata": {},
   "outputs": [
    {
     "name": "stdout",
     "output_type": "stream",
     "text": [
      "The growth rate per one thousand is 9.269932756964458\n"
     ]
    }
   ],
   "source": [
    "print(f'The growth rate per one thousand is {Growth_rate}')"
   ]
  },
  {
   "cell_type": "markdown",
   "id": "d4437f80",
   "metadata": {},
   "source": [
    "### Unemployment rate calculation per 1000 population per year"
   ]
  },
  {
   "cell_type": "code",
   "execution_count": 84,
   "id": "009c38ae",
   "metadata": {},
   "outputs": [],
   "source": [
    "unemployed_population = census_data[census_data['Occupation'] == 'Unemployed']\n",
    "#people above 65 are assumed to be retired as observeed in the UK\n",
    "unemployed_population = unemployed_population[unemployed_population['Age'] < 65]"
   ]
  },
  {
   "cell_type": "code",
   "execution_count": 85,
   "id": "3e0299db",
   "metadata": {},
   "outputs": [
    {
     "data": {
      "text/html": [
       "<div>\n",
       "<style scoped>\n",
       "    .dataframe tbody tr th:only-of-type {\n",
       "        vertical-align: middle;\n",
       "    }\n",
       "\n",
       "    .dataframe tbody tr th {\n",
       "        vertical-align: top;\n",
       "    }\n",
       "\n",
       "    .dataframe thead th {\n",
       "        text-align: right;\n",
       "    }\n",
       "</style>\n",
       "<table border=\"1\" class=\"dataframe\">\n",
       "  <thead>\n",
       "    <tr style=\"text-align: right;\">\n",
       "      <th></th>\n",
       "      <th>House Number</th>\n",
       "      <th>Street</th>\n",
       "      <th>First Name</th>\n",
       "      <th>Surname</th>\n",
       "      <th>Age</th>\n",
       "      <th>Relationship to Head of House</th>\n",
       "      <th>Marital Status</th>\n",
       "      <th>Gender</th>\n",
       "      <th>Occupation</th>\n",
       "      <th>Infirmity</th>\n",
       "      <th>Religion</th>\n",
       "      <th>Age Range</th>\n",
       "    </tr>\n",
       "  </thead>\n",
       "  <tbody>\n",
       "    <tr>\n",
       "      <th>53</th>\n",
       "      <td>22</td>\n",
       "      <td>Scott Dale</td>\n",
       "      <td>Norman</td>\n",
       "      <td>Nicholls</td>\n",
       "      <td>23</td>\n",
       "      <td>Head</td>\n",
       "      <td>Single</td>\n",
       "      <td>Male</td>\n",
       "      <td>Unemployed</td>\n",
       "      <td>None</td>\n",
       "      <td>Catholic</td>\n",
       "      <td>20-24</td>\n",
       "    </tr>\n",
       "    <tr>\n",
       "      <th>75</th>\n",
       "      <td>2</td>\n",
       "      <td>Lee Shoal</td>\n",
       "      <td>Clifford</td>\n",
       "      <td>Porter</td>\n",
       "      <td>49</td>\n",
       "      <td>Husband</td>\n",
       "      <td>Married</td>\n",
       "      <td>Male</td>\n",
       "      <td>Unemployed</td>\n",
       "      <td>None</td>\n",
       "      <td>Christian</td>\n",
       "      <td>45-49</td>\n",
       "    </tr>\n",
       "    <tr>\n",
       "      <th>102</th>\n",
       "      <td>14</td>\n",
       "      <td>Lee Shoal</td>\n",
       "      <td>Barry</td>\n",
       "      <td>Taylor</td>\n",
       "      <td>63</td>\n",
       "      <td>Head</td>\n",
       "      <td>Single</td>\n",
       "      <td>Male</td>\n",
       "      <td>Unemployed</td>\n",
       "      <td>None</td>\n",
       "      <td>None</td>\n",
       "      <td>60-64</td>\n",
       "    </tr>\n",
       "    <tr>\n",
       "      <th>103</th>\n",
       "      <td>15</td>\n",
       "      <td>Lee Shoal</td>\n",
       "      <td>Alison</td>\n",
       "      <td>Miles</td>\n",
       "      <td>39</td>\n",
       "      <td>Head</td>\n",
       "      <td>Single</td>\n",
       "      <td>Female</td>\n",
       "      <td>Unemployed</td>\n",
       "      <td>None</td>\n",
       "      <td>Methodist</td>\n",
       "      <td>35-39</td>\n",
       "    </tr>\n",
       "    <tr>\n",
       "      <th>109</th>\n",
       "      <td>17</td>\n",
       "      <td>Lee Shoal</td>\n",
       "      <td>Aaron</td>\n",
       "      <td>Lees</td>\n",
       "      <td>36</td>\n",
       "      <td>Head</td>\n",
       "      <td>Single</td>\n",
       "      <td>Male</td>\n",
       "      <td>Unemployed</td>\n",
       "      <td>None</td>\n",
       "      <td>None</td>\n",
       "      <td>35-39</td>\n",
       "    </tr>\n",
       "    <tr>\n",
       "      <th>...</th>\n",
       "      <td>...</td>\n",
       "      <td>...</td>\n",
       "      <td>...</td>\n",
       "      <td>...</td>\n",
       "      <td>...</td>\n",
       "      <td>...</td>\n",
       "      <td>...</td>\n",
       "      <td>...</td>\n",
       "      <td>...</td>\n",
       "      <td>...</td>\n",
       "      <td>...</td>\n",
       "      <td>...</td>\n",
       "    </tr>\n",
       "    <tr>\n",
       "      <th>8260</th>\n",
       "      <td>1</td>\n",
       "      <td>Wilson Castle</td>\n",
       "      <td>Trevor</td>\n",
       "      <td>Price</td>\n",
       "      <td>49</td>\n",
       "      <td>Cousin</td>\n",
       "      <td>Single</td>\n",
       "      <td>Male</td>\n",
       "      <td>Unemployed</td>\n",
       "      <td>None</td>\n",
       "      <td>Christian</td>\n",
       "      <td>45-49</td>\n",
       "    </tr>\n",
       "    <tr>\n",
       "      <th>8275</th>\n",
       "      <td>1</td>\n",
       "      <td>Stephens Factory</td>\n",
       "      <td>Georgia</td>\n",
       "      <td>Bennett</td>\n",
       "      <td>43</td>\n",
       "      <td>Wife</td>\n",
       "      <td>Married</td>\n",
       "      <td>Female</td>\n",
       "      <td>Unemployed</td>\n",
       "      <td>None</td>\n",
       "      <td>Catholic</td>\n",
       "      <td>40-44</td>\n",
       "    </tr>\n",
       "    <tr>\n",
       "      <th>8285</th>\n",
       "      <td>1</td>\n",
       "      <td>Dublin House</td>\n",
       "      <td>Gareth</td>\n",
       "      <td>Hill</td>\n",
       "      <td>40</td>\n",
       "      <td>Partner</td>\n",
       "      <td>Single</td>\n",
       "      <td>Male</td>\n",
       "      <td>Unemployed</td>\n",
       "      <td>None</td>\n",
       "      <td>None</td>\n",
       "      <td>35-39</td>\n",
       "    </tr>\n",
       "    <tr>\n",
       "      <th>8293</th>\n",
       "      <td>1</td>\n",
       "      <td>Faith Bastion</td>\n",
       "      <td>Emma</td>\n",
       "      <td>Lawson</td>\n",
       "      <td>50</td>\n",
       "      <td>Head</td>\n",
       "      <td>Married</td>\n",
       "      <td>Female</td>\n",
       "      <td>Unemployed</td>\n",
       "      <td>None</td>\n",
       "      <td>None</td>\n",
       "      <td>45-49</td>\n",
       "    </tr>\n",
       "    <tr>\n",
       "      <th>8324</th>\n",
       "      <td>1</td>\n",
       "      <td>Walker Palace</td>\n",
       "      <td>Adrian</td>\n",
       "      <td>Mason</td>\n",
       "      <td>56</td>\n",
       "      <td>Lodger</td>\n",
       "      <td>Single</td>\n",
       "      <td>Male</td>\n",
       "      <td>Unemployed</td>\n",
       "      <td>None</td>\n",
       "      <td>Muslim</td>\n",
       "      <td>55-59</td>\n",
       "    </tr>\n",
       "  </tbody>\n",
       "</table>\n",
       "<p>472 rows × 12 columns</p>\n",
       "</div>"
      ],
      "text/plain": [
       "      House Number            Street First Name   Surname  Age  \\\n",
       "53              22        Scott Dale     Norman  Nicholls   23   \n",
       "75               2         Lee Shoal   Clifford    Porter   49   \n",
       "102             14         Lee Shoal      Barry    Taylor   63   \n",
       "103             15         Lee Shoal     Alison     Miles   39   \n",
       "109             17         Lee Shoal      Aaron      Lees   36   \n",
       "...            ...               ...        ...       ...  ...   \n",
       "8260             1     Wilson Castle     Trevor     Price   49   \n",
       "8275             1  Stephens Factory    Georgia   Bennett   43   \n",
       "8285             1      Dublin House     Gareth      Hill   40   \n",
       "8293             1     Faith Bastion       Emma    Lawson   50   \n",
       "8324             1     Walker Palace     Adrian     Mason   56   \n",
       "\n",
       "     Relationship to Head of House Marital Status  Gender  Occupation  \\\n",
       "53                            Head         Single    Male  Unemployed   \n",
       "75                         Husband        Married    Male  Unemployed   \n",
       "102                           Head         Single    Male  Unemployed   \n",
       "103                           Head         Single  Female  Unemployed   \n",
       "109                           Head         Single    Male  Unemployed   \n",
       "...                            ...            ...     ...         ...   \n",
       "8260                        Cousin         Single    Male  Unemployed   \n",
       "8275                          Wife        Married  Female  Unemployed   \n",
       "8285                       Partner         Single    Male  Unemployed   \n",
       "8293                          Head        Married  Female  Unemployed   \n",
       "8324                        Lodger         Single    Male  Unemployed   \n",
       "\n",
       "     Infirmity   Religion Age Range  \n",
       "53        None   Catholic     20-24  \n",
       "75        None  Christian     45-49  \n",
       "102       None       None     60-64  \n",
       "103       None  Methodist     35-39  \n",
       "109       None       None     35-39  \n",
       "...        ...        ...       ...  \n",
       "8260      None  Christian     45-49  \n",
       "8275      None   Catholic     40-44  \n",
       "8285      None       None     35-39  \n",
       "8293      None       None     45-49  \n",
       "8324      None     Muslim     55-59  \n",
       "\n",
       "[472 rows x 12 columns]"
      ]
     },
     "execution_count": 85,
     "metadata": {},
     "output_type": "execute_result"
    }
   ],
   "source": [
    "unemployed_population"
   ]
  },
  {
   "cell_type": "code",
   "execution_count": 86,
   "id": "573e5390",
   "metadata": {},
   "outputs": [
    {
     "data": {
      "text/plain": [
       "array(['Engineer, building services', 'Engineer, mining', 'Unemployed',\n",
       "       ..., 'Retired Multimedia programmer',\n",
       "       'Retired Commercial/residential surveyor',\n",
       "       'Retired Control and instrumentation engineer'], dtype=object)"
      ]
     },
     "execution_count": 86,
     "metadata": {},
     "output_type": "execute_result"
    }
   ],
   "source": [
    "census_data[\"Occupation\"].unique() #checking the unique values of the ocuupation column "
   ]
  },
  {
   "cell_type": "code",
   "execution_count": 87,
   "id": "cdec85b8",
   "metadata": {},
   "outputs": [
    {
     "data": {
      "text/plain": [
       "Student                                         20.040826\n",
       "University Student                               6.712296\n",
       "Unemployed                                       6.159942\n",
       "Child                                            6.003842\n",
       "Secretary, company                               0.192123\n",
       "                                                  ...    \n",
       "Retired Immunologist                             0.012008\n",
       "Retired Furniture designer                       0.012008\n",
       "Hydrogeologist                                   0.012008\n",
       "Retired Engineering geologist                    0.012008\n",
       "Retired Control and instrumentation engineer     0.012008\n",
       "Name: Occupation, Length: 1058, dtype: float64"
      ]
     },
     "execution_count": 87,
     "metadata": {},
     "output_type": "execute_result"
    }
   ],
   "source": [
    "census_data[\"Occupation\"].value_counts(normalize=True)*100 #displaaying the respective percentages that make up the occupation column"
   ]
  },
  {
   "cell_type": "code",
   "execution_count": 88,
   "id": "9eeab8fd",
   "metadata": {},
   "outputs": [
    {
     "data": {
      "text/plain": [
       "56.67627281460135"
      ]
     },
     "execution_count": 88,
     "metadata": {},
     "output_type": "execute_result"
    }
   ],
   "source": [
    "#unmployment rate calculation (unemployment per 1,000 population per year)\n",
    "\n",
    "unemployment_rate = len(unemployed_population) * 1000/ len(census_data)\n",
    "\n",
    "unemployment_rate"
   ]
  },
  {
   "cell_type": "code",
   "execution_count": 89,
   "id": "accf3394",
   "metadata": {},
   "outputs": [
    {
     "name": "stdout",
     "output_type": "stream",
     "text": [
      "The unemployment percentage is 5.67%\n"
     ]
    }
   ],
   "source": [
    "#Getting the unemployment rate calculation\n",
    "percentage_unemployment = round(len(unemployed_population) * 100/ len(census_data),2)\n",
    "\n",
    "print(f\"The unemployment percentage is {percentage_unemployment}%\")"
   ]
  },
  {
   "cell_type": "code",
   "execution_count": 90,
   "id": "3d119630",
   "metadata": {},
   "outputs": [
    {
     "data": {
      "text/plain": [
       "Text(0, 0.5, 'Unemployment Rate')"
      ]
     },
     "execution_count": 90,
     "metadata": {},
     "output_type": "execute_result"
    },
    {
     "data": {
      "image/png": "[encoded data removed]",
      "text/plain": [
       "<Figure size 1800x1000 with 1 Axes>"
      ]
     },
     "metadata": {},
     "output_type": "display_data"
    }
   ],
   "source": [
    "plt.figure(figsize= (18,10))\n",
    "\n",
    "unemployment_plot = sns.countplot(data = unemployed_population, x = 'Age Range', order=distribution_list, hue = 'Gender'  )\n",
    "unemployment_plot.set_title('counts of unemployed  by Age')\n",
    "unemployment_plot.set_ylabel('Unemployment Rate')"
   ]
  },
  {
   "cell_type": "markdown",
   "id": "3f4a688f",
   "metadata": {},
   "source": [
    "## Immigration rate calculation  per 1000 population per year"
   ]
  },
  {
   "cell_type": "markdown",
   "id": "ccac7fa1",
   "metadata": {},
   "source": [
    "From the data set, we are using the lodgers and the visitors "
   ]
  },
  {
   "cell_type": "code",
   "execution_count": 91,
   "id": "cf225825",
   "metadata": {},
   "outputs": [],
   "source": [
    "immigrants = census_data[((census_data['Relationship to Head of House'] == 'Visitor')| (census_data['Relationship to Head of House']=='Lodger'))]\n",
    "immigrants = len(immigrants)"
   ]
  },
  {
   "cell_type": "code",
   "execution_count": 92,
   "id": "2bc8f0ed",
   "metadata": {},
   "outputs": [
    {
     "data": {
      "text/plain": [
       "51.99327569644573"
      ]
     },
     "execution_count": 92,
     "metadata": {},
     "output_type": "execute_result"
    }
   ],
   "source": [
    "immigration_rate = immigrants * 1000/ len(census_data)\n",
    "immigration_rate"
   ]
  },
  {
   "cell_type": "markdown",
   "id": "9d9325ea",
   "metadata": {},
   "source": [
    "#### Calculating the immigration percentage of the population:"
   ]
  },
  {
   "cell_type": "code",
   "execution_count": 93,
   "id": "42c9f8ff",
   "metadata": {},
   "outputs": [
    {
     "name": "stdout",
     "output_type": "stream",
     "text": [
      " The immigration rate percentage is 5.2%\n"
     ]
    }
   ],
   "source": [
    "percentage_immigration = round((immigrants) * 100/ len(census_data),2)\n",
    "\n",
    "print(f\" The immigration rate percentage is {percentage_immigration}%\")"
   ]
  },
  {
   "cell_type": "code",
   "execution_count": 94,
   "id": "8da2c5c1",
   "metadata": {},
   "outputs": [
    {
     "data": {
      "text/plain": [
       "146"
      ]
     },
     "execution_count": 94,
     "metadata": {},
     "output_type": "execute_result"
    }
   ],
   "source": [
    "Number_of_Male_divorcees=299\n",
    "Number_of_Female_divorcees=445\n",
    "Divorcees_difference=Number_of_Female_divorcees-Number_of_Male_divorcees\n",
    "Divorcees_difference"
   ]
  },
  {
   "cell_type": "code",
   "execution_count": 95,
   "id": "8c865296",
   "metadata": {},
   "outputs": [
    {
     "data": {
      "text/plain": [
       "17.531219980787704"
      ]
     },
     "execution_count": 95,
     "metadata": {},
     "output_type": "execute_result"
    }
   ],
   "source": [
    "Emigration_rate= Divorcees_difference*1000/len(census_data)\n",
    "Emigration_rate"
   ]
  },
  {
   "cell_type": "markdown",
   "id": "00a6d7d6",
   "metadata": {},
   "source": [
    "#### Calculating the emigration percentage of the population:"
   ]
  },
  {
   "cell_type": "code",
   "execution_count": 96,
   "id": "02cc25b2",
   "metadata": {},
   "outputs": [
    {
     "name": "stdout",
     "output_type": "stream",
     "text": [
      " The emigration rate percentage is 2.11%\n"
     ]
    }
   ],
   "source": [
    "percentage_emigration = round((Emigration_rate) * 1000/ len(census_data),2)\n",
    "\n",
    "print(f\" The emigration rate percentage is {percentage_emigration}%\")"
   ]
  },
  {
   "cell_type": "markdown",
   "id": "803d6d45",
   "metadata": {},
   "source": [
    "### Marriage rate calculation per 1,000 population per year"
   ]
  },
  {
   "cell_type": "code",
   "execution_count": 97,
   "id": "4b575d79",
   "metadata": {},
   "outputs": [
    {
     "data": {
      "text/plain": [
       "266.9308357348703"
      ]
     },
     "execution_count": 97,
     "metadata": {},
     "output_type": "execute_result"
    }
   ],
   "source": [
    "marriage = census_data[census_data['Marital Status'] == 'Married']\n",
    "\n",
    "Marriage_rate = len(marriage) * 1000/ len(census_data)\n",
    "Marriage_rate"
   ]
  },
  {
   "cell_type": "code",
   "execution_count": 98,
   "id": "54d084e1",
   "metadata": {},
   "outputs": [
    {
     "data": {
      "text/plain": [
       "2223"
      ]
     },
     "execution_count": 98,
     "metadata": {},
     "output_type": "execute_result"
    }
   ],
   "source": [
    "census_data[census_data['Marital Status'] == 'Married']['Marital Status'].count()"
   ]
  },
  {
   "cell_type": "code",
   "execution_count": 99,
   "id": "71f5b7d8",
   "metadata": {},
   "outputs": [
    {
     "name": "stdout",
     "output_type": "stream",
     "text": [
      " The marriage percentage rate is 26.69%\n"
     ]
    }
   ],
   "source": [
    "percentage_marriage_rate = round(len(marriage) * 100/ len(census_data),2)\n",
    "print(f\" The marriage percentage rate is {percentage_marriage_rate}%\")"
   ]
  },
  {
   "cell_type": "code",
   "execution_count": 100,
   "id": "f2fa1711",
   "metadata": {},
   "outputs": [
    {
     "data": {
      "text/plain": [
       "Text(0.5, 1.0, 'Marital status')"
      ]
     },
     "execution_count": 100,
     "metadata": {},
     "output_type": "execute_result"
    },
    {
     "data": {
      "image/png": "[encoded data removed]",
      "text/plain": [
       "<Figure size 1800x900 with 1 Axes>"
      ]
     },
     "metadata": {},
     "output_type": "display_data"
    }
   ],
   "source": [
    "plt.figure(figsize= (18,9))\n",
    "marriage_plot = sns.countplot(data = census_data, x = 'Marital Status', hue = 'Gender' )\n",
    "marriage_plot.set_title  ('Marital status')"
   ]
  },
  {
   "cell_type": "markdown",
   "id": "7db05228",
   "metadata": {},
   "source": [
    "From the above graph , we can see that there are more single people in the population than any other marital status"
   ]
  },
  {
   "cell_type": "code",
   "execution_count": 101,
   "id": "114d35ad",
   "metadata": {},
   "outputs": [
    {
     "data": {
      "text/plain": [
       "Single       35.338617\n",
       "Married      26.693084\n",
       "Below Age    24.711816\n",
       "Divorced      8.933718\n",
       "Widowed       4.322767\n",
       "Name: Marital Status, dtype: float64"
      ]
     },
     "execution_count": 101,
     "metadata": {},
     "output_type": "execute_result"
    }
   ],
   "source": [
    "census_data[\"Marital Status\"].value_counts(normalize=True)*100"
   ]
  },
  {
   "cell_type": "markdown",
   "id": "098e7842",
   "metadata": {},
   "source": [
    "#### Grouping the dataframe by marital status and gender"
   ]
  },
  {
   "cell_type": "code",
   "execution_count": 102,
   "id": "6f017e3d",
   "metadata": {},
   "outputs": [
    {
     "name": "stdout",
     "output_type": "stream",
     "text": [
      "Gender Marital Status  Female  Male  Female-to-Male Ratio\n",
      "0           Below Age    1004  1054              0.952562\n",
      "1            Divorced     445   299              1.488294\n",
      "2             Married    1115  1108              1.006318\n",
      "3              Single    1532  1411              1.085755\n",
      "4             Widowed     206   154              1.337662\n"
     ]
    }
   ],
   "source": [
    "grouped = census_data.groupby(['Marital Status', 'Gender']).size().reset_index(name='count')\n",
    "# pivot the table to create a separate column for male and female counts\n",
    "pivoted = grouped.pivot(index='Marital Status', columns='Gender', values='count').reset_index()\n",
    "# calculate the female-to-male ratio for each marital status group\n",
    "pivoted['Female-to-Male Ratio'] = pivoted['Female'] / pivoted['Male']\n",
    "print(pivoted)"
   ]
  },
  {
   "cell_type": "markdown",
   "id": "cd5805e7",
   "metadata": {},
   "source": [
    "### Divorce rate calculation per 1,000 population per year"
   ]
  },
  {
   "cell_type": "code",
   "execution_count": 103,
   "id": "b7566e96",
   "metadata": {},
   "outputs": [],
   "source": [
    "divorce = census_data[census_data['Marital Status'] == 'Divorced']"
   ]
  },
  {
   "cell_type": "code",
   "execution_count": 104,
   "id": "fcd3f01a",
   "metadata": {},
   "outputs": [
    {
     "data": {
      "text/plain": [
       "744"
      ]
     },
     "execution_count": 104,
     "metadata": {},
     "output_type": "execute_result"
    }
   ],
   "source": [
    "#getting the total number of divorce\n",
    "len(divorce)"
   ]
  },
  {
   "cell_type": "code",
   "execution_count": 105,
   "id": "78603424",
   "metadata": {},
   "outputs": [
    {
     "data": {
      "text/plain": [
       "89.33717579250721"
      ]
     },
     "execution_count": 105,
     "metadata": {},
     "output_type": "execute_result"
    }
   ],
   "source": [
    "#Calculating divorce rate (divorce per 1,000 population per year)\n",
    "Divorce_rate = len(divorce)* 1000/ len(census_data)\n",
    "Divorce_rate"
   ]
  },
  {
   "cell_type": "markdown",
   "id": "cd5af663",
   "metadata": {},
   "source": [
    "#### Calculating the divorce rate percentage of the population"
   ]
  },
  {
   "cell_type": "code",
   "execution_count": 106,
   "id": "5c9a4f58",
   "metadata": {},
   "outputs": [
    {
     "name": "stdout",
     "output_type": "stream",
     "text": [
      " The divorce rate percentage is 8.93%\n"
     ]
    }
   ],
   "source": [
    "Divorce_rate_percentage = round(len(divorce)* 100/ len(census_data),2)\n",
    "\n",
    "print(f\" The divorce rate percentage is {Divorce_rate_percentage}%\")"
   ]
  },
  {
   "cell_type": "code",
   "execution_count": 107,
   "id": "3a249109",
   "metadata": {},
   "outputs": [
    {
     "data": {
      "text/plain": [
       "Text(0.5, 1.0, 'Divorce Count by Age')"
      ]
     },
     "execution_count": 107,
     "metadata": {},
     "output_type": "execute_result"
    },
    {
     "data": {
      "image/png": "[encoded data removed]",
      "text/plain": [
       "<Figure size 1800x900 with 1 Axes>"
      ]
     },
     "metadata": {},
     "output_type": "display_data"
    }
   ],
   "source": [
    "plt.figure(figsize= (18,9))\n",
    "divorce_plot = sns.countplot(data = divorce, x = 'Age Range', order=distribution_list, hue = 'Gender' )\n",
    "divorce_plot.set_title  ('Divorce Count by Age')"
   ]
  },
  {
   "cell_type": "markdown",
   "id": "2ac17c0c",
   "metadata": {},
   "source": [
    "From the graph we can see that age-range  of 35-39 has the highest number of divorce rate, and the females are more divorced than the males"
   ]
  },
  {
   "cell_type": "markdown",
   "id": "1ab49b01",
   "metadata": {},
   "source": [
    "## RELIGION CALCULATION"
   ]
  },
  {
   "cell_type": "code",
   "execution_count": 108,
   "id": "07f091f7",
   "metadata": {},
   "outputs": [
    {
     "data": {
      "text/plain": [
       "None         4904\n",
       "Christian    1781\n",
       "Catholic      881\n",
       "Methodist     548\n",
       "Muslim        115\n",
       "Sikh           55\n",
       "Jewish         38\n",
       "Unknown         3\n",
       "Quaker          2\n",
       "Buddist         1\n",
       "Name: Religion, dtype: int64"
      ]
     },
     "execution_count": 108,
     "metadata": {},
     "output_type": "execute_result"
    }
   ],
   "source": [
    "census_data['Religion'].value_counts()"
   ]
  },
  {
   "cell_type": "markdown",
   "id": "3af7bc83",
   "metadata": {},
   "source": [
    "#### Calculating the mean age for each religion "
   ]
  },
  {
   "cell_type": "code",
   "execution_count": 109,
   "id": "4ec55833",
   "metadata": {},
   "outputs": [
    {
     "name": "stdout",
     "output_type": "stream",
     "text": [
      "Catholic:  42.79568671963678\n",
      "Methodist:  44.16240875912409\n",
      "None:  27.595024469820554\n",
      "Christian:  49.760247052217856\n",
      "Sikh:  34.29090909090909\n",
      "Muslim:  36.21739130434783\n",
      "Jewish:  46.8421052631579\n",
      "Buddist:  32.0\n",
      "Unknown:  44.333333333333336\n",
      "Quaker:  21.5\n"
     ]
    }
   ],
   "source": [
    "for i in census_data['Religion'].unique():\n",
    "    avg = census_data['Age'][census_data['Religion'] == i].mean()\n",
    "    print(f'{i}:  {avg}')"
   ]
  },
  {
   "cell_type": "markdown",
   "id": "04e8661d",
   "metadata": {},
   "source": [
    "#### Now we calculate the modal age for each religion "
   ]
  },
  {
   "cell_type": "code",
   "execution_count": 110,
   "id": "fa2455c0",
   "metadata": {},
   "outputs": [
    {
     "name": "stdout",
     "output_type": "stream",
     "text": [
      "Catholic:  44\n",
      "Methodist:  40\n",
      "None:  14\n",
      "Christian:  53\n",
      "Sikh:  24\n",
      "Muslim:  29\n",
      "Jewish:  44\n",
      "Buddist:  32\n",
      "Unknown:  23\n",
      "Quaker:  20\n"
     ]
    }
   ],
   "source": [
    "for i in census_data['Religion'].unique():\n",
    "    mode = census_data['Age'][census_data['Religion'] == i].mode()[0].round(3)\n",
    "    print(f'{i}:  {mode}')"
   ]
  },
  {
   "cell_type": "markdown",
   "id": "72f3c3c4",
   "metadata": {},
   "source": [
    "#### Now calculating the median age for each religion"
   ]
  },
  {
   "cell_type": "code",
   "execution_count": 111,
   "id": "82f7db49",
   "metadata": {},
   "outputs": [
    {
     "name": "stdout",
     "output_type": "stream",
     "text": [
      "Catholic:  42.0\n",
      "Methodist:  42.0\n",
      "None:  22.0\n",
      "Christian:  51.0\n",
      "Sikh:  31.0\n",
      "Muslim:  31.0\n",
      "Jewish:  44.0\n",
      "Buddist:  32.0\n",
      "Unknown:  25.0\n",
      "Quaker:  21.5\n"
     ]
    }
   ],
   "source": [
    "for i in census_data['Religion'].unique():\n",
    "    median = census_data['Age'][census_data['Religion'] == i].median()\n",
    "    print(f'{i}:  {median}')"
   ]
  },
  {
   "cell_type": "code",
   "execution_count": 112,
   "id": "6e3cb11d",
   "metadata": {},
   "outputs": [
    {
     "data": {
      "text/plain": [
       "None         58.885687\n",
       "Christian    21.385687\n",
       "Catholic     10.578770\n",
       "Methodist     6.580211\n",
       "Muslim        1.380884\n",
       "Sikh          0.660423\n",
       "Jewish        0.456292\n",
       "Unknown       0.036023\n",
       "Quaker        0.024015\n",
       "Buddist       0.012008\n",
       "Name: Religion, dtype: float64"
      ]
     },
     "execution_count": 112,
     "metadata": {},
     "output_type": "execute_result"
    }
   ],
   "source": [
    "census_data[\"Religion\"].value_counts(normalize=True)*100"
   ]
  },
  {
   "cell_type": "code",
   "execution_count": 113,
   "id": "05e41e51",
   "metadata": {},
   "outputs": [
    {
     "data": {
      "image/png": "[encoded data removed]",
      "text/plain": [
       "<Figure size 640x480 with 1 Axes>"
      ]
     },
     "metadata": {},
     "output_type": "display_data"
    }
   ],
   "source": [
    "sns.countplot(data = census_data, x = \"Religion\")\n",
    "plt.xticks(rotation = 90);"
   ]
  },
  {
   "cell_type": "code",
   "execution_count": 114,
   "id": "d29f3eca",
   "metadata": {},
   "outputs": [
    {
     "data": {
      "text/plain": [
       "Text(0.5, 1.0, 'Religion distribution')"
      ]
     },
     "execution_count": 114,
     "metadata": {},
     "output_type": "execute_result"
    },
    {
     "data": {
      "image/png": "[encoded data removed]",
      "text/plain": [
       "<Figure size 1800x900 with 1 Axes>"
      ]
     },
     "metadata": {},
     "output_type": "display_data"
    }
   ],
   "source": [
    "plt.figure(figsize= (18,9))\n",
    "marriage_plot = sns.countplot(data = census_data, x = 'Religion', hue = 'Gender' )\n",
    "marriage_plot.set_title  ('Religion distribution')"
   ]
  },
  {
   "cell_type": "code",
   "execution_count": 115,
   "id": "75d96cc7",
   "metadata": {},
   "outputs": [
    {
     "data": {
      "text/plain": [
       "Text(0.5, 1.0, 'Religion Distrbution By Age')"
      ]
     },
     "execution_count": 115,
     "metadata": {},
     "output_type": "execute_result"
    },
    {
     "data": {
      "image/png": "[encoded data removed]",
      "text/plain": [
       "<Figure size 1000x600 with 1 Axes>"
      ]
     },
     "metadata": {},
     "output_type": "display_data"
    }
   ],
   "source": [
    "plt.figure(figsize=(10,6))\n",
    "religion_plot = sns.boxplot(y ='Religion', x = 'Age', data = census_data)\n",
    "religion_plot.set_title ('Religion Distrbution By Age')"
   ]
  },
  {
   "cell_type": "markdown",
   "id": "92e6a82c",
   "metadata": {},
   "source": [
    " ###  INFIRMITY CALCULATION"
   ]
  },
  {
   "cell_type": "code",
   "execution_count": 116,
   "id": "828f0017",
   "metadata": {},
   "outputs": [
    {
     "data": {
      "text/plain": [
       "None                   8260\n",
       "Physical Disability      17\n",
       "Unknown Infection        16\n",
       "Mental Disability        13\n",
       "Blind                    10\n",
       "Deaf                      8\n",
       "Disabled                  4\n",
       "Name: Infirmity, dtype: int64"
      ]
     },
     "execution_count": 116,
     "metadata": {},
     "output_type": "execute_result"
    }
   ],
   "source": [
    "census_data['Infirmity'].value_counts() #Count of values under the infirmity column"
   ]
  },
  {
   "cell_type": "code",
   "execution_count": 117,
   "id": "2d08f1c7",
   "metadata": {},
   "outputs": [
    {
     "data": {
      "text/plain": [
       "None                   99.183477\n",
       "Physical Disability     0.204131\n",
       "Unknown Infection       0.192123\n",
       "Mental Disability       0.156100\n",
       "Blind                   0.120077\n",
       "Deaf                    0.096061\n",
       "Disabled                0.048031\n",
       "Name: Infirmity, dtype: float64"
      ]
     },
     "execution_count": 117,
     "metadata": {},
     "output_type": "execute_result"
    }
   ],
   "source": [
    "census_data[\"Infirmity\"].value_counts(normalize=True)*100 #percentage composition of the infirmity"
   ]
  },
  {
   "cell_type": "code",
   "execution_count": 118,
   "id": "c8c25866",
   "metadata": {},
   "outputs": [
    {
     "data": {
      "image/png": "[encoded data removed]",
      "text/plain": [
       "<Figure size 640x480 with 1 Axes>"
      ]
     },
     "metadata": {},
     "output_type": "display_data"
    }
   ],
   "source": [
    "x = census_data[\"Age\"]\n",
    "y = census_data[\"Infirmity\"]\n",
    "plt.scatter(x, y)\n",
    "plt.xlabel(\"Age\")\n",
    "plt.ylabel(\"Infirmity\")\n",
    "plt.title(\"Scatter Plot of Age against Infirmity\")\n",
    "plt.show()"
   ]
  },
  {
   "cell_type": "markdown",
   "id": "0f077cf1",
   "metadata": {},
   "source": [
    "scatterplot graph above shows that aged peopleover 80years are really not affected by the infirmity as we have only one case of bind person over 80years"
   ]
  },
  {
   "cell_type": "code",
   "execution_count": 119,
   "id": "ea3fac5f",
   "metadata": {},
   "outputs": [
    {
     "data": {
      "text/plain": [
       "Text(0.5, 1.0, 'Infirmity Distrbution By Age')"
      ]
     },
     "execution_count": 119,
     "metadata": {},
     "output_type": "execute_result"
    },
    {
     "data": {
      "image/png": "[encoded data removed]",
      "text/plain": [
       "<Figure size 1000x700 with 1 Axes>"
      ]
     },
     "metadata": {},
     "output_type": "display_data"
    }
   ],
   "source": [
    "plt.figure(figsize=(10,7))\n",
    "Infirmity_plot = sns.boxplot(y ='Infirmity', x = 'Age', data = census_data)\n",
    "Infirmity_plot.set_title ('Infirmity Distrbution By Age')"
   ]
  },
  {
   "cell_type": "markdown",
   "id": "bba1dddd",
   "metadata": {},
   "source": [
    "From the above boxplot , shows that the majority of the infirmity were noticed on the younger age range"
   ]
  },
  {
   "cell_type": "markdown",
   "id": "a3700649",
   "metadata": {},
   "source": [
    "### OCCUPANCY CALCULATION"
   ]
  },
  {
   "cell_type": "code",
   "execution_count": 120,
   "id": "859d33b2",
   "metadata": {},
   "outputs": [
    {
     "data": {
      "text/html": [
       "<div>\n",
       "<style scoped>\n",
       "    .dataframe tbody tr th:only-of-type {\n",
       "        vertical-align: middle;\n",
       "    }\n",
       "\n",
       "    .dataframe tbody tr th {\n",
       "        vertical-align: top;\n",
       "    }\n",
       "\n",
       "    .dataframe thead th {\n",
       "        text-align: right;\n",
       "    }\n",
       "</style>\n",
       "<table border=\"1\" class=\"dataframe\">\n",
       "  <thead>\n",
       "    <tr style=\"text-align: right;\">\n",
       "      <th></th>\n",
       "      <th>House Number</th>\n",
       "      <th>Street</th>\n",
       "      <th>occupants</th>\n",
       "    </tr>\n",
       "  </thead>\n",
       "  <tbody>\n",
       "    <tr>\n",
       "      <th>0</th>\n",
       "      <td>1</td>\n",
       "      <td>Alba Crescent</td>\n",
       "      <td>2</td>\n",
       "    </tr>\n",
       "    <tr>\n",
       "      <th>1</th>\n",
       "      <td>1</td>\n",
       "      <td>Allen Mission</td>\n",
       "      <td>1</td>\n",
       "    </tr>\n",
       "    <tr>\n",
       "      <th>2</th>\n",
       "      <td>1</td>\n",
       "      <td>Andrews Mill</td>\n",
       "      <td>4</td>\n",
       "    </tr>\n",
       "    <tr>\n",
       "      <th>3</th>\n",
       "      <td>1</td>\n",
       "      <td>Armaghspan Avenue</td>\n",
       "      <td>1</td>\n",
       "    </tr>\n",
       "    <tr>\n",
       "      <th>4</th>\n",
       "      <td>1</td>\n",
       "      <td>Bangorthorpe Avenue</td>\n",
       "      <td>2</td>\n",
       "    </tr>\n",
       "    <tr>\n",
       "      <th>...</th>\n",
       "      <td>...</td>\n",
       "      <td>...</td>\n",
       "      <td>...</td>\n",
       "    </tr>\n",
       "    <tr>\n",
       "      <th>2819</th>\n",
       "      <td>203</td>\n",
       "      <td>Wessex Drive</td>\n",
       "      <td>1</td>\n",
       "    </tr>\n",
       "    <tr>\n",
       "      <th>2820</th>\n",
       "      <td>204</td>\n",
       "      <td>Wessex Drive</td>\n",
       "      <td>2</td>\n",
       "    </tr>\n",
       "    <tr>\n",
       "      <th>2821</th>\n",
       "      <td>205</td>\n",
       "      <td>Wessex Drive</td>\n",
       "      <td>1</td>\n",
       "    </tr>\n",
       "    <tr>\n",
       "      <th>2822</th>\n",
       "      <td>206</td>\n",
       "      <td>Wessex Drive</td>\n",
       "      <td>4</td>\n",
       "    </tr>\n",
       "    <tr>\n",
       "      <th>2823</th>\n",
       "      <td>207</td>\n",
       "      <td>Wessex Drive</td>\n",
       "      <td>3</td>\n",
       "    </tr>\n",
       "  </tbody>\n",
       "</table>\n",
       "<p>2824 rows × 3 columns</p>\n",
       "</div>"
      ],
      "text/plain": [
       "      House Number               Street  occupants\n",
       "0                1        Alba Crescent          2\n",
       "1                1        Allen Mission          1\n",
       "2                1         Andrews Mill          4\n",
       "3                1    Armaghspan Avenue          1\n",
       "4                1  Bangorthorpe Avenue          2\n",
       "...            ...                  ...        ...\n",
       "2819           203         Wessex Drive          1\n",
       "2820           204         Wessex Drive          2\n",
       "2821           205         Wessex Drive          1\n",
       "2822           206         Wessex Drive          4\n",
       "2823           207         Wessex Drive          3\n",
       "\n",
       "[2824 rows x 3 columns]"
      ]
     },
     "execution_count": 120,
     "metadata": {},
     "output_type": "execute_result"
    }
   ],
   "source": [
    "ax=census_data.groupby(['House Number','Street'])\n",
    "home_occupancy=ax.size().reset_index(name='occupants')\n",
    "home_occupancy"
   ]
  },
  {
   "cell_type": "code",
   "execution_count": 121,
   "id": "8762ef54",
   "metadata": {},
   "outputs": [
    {
     "data": {
      "text/html": [
       "<div>\n",
       "<style scoped>\n",
       "    .dataframe tbody tr th:only-of-type {\n",
       "        vertical-align: middle;\n",
       "    }\n",
       "\n",
       "    .dataframe tbody tr th {\n",
       "        vertical-align: top;\n",
       "    }\n",
       "\n",
       "    .dataframe thead th {\n",
       "        text-align: right;\n",
       "    }\n",
       "</style>\n",
       "<table border=\"1\" class=\"dataframe\">\n",
       "  <thead>\n",
       "    <tr style=\"text-align: right;\">\n",
       "      <th></th>\n",
       "      <th>House Number</th>\n",
       "      <th>occupants</th>\n",
       "    </tr>\n",
       "  </thead>\n",
       "  <tbody>\n",
       "    <tr>\n",
       "      <th>count</th>\n",
       "      <td>2824.000000</td>\n",
       "      <td>2824.000000</td>\n",
       "    </tr>\n",
       "    <tr>\n",
       "      <th>mean</th>\n",
       "      <td>29.295326</td>\n",
       "      <td>2.949008</td>\n",
       "    </tr>\n",
       "    <tr>\n",
       "      <th>std</th>\n",
       "      <td>34.552643</td>\n",
       "      <td>2.045589</td>\n",
       "    </tr>\n",
       "    <tr>\n",
       "      <th>min</th>\n",
       "      <td>1.000000</td>\n",
       "      <td>1.000000</td>\n",
       "    </tr>\n",
       "    <tr>\n",
       "      <th>25%</th>\n",
       "      <td>9.000000</td>\n",
       "      <td>2.000000</td>\n",
       "    </tr>\n",
       "    <tr>\n",
       "      <th>50%</th>\n",
       "      <td>19.000000</td>\n",
       "      <td>2.000000</td>\n",
       "    </tr>\n",
       "    <tr>\n",
       "      <th>75%</th>\n",
       "      <td>35.000000</td>\n",
       "      <td>4.000000</td>\n",
       "    </tr>\n",
       "    <tr>\n",
       "      <th>max</th>\n",
       "      <td>207.000000</td>\n",
       "      <td>22.000000</td>\n",
       "    </tr>\n",
       "  </tbody>\n",
       "</table>\n",
       "</div>"
      ],
      "text/plain": [
       "       House Number    occupants\n",
       "count   2824.000000  2824.000000\n",
       "mean      29.295326     2.949008\n",
       "std       34.552643     2.045589\n",
       "min        1.000000     1.000000\n",
       "25%        9.000000     2.000000\n",
       "50%       19.000000     2.000000\n",
       "75%       35.000000     4.000000\n",
       "max      207.000000    22.000000"
      ]
     },
     "execution_count": 121,
     "metadata": {},
     "output_type": "execute_result"
    }
   ],
   "source": [
    "home_occupancy.describe() #showing an appproximately 3persons per house , which depicts not crowded"
   ]
  },
  {
   "cell_type": "code",
   "execution_count": 122,
   "id": "06d60c38",
   "metadata": {},
   "outputs": [
    {
     "data": {
      "text/plain": [
       "Text(0.5, 1.0, 'occupants count')"
      ]
     },
     "execution_count": 122,
     "metadata": {},
     "output_type": "execute_result"
    },
    {
     "data": {
      "image/png": "[encoded data removed]",
      "text/plain": [
       "<Figure size 1000x700 with 1 Axes>"
      ]
     },
     "metadata": {},
     "output_type": "display_data"
    }
   ],
   "source": [
    "plt.figure(figsize=(10,7))\n",
    "occupant_plot = sns.countplot(x ='occupants', data = home_occupancy)#plotting of a countplot of occupants\n",
    "occupant_plot.set_title ('occupants count')"
   ]
  },
  {
   "cell_type": "markdown",
   "id": "7e8fc2b5",
   "metadata": {},
   "source": [
    "### OCCUPATION CALCULATION"
   ]
  },
  {
   "cell_type": "code",
   "execution_count": 123,
   "id": "a9d64293",
   "metadata": {},
   "outputs": [],
   "source": [
    "def occupation_grouping(occup): #developing a function to categorize all the types of jobs in the dataset\n",
    "    if occup == 'PhD Student': #when occup is a phd student\n",
    "        occup = 'University Student'#the function returns university student when the occupation is a phd student\n",
    "    if 'Retired' in occup: #when occup is retired\n",
    "        occup = 'Retired' ##the function returns retired when the occupation is retired\n",
    "    if 'Unemployed' in occup: #if occup is unemployed\n",
    "        occup = 'Unemployed' ##the function returns unemployed when the occupation is unemployed\n",
    "    if occup not in ['University Student', 'Student','Retired','Unemployed','Child']:\n",
    "        occup = 'Employed'#if the occup does not match any of these listed items , it is classified as employed\n",
    "    else:\n",
    "        pass\n",
    "    return occup"
   ]
  },
  {
   "cell_type": "code",
   "execution_count": 125,
   "id": "5ad738d6",
   "metadata": {},
   "outputs": [],
   "source": [
    "census_data['Job_Status']=census_data['Occupation'].map(occupation_grouping)#creating a new column in the dataset;dataframe that categorizes jobstatus based on occupation"
   ]
  },
  {
   "cell_type": "code",
   "execution_count": 126,
   "id": "13d3c97f",
   "metadata": {},
   "outputs": [
    {
     "data": {
      "text/plain": [
       "0         Employed\n",
       "1         Employed\n",
       "2       Unemployed\n",
       "3          Retired\n",
       "4         Employed\n",
       "           ...    \n",
       "8324    Unemployed\n",
       "8325      Employed\n",
       "8326      Employed\n",
       "8327         Child\n",
       "8328      Employed\n",
       "Name: Job_Status, Length: 8328, dtype: object"
      ]
     },
     "execution_count": 126,
     "metadata": {},
     "output_type": "execute_result"
    }
   ],
   "source": [
    "census_data['Job_Status']"
   ]
  },
  {
   "cell_type": "code",
   "execution_count": 127,
   "id": "0595b963",
   "metadata": {},
   "outputs": [
    {
     "data": {
      "text/html": [
       "<div>\n",
       "<style scoped>\n",
       "    .dataframe tbody tr th:only-of-type {\n",
       "        vertical-align: middle;\n",
       "    }\n",
       "\n",
       "    .dataframe tbody tr th {\n",
       "        vertical-align: top;\n",
       "    }\n",
       "\n",
       "    .dataframe thead th {\n",
       "        text-align: right;\n",
       "    }\n",
       "</style>\n",
       "<table border=\"1\" class=\"dataframe\">\n",
       "  <thead>\n",
       "    <tr style=\"text-align: right;\">\n",
       "      <th></th>\n",
       "      <th>House Number</th>\n",
       "      <th>Street</th>\n",
       "      <th>First Name</th>\n",
       "      <th>Surname</th>\n",
       "      <th>Age</th>\n",
       "      <th>Relationship to Head of House</th>\n",
       "      <th>Marital Status</th>\n",
       "      <th>Gender</th>\n",
       "      <th>Occupation</th>\n",
       "      <th>Infirmity</th>\n",
       "      <th>Religion</th>\n",
       "      <th>Age Range</th>\n",
       "      <th>Job_Status</th>\n",
       "    </tr>\n",
       "  </thead>\n",
       "  <tbody>\n",
       "    <tr>\n",
       "      <th>0</th>\n",
       "      <td>1</td>\n",
       "      <td>Scott Dale</td>\n",
       "      <td>Maureen</td>\n",
       "      <td>Cox</td>\n",
       "      <td>50</td>\n",
       "      <td>Head</td>\n",
       "      <td>Single</td>\n",
       "      <td>Female</td>\n",
       "      <td>Engineer, building services</td>\n",
       "      <td>None</td>\n",
       "      <td>Catholic</td>\n",
       "      <td>45-49</td>\n",
       "      <td>Employed</td>\n",
       "    </tr>\n",
       "    <tr>\n",
       "      <th>1</th>\n",
       "      <td>1</td>\n",
       "      <td>Scott Dale</td>\n",
       "      <td>Rhys</td>\n",
       "      <td>Brown</td>\n",
       "      <td>52</td>\n",
       "      <td>Partner</td>\n",
       "      <td>Single</td>\n",
       "      <td>Male</td>\n",
       "      <td>Engineer, mining</td>\n",
       "      <td>None</td>\n",
       "      <td>Catholic</td>\n",
       "      <td>50-54</td>\n",
       "      <td>Employed</td>\n",
       "    </tr>\n",
       "    <tr>\n",
       "      <th>2</th>\n",
       "      <td>2</td>\n",
       "      <td>Scott Dale</td>\n",
       "      <td>Lorraine</td>\n",
       "      <td>Allen</td>\n",
       "      <td>69</td>\n",
       "      <td>Head</td>\n",
       "      <td>Married</td>\n",
       "      <td>Female</td>\n",
       "      <td>Unemployed</td>\n",
       "      <td>None</td>\n",
       "      <td>Methodist</td>\n",
       "      <td>65-69</td>\n",
       "      <td>Unemployed</td>\n",
       "    </tr>\n",
       "    <tr>\n",
       "      <th>3</th>\n",
       "      <td>2</td>\n",
       "      <td>Scott Dale</td>\n",
       "      <td>Lewis</td>\n",
       "      <td>Allen</td>\n",
       "      <td>72</td>\n",
       "      <td>Husband</td>\n",
       "      <td>Married</td>\n",
       "      <td>Male</td>\n",
       "      <td>Retired Associate Professor</td>\n",
       "      <td>None</td>\n",
       "      <td>Methodist</td>\n",
       "      <td>70-74</td>\n",
       "      <td>Retired</td>\n",
       "    </tr>\n",
       "    <tr>\n",
       "      <th>4</th>\n",
       "      <td>3</td>\n",
       "      <td>Scott Dale</td>\n",
       "      <td>Molly</td>\n",
       "      <td>Patel</td>\n",
       "      <td>36</td>\n",
       "      <td>Head</td>\n",
       "      <td>Married</td>\n",
       "      <td>Female</td>\n",
       "      <td>Engineer, land</td>\n",
       "      <td>None</td>\n",
       "      <td>None</td>\n",
       "      <td>35-39</td>\n",
       "      <td>Employed</td>\n",
       "    </tr>\n",
       "    <tr>\n",
       "      <th>...</th>\n",
       "      <td>...</td>\n",
       "      <td>...</td>\n",
       "      <td>...</td>\n",
       "      <td>...</td>\n",
       "      <td>...</td>\n",
       "      <td>...</td>\n",
       "      <td>...</td>\n",
       "      <td>...</td>\n",
       "      <td>...</td>\n",
       "      <td>...</td>\n",
       "      <td>...</td>\n",
       "      <td>...</td>\n",
       "      <td>...</td>\n",
       "    </tr>\n",
       "    <tr>\n",
       "      <th>8324</th>\n",
       "      <td>1</td>\n",
       "      <td>Walker Palace</td>\n",
       "      <td>Adrian</td>\n",
       "      <td>Mason</td>\n",
       "      <td>56</td>\n",
       "      <td>Lodger</td>\n",
       "      <td>Single</td>\n",
       "      <td>Male</td>\n",
       "      <td>Unemployed</td>\n",
       "      <td>None</td>\n",
       "      <td>Muslim</td>\n",
       "      <td>55-59</td>\n",
       "      <td>Unemployed</td>\n",
       "    </tr>\n",
       "    <tr>\n",
       "      <th>8325</th>\n",
       "      <td>1</td>\n",
       "      <td>Poole Stronghold</td>\n",
       "      <td>Beth</td>\n",
       "      <td>Evans</td>\n",
       "      <td>43</td>\n",
       "      <td>Head</td>\n",
       "      <td>Married</td>\n",
       "      <td>Female</td>\n",
       "      <td>Buyer, retail</td>\n",
       "      <td>None</td>\n",
       "      <td>Christian</td>\n",
       "      <td>40-44</td>\n",
       "      <td>Employed</td>\n",
       "    </tr>\n",
       "    <tr>\n",
       "      <th>8326</th>\n",
       "      <td>1</td>\n",
       "      <td>Poole Stronghold</td>\n",
       "      <td>Trevor</td>\n",
       "      <td>Evans</td>\n",
       "      <td>43</td>\n",
       "      <td>Husband</td>\n",
       "      <td>Married</td>\n",
       "      <td>Male</td>\n",
       "      <td>Patent examiner</td>\n",
       "      <td>None</td>\n",
       "      <td>Christian</td>\n",
       "      <td>40-44</td>\n",
       "      <td>Employed</td>\n",
       "    </tr>\n",
       "    <tr>\n",
       "      <th>8327</th>\n",
       "      <td>1</td>\n",
       "      <td>Poole Stronghold</td>\n",
       "      <td>Pamela</td>\n",
       "      <td>Evans</td>\n",
       "      <td>0</td>\n",
       "      <td>Daughter</td>\n",
       "      <td>Below Age</td>\n",
       "      <td>Female</td>\n",
       "      <td>Child</td>\n",
       "      <td>None</td>\n",
       "      <td>None</td>\n",
       "      <td>NaN</td>\n",
       "      <td>Child</td>\n",
       "    </tr>\n",
       "    <tr>\n",
       "      <th>8328</th>\n",
       "      <td>1</td>\n",
       "      <td>Poole Stronghold</td>\n",
       "      <td>Carol</td>\n",
       "      <td>Thomas</td>\n",
       "      <td>24</td>\n",
       "      <td>Sibling</td>\n",
       "      <td>Single</td>\n",
       "      <td>Female</td>\n",
       "      <td>Administrator, charities/voluntary organisations</td>\n",
       "      <td>None</td>\n",
       "      <td>Christian</td>\n",
       "      <td>20-24</td>\n",
       "      <td>Employed</td>\n",
       "    </tr>\n",
       "  </tbody>\n",
       "</table>\n",
       "<p>8328 rows × 13 columns</p>\n",
       "</div>"
      ],
      "text/plain": [
       "      House Number            Street First Name Surname  Age  \\\n",
       "0                1        Scott Dale    Maureen     Cox   50   \n",
       "1                1        Scott Dale       Rhys   Brown   52   \n",
       "2                2        Scott Dale   Lorraine   Allen   69   \n",
       "3                2        Scott Dale      Lewis   Allen   72   \n",
       "4                3        Scott Dale      Molly   Patel   36   \n",
       "...            ...               ...        ...     ...  ...   \n",
       "8324             1     Walker Palace     Adrian   Mason   56   \n",
       "8325             1  Poole Stronghold       Beth   Evans   43   \n",
       "8326             1  Poole Stronghold     Trevor   Evans   43   \n",
       "8327             1  Poole Stronghold     Pamela   Evans    0   \n",
       "8328             1  Poole Stronghold      Carol  Thomas   24   \n",
       "\n",
       "     Relationship to Head of House Marital Status  Gender  \\\n",
       "0                             Head         Single  Female   \n",
       "1                          Partner         Single    Male   \n",
       "2                             Head        Married  Female   \n",
       "3                          Husband        Married    Male   \n",
       "4                             Head        Married  Female   \n",
       "...                            ...            ...     ...   \n",
       "8324                        Lodger         Single    Male   \n",
       "8325                          Head        Married  Female   \n",
       "8326                       Husband        Married    Male   \n",
       "8327                      Daughter      Below Age  Female   \n",
       "8328                       Sibling         Single  Female   \n",
       "\n",
       "                                            Occupation Infirmity   Religion  \\\n",
       "0                          Engineer, building services      None   Catholic   \n",
       "1                                     Engineer, mining      None   Catholic   \n",
       "2                                           Unemployed      None  Methodist   \n",
       "3                          Retired Associate Professor      None  Methodist   \n",
       "4                                       Engineer, land      None       None   \n",
       "...                                                ...       ...        ...   \n",
       "8324                                        Unemployed      None     Muslim   \n",
       "8325                                     Buyer, retail      None  Christian   \n",
       "8326                                   Patent examiner      None  Christian   \n",
       "8327                                             Child      None       None   \n",
       "8328  Administrator, charities/voluntary organisations      None  Christian   \n",
       "\n",
       "     Age Range  Job_Status  \n",
       "0        45-49    Employed  \n",
       "1        50-54    Employed  \n",
       "2        65-69  Unemployed  \n",
       "3        70-74     Retired  \n",
       "4        35-39    Employed  \n",
       "...        ...         ...  \n",
       "8324     55-59  Unemployed  \n",
       "8325     40-44    Employed  \n",
       "8326     40-44    Employed  \n",
       "8327       NaN       Child  \n",
       "8328     20-24    Employed  \n",
       "\n",
       "[8328 rows x 13 columns]"
      ]
     },
     "execution_count": 127,
     "metadata": {},
     "output_type": "execute_result"
    }
   ],
   "source": [
    "census_data"
   ]
  },
  {
   "cell_type": "code",
   "execution_count": 128,
   "id": "ac1a489a",
   "metadata": {},
   "outputs": [
    {
     "data": {
      "text/plain": [
       "Employed              53.037944\n",
       "Student               20.040826\n",
       "Retired                7.877041\n",
       "University Student     6.880403\n",
       "Unemployed             6.159942\n",
       "Child                  6.003842\n",
       "Name: Job_Status, dtype: float64"
      ]
     },
     "execution_count": 128,
     "metadata": {},
     "output_type": "execute_result"
    }
   ],
   "source": [
    "census_data[\"Job_Status\"].value_counts(normalize=True)*100 #The percentage distribution of the job status column"
   ]
  },
  {
   "cell_type": "code",
   "execution_count": 129,
   "id": "067815cb",
   "metadata": {},
   "outputs": [
    {
     "data": {
      "image/png": "[encoded data removed]",
      "text/plain": [
       "<Figure size 640x480 with 1 Axes>"
      ]
     },
     "metadata": {},
     "output_type": "display_data"
    }
   ],
   "source": [
    "counts = census_data['Job_Status'].value_counts()\n",
    "\n",
    "\n",
    "percentages = counts.div(len(census_data['Job_Status'])) * 100 # Get the percentages by dividing the counts by the total number of values\n",
    "\n",
    "\n",
    "percentages.plot.pie(autopct='%1.1f%%')# Create a pie chart of the percentages\n",
    "\n",
    "plt.title('Pie Chart of Job_Status')#title of the pie chart\n",
    "\n",
    "plt.show()# Display the chart"
   ]
  },
  {
   "cell_type": "code",
   "execution_count": 130,
   "id": "a0f4fdbd",
   "metadata": {},
   "outputs": [
    {
     "data": {
      "image/png": "[encoded data removed]",
      "text/plain": [
       "<Figure size 640x480 with 1 Axes>"
      ]
     },
     "metadata": {},
     "output_type": "display_data"
    }
   ],
   "source": [
    "counts = census_data['Job_Status'].value_counts()\n",
    "counts.plot.bar()\n",
    "\n",
    "plt.xticks(range(len(counts.index)), counts.index)# Setting the x-axis labels to the unique values in the column\n",
    "\n",
    "plt.ylabel('Count')# Setting the y-axis label to the count of values in the column\n",
    "\n",
    "plt.title('Bar Chart of My Column')# we will Add a title to the chart\n",
    "\n",
    "plt.show()# Display the chart\n",
    "\n",
    "\n",
    "\n",
    "\n",
    "\n"
   ]
  },
  {
   "cell_type": "code",
   "execution_count": null,
   "id": "de321ebf",
   "metadata": {},
   "outputs": [],
   "source": []
  }
 ],
 "metadata": {
  "kernelspec": {
   "display_name": "Python 3 (ipykernel)",
   "language": "python",
   "name": "python3"
  },
  "language_info": {
   "codemirror_mode": {
    "name": "ipython",
    "version": 3
   },
   "file_extension": ".py",
   "mimetype": "text/x-python",
   "name": "python",
   "nbconvert_exporter": "python",
   "pygments_lexer": "ipython3",
   "version": "3.9.17"
  }
 },
 "nbformat": 4,
 "nbformat_minor": 5
}
